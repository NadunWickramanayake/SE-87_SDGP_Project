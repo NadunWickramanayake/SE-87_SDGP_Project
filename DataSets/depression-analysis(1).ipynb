{
 "cells": [
  {
   "cell_type": "markdown",
   "id": "fefff765",
   "metadata": {
    "papermill": {
     "duration": 0.018123,
     "end_time": "2022-10-05T16:46:03.859815",
     "exception": false,
     "start_time": "2022-10-05T16:46:03.841692",
     "status": "completed"
    },
    "tags": []
   },
   "source": [
    "## Sentiment Analysis with transformers\n",
    "\n",
    "NLP (Natural Language Processing) has gained mommentum since the advent of transformers. Transformers such as BERT, GPTs and others have been successfully used in NLP for various tasks including text classification. In text classification there are several types of problems to deal with, which include sentiment analysis, author identification e.tc. In this notebook we will work through the use of transfer learning for sentiment analysis, in this specific case, can our model predict if a particular tweet is depression positive or not? If we are able to succede in this use case, that means we can use this for organizations to quickly respond to such cases. We will be using data found on kaggle."
   ]
  },
  {
   "cell_type": "markdown",
   "id": "5b34c08d",
   "metadata": {
    "papermill": {
     "duration": 0.015874,
     "end_time": "2022-10-05T16:46:03.892042",
     "exception": false,
     "start_time": "2022-10-05T16:46:03.876168",
     "status": "completed"
    },
    "tags": []
   },
   "source": [
    "### Load data, do EDA and split dataset"
   ]
  },
  {
   "cell_type": "code",
   "execution_count": null,
   "id": "3583cc1a",
   "metadata": {
    "execution": {
     "iopub.execute_input": "2022-10-05T16:46:03.926954Z",
     "iopub.status.busy": "2022-10-05T16:46:03.926170Z",
     "iopub.status.idle": "2022-10-05T16:46:03.931779Z",
     "shell.execute_reply": "2022-10-05T16:46:03.930858Z"
    },
    "papermill": {
     "duration": 0.026145,
     "end_time": "2022-10-05T16:46:03.934469",
     "exception": false,
     "start_time": "2022-10-05T16:46:03.908324",
     "status": "completed"
    },
    "tags": []
   },
   "outputs": [],
   "source": []
  },
  {
   "cell_type": "code",
   "execution_count": 1,
   "id": "37919299",
   "metadata": {
    "execution": {
     "iopub.execute_input": "2022-10-05T16:46:03.968772Z",
     "iopub.status.busy": "2022-10-05T16:46:03.967957Z",
     "iopub.status.idle": "2022-10-05T16:46:04.794572Z",
     "shell.execute_reply": "2022-10-05T16:46:04.793610Z"
    },
    "papermill": {
     "duration": 0.846067,
     "end_time": "2022-10-05T16:46:04.796947",
     "exception": false,
     "start_time": "2022-10-05T16:46:03.950880",
     "status": "completed"
    },
    "tags": []
   },
   "outputs": [],
   "source": [
    "#Import necessary libraries\n",
    "import pandas as pd\n",
    "from sklearn.metrics import classification_report, confusion_matrix, accuracy_score\n",
    "import random\n",
    "import numpy as np"
   ]
  },
  {
   "cell_type": "code",
   "execution_count": 2,
   "id": "a8f4abad",
   "metadata": {
    "execution": {
     "iopub.execute_input": "2022-10-05T16:46:04.831646Z",
     "iopub.status.busy": "2022-10-05T16:46:04.830767Z",
     "iopub.status.idle": "2022-10-05T16:46:06.522796Z",
     "shell.execute_reply": "2022-10-05T16:46:06.521693Z"
    },
    "papermill": {
     "duration": 1.712057,
     "end_time": "2022-10-05T16:46:06.525657",
     "exception": false,
     "start_time": "2022-10-05T16:46:04.813600",
     "status": "completed"
    },
    "tags": []
   },
   "outputs": [],
   "source": [
    "import warnings,transformers,logging,torch\n",
    "warnings.simplefilter('ignore')\n",
    "logging.disable(logging.WARNING)"
   ]
  },
  {
   "cell_type": "code",
   "execution_count": 3,
   "id": "9f5d06f8",
   "metadata": {
    "execution": {
     "iopub.execute_input": "2022-10-05T16:46:06.560681Z",
     "iopub.status.busy": "2022-10-05T16:46:06.560465Z",
     "iopub.status.idle": "2022-10-05T16:46:06.623317Z",
     "shell.execute_reply": "2022-10-05T16:46:06.622267Z"
    },
    "papermill": {
     "duration": 0.08298,
     "end_time": "2022-10-05T16:46:06.625798",
     "exception": false,
     "start_time": "2022-10-05T16:46:06.542818",
     "status": "completed"
    },
    "tags": []
   },
   "outputs": [
    {
     "data": {
      "text/html": [
       "<div>\n",
       "<style scoped>\n",
       "    .dataframe tbody tr th:only-of-type {\n",
       "        vertical-align: middle;\n",
       "    }\n",
       "\n",
       "    .dataframe tbody tr th {\n",
       "        vertical-align: top;\n",
       "    }\n",
       "\n",
       "    .dataframe thead th {\n",
       "        text-align: right;\n",
       "    }\n",
       "</style>\n",
       "<table border=\"1\" class=\"dataframe\">\n",
       "  <thead>\n",
       "    <tr style=\"text-align: right;\">\n",
       "      <th></th>\n",
       "      <th>textID</th>\n",
       "      <th>text</th>\n",
       "      <th>selected_text</th>\n",
       "      <th>sentiment</th>\n",
       "      <th>label</th>\n",
       "    </tr>\n",
       "  </thead>\n",
       "  <tbody>\n",
       "    <tr>\n",
       "      <th>0</th>\n",
       "      <td>cb774db0d1</td>\n",
       "      <td>I`d have responded, if I were going</td>\n",
       "      <td>I`d have responded, if I were going</td>\n",
       "      <td>neutral</td>\n",
       "      <td>0.0</td>\n",
       "    </tr>\n",
       "    <tr>\n",
       "      <th>1</th>\n",
       "      <td>549e992a42</td>\n",
       "      <td>Sooo SAD I will miss you here in San Diego!!!</td>\n",
       "      <td>Sooo SAD</td>\n",
       "      <td>negative</td>\n",
       "      <td>0.0</td>\n",
       "    </tr>\n",
       "    <tr>\n",
       "      <th>2</th>\n",
       "      <td>088c60f138</td>\n",
       "      <td>my boss is bullying me...</td>\n",
       "      <td>bullying me</td>\n",
       "      <td>negative</td>\n",
       "      <td>0.0</td>\n",
       "    </tr>\n",
       "    <tr>\n",
       "      <th>3</th>\n",
       "      <td>9642c003ef</td>\n",
       "      <td>what interview! leave me alone</td>\n",
       "      <td>leave me alone</td>\n",
       "      <td>negative</td>\n",
       "      <td>0.0</td>\n",
       "    </tr>\n",
       "    <tr>\n",
       "      <th>4</th>\n",
       "      <td>358bd9e861</td>\n",
       "      <td>Sons of ****, why couldn`t they put them on t...</td>\n",
       "      <td>Sons of ****,</td>\n",
       "      <td>negative</td>\n",
       "      <td>0.0</td>\n",
       "    </tr>\n",
       "  </tbody>\n",
       "</table>\n",
       "</div>"
      ],
      "text/plain": [
       "       textID                                               text  \\\n",
       "0  cb774db0d1                I`d have responded, if I were going   \n",
       "1  549e992a42      Sooo SAD I will miss you here in San Diego!!!   \n",
       "2  088c60f138                          my boss is bullying me...   \n",
       "3  9642c003ef                     what interview! leave me alone   \n",
       "4  358bd9e861   Sons of ****, why couldn`t they put them on t...   \n",
       "\n",
       "                         selected_text sentiment  label  \n",
       "0  I`d have responded, if I were going   neutral    0.0  \n",
       "1                             Sooo SAD  negative    0.0  \n",
       "2                          bullying me  negative    0.0  \n",
       "3                       leave me alone  negative    0.0  \n",
       "4                        Sons of ****,  negative    0.0  "
      ]
     },
     "execution_count": 3,
     "metadata": {},
     "output_type": "execute_result"
    }
   ],
   "source": [
    "#Load data\n",
    "\n",
    "df = pd.read_csv(\"Tweets.csv\")\n",
    "df.head()"
   ]
  },
  {
   "cell_type": "code",
   "execution_count": 4,
   "id": "c2171da3",
   "metadata": {
    "execution": {
     "iopub.execute_input": "2022-10-05T16:46:06.662754Z",
     "iopub.status.busy": "2022-10-05T16:46:06.661255Z",
     "iopub.status.idle": "2022-10-05T16:46:06.669846Z",
     "shell.execute_reply": "2022-10-05T16:46:06.668919Z"
    },
    "papermill": {
     "duration": 0.029219,
     "end_time": "2022-10-05T16:46:06.672179",
     "exception": false,
     "start_time": "2022-10-05T16:46:06.642960",
     "status": "completed"
    },
    "tags": []
   },
   "outputs": [
    {
     "data": {
      "text/plain": [
       "(27481, 5)"
      ]
     },
     "execution_count": 4,
     "metadata": {},
     "output_type": "execute_result"
    }
   ],
   "source": [
    "df.shape"
   ]
  },
  {
   "cell_type": "code",
   "execution_count": 5,
   "id": "2172011b",
   "metadata": {
    "execution": {
     "iopub.execute_input": "2022-10-05T16:46:06.706800Z",
     "iopub.status.busy": "2022-10-05T16:46:06.706580Z",
     "iopub.status.idle": "2022-10-05T16:46:06.718409Z",
     "shell.execute_reply": "2022-10-05T16:46:06.717457Z"
    },
    "papermill": {
     "duration": 0.031861,
     "end_time": "2022-10-05T16:46:06.720689",
     "exception": false,
     "start_time": "2022-10-05T16:46:06.688828",
     "status": "completed"
    },
    "tags": []
   },
   "outputs": [
    {
     "data": {
      "text/plain": [
       "neutral     0.404570\n",
       "positive    0.312288\n",
       "negative    0.283141\n",
       "Name: sentiment, dtype: float64"
      ]
     },
     "execution_count": 5,
     "metadata": {},
     "output_type": "execute_result"
    }
   ],
   "source": [
    "df['sentiment'].value_counts(normalize=True)"
   ]
  },
  {
   "cell_type": "markdown",
   "id": "7e529d74",
   "metadata": {
    "papermill": {
     "duration": 0.016795,
     "end_time": "2022-10-05T16:46:06.754434",
     "exception": false,
     "start_time": "2022-10-05T16:46:06.737639",
     "status": "completed"
    },
    "tags": []
   },
   "source": [
    "From the value counts above, we see that a naive model that always predict the negative classs would have a 77% accuracy, thus if we are using accuracy as our metrics for evaluating our model, then we must produce a model that has accuracy greater than 77%. Or better still we could use other forms of evaluation such as recall or precision. Before we continue the whole process, let us have an ultimate test set that we will not touch throughout the whole process."
   ]
  },
  {
   "cell_type": "code",
   "execution_count": 6,
   "id": "1c232165",
   "metadata": {
    "execution": {
     "iopub.execute_input": "2022-10-05T16:46:06.789355Z",
     "iopub.status.busy": "2022-10-05T16:46:06.789128Z",
     "iopub.status.idle": "2022-10-05T16:46:06.793723Z",
     "shell.execute_reply": "2022-10-05T16:46:06.792731Z"
    },
    "papermill": {
     "duration": 0.024497,
     "end_time": "2022-10-05T16:46:06.795714",
     "exception": false,
     "start_time": "2022-10-05T16:46:06.771217",
     "status": "completed"
    },
    "tags": []
   },
   "outputs": [],
   "source": [
    "pd.options.display.max_colwidth = 5000\n",
    "pd.set_option('display.max_rows', 500)"
   ]
  },
  {
   "cell_type": "code",
   "execution_count": 7,
   "id": "52e3a18d",
   "metadata": {
    "execution": {
     "iopub.execute_input": "2022-10-05T16:46:06.831742Z",
     "iopub.status.busy": "2022-10-05T16:46:06.830927Z",
     "iopub.status.idle": "2022-10-05T16:46:06.840266Z",
     "shell.execute_reply": "2022-10-05T16:46:06.839467Z"
    },
    "papermill": {
     "duration": 0.029496,
     "end_time": "2022-10-05T16:46:06.842218",
     "exception": false,
     "start_time": "2022-10-05T16:46:06.812722",
     "status": "completed"
    },
    "tags": []
   },
   "outputs": [
    {
     "data": {
      "text/plain": [
       "1                                                     Sooo SAD\n",
       "2                                                  bullying me\n",
       "3                                               leave me alone\n",
       "4                                                Sons of ****,\n",
       "12                                                 DANGERously\n",
       "13                                                        lost\n",
       "15                                       Uh oh, I am sunburned\n",
       "16                                                      *sigh*\n",
       "17                                                        sick\n",
       "18                                                        onna\n",
       "26                                                  I`m sorry.\n",
       "27                                                .no internet\n",
       "29                               Power back up not working too\n",
       "32          well so much for being unhappy for about 10 minute\n",
       "36                                                        miss\n",
       "38                                        soooooo sleeeeepy!!!\n",
       "46                                                   SUCKKKKKK\n",
       "48                                                dont like go\n",
       "49                        d I`m not thrilled at all with mine.\n",
       "53     it is ****...u have dissappointed me that past few days\n",
       "56                                                       hurts\n",
       "58                                          Torn ace of hearts\n",
       "60               i lost all my friends, i`m alone and sleepy..\n",
       "62                                         I give in to easily\n",
       "64                                                   jealous..\n",
       "76                                                      BADDD.\n",
       "78                                             I am sooo tired\n",
       "83                                                       Sick.\n",
       "84                                                , sorry guys\n",
       "88                                              i miss you bby\n",
       "93                                                       tired\n",
       "96                                                     freaked\n",
       "97                                               unfortunately\n",
       "102                                                  horrible,\n",
       "103                                                       busy\n",
       "115                                     I don`t feel confident\n",
       "116                                                       sad.\n",
       "122                                        Not looking forward\n",
       "123                                                   Poor you\n",
       "124                                                   not well\n",
       "132                                                   painful.\n",
       "133                                                       sad?\n",
       "139                            missed all the awesome weather,\n",
       "141                                                  terrible!\n",
       "142                                             Unfortunatley,\n",
       "143                                           That sucks, tho.\n",
       "144                                              Hate fighting\n",
       "146                  Car-warmed Sprite tastes like sore throat\n",
       "152                                                       hate\n",
       "154                               i don`t like the other ones.\n",
       "Name: selected_text, dtype: object"
      ]
     },
     "execution_count": 7,
     "metadata": {},
     "output_type": "execute_result"
    }
   ],
   "source": [
    "#Let us see further what makes a depression tweet, before we go ahead with the split\n",
    "\n",
    "df['selected_text'][df['sentiment']==\"negative\"][:50]"
   ]
  },
  {
   "cell_type": "markdown",
   "id": "1d5cdded",
   "metadata": {
    "papermill": {
     "duration": 0.027742,
     "end_time": "2022-10-05T16:46:06.887078",
     "exception": false,
     "start_time": "2022-10-05T16:46:06.859336",
     "status": "completed"
    },
    "tags": []
   },
   "source": [
    "From the above a common word found in depressive tweets are the words \"depression\" and \"anxiety\", sometimes, word like \"meds\" or \"medication\" also are seen. However, as these are common themes associated with depression tweets, let us also see non depression tweets that contain the common themes of depression."
   ]
  },
  {
   "cell_type": "code",
   "execution_count": 8,
   "id": "1a107570",
   "metadata": {
    "execution": {
     "iopub.execute_input": "2022-10-05T16:46:06.962306Z",
     "iopub.status.busy": "2022-10-05T16:46:06.961906Z",
     "iopub.status.idle": "2022-10-05T16:46:06.977358Z",
     "shell.execute_reply": "2022-10-05T16:46:06.970290Z"
    },
    "papermill": {
     "duration": 0.055687,
     "end_time": "2022-10-05T16:46:06.980542",
     "exception": false,
     "start_time": "2022-10-05T16:46:06.924855",
     "status": "completed"
    },
    "tags": []
   },
   "outputs": [],
   "source": [
    "#create copy of df\n",
    "df1 = df.copy()"
   ]
  },
  {
   "cell_type": "code",
   "execution_count": 9,
   "id": "8942b6bd",
   "metadata": {
    "execution": {
     "iopub.execute_input": "2022-10-05T16:46:07.041279Z",
     "iopub.status.busy": "2022-10-05T16:46:07.040930Z",
     "iopub.status.idle": "2022-10-05T16:46:07.074071Z",
     "shell.execute_reply": "2022-10-05T16:46:07.073229Z"
    },
    "papermill": {
     "duration": 0.061922,
     "end_time": "2022-10-05T16:46:07.076558",
     "exception": false,
     "start_time": "2022-10-05T16:46:07.014636",
     "status": "completed"
    },
    "tags": []
   },
   "outputs": [
    {
     "data": {
      "text/html": [
       "<div>\n",
       "<style scoped>\n",
       "    .dataframe tbody tr th:only-of-type {\n",
       "        vertical-align: middle;\n",
       "    }\n",
       "\n",
       "    .dataframe tbody tr th {\n",
       "        vertical-align: top;\n",
       "    }\n",
       "\n",
       "    .dataframe thead th {\n",
       "        text-align: right;\n",
       "    }\n",
       "</style>\n",
       "<table border=\"1\" class=\"dataframe\">\n",
       "  <thead>\n",
       "    <tr style=\"text-align: right;\">\n",
       "      <th></th>\n",
       "      <th>textID</th>\n",
       "      <th>text</th>\n",
       "      <th>selected_text</th>\n",
       "      <th>sentiment</th>\n",
       "      <th>label</th>\n",
       "    </tr>\n",
       "  </thead>\n",
       "  <tbody>\n",
       "    <tr>\n",
       "      <th>19877</th>\n",
       "      <td>42bba2feb9</td>\n",
       "      <td>Time for my ritualistic Friday night depression</td>\n",
       "      <td>Time for my ritualistic Friday night depression</td>\n",
       "      <td>negative</td>\n",
       "      <td>NaN</td>\n",
       "    </tr>\n",
       "    <tr>\n",
       "      <th>20978</th>\n",
       "      <td>2e4836d951</td>\n",
       "      <td>Having a light depression. Just payed an extra bill from last years taxes... Must find a country with a tax that is lower than 56%</td>\n",
       "      <td>depression.</td>\n",
       "      <td>negative</td>\n",
       "      <td>NaN</td>\n",
       "    </tr>\n",
       "  </tbody>\n",
       "</table>\n",
       "</div>"
      ],
      "text/plain": [
       "           textID  \\\n",
       "19877  42bba2feb9   \n",
       "20978  2e4836d951   \n",
       "\n",
       "                                                                                                                                     text  \\\n",
       "19877                                                                                     Time for my ritualistic Friday night depression   \n",
       "20978  Having a light depression. Just payed an extra bill from last years taxes... Must find a country with a tax that is lower than 56%   \n",
       "\n",
       "                                         selected_text sentiment  label  \n",
       "19877  Time for my ritualistic Friday night depression  negative    NaN  \n",
       "20978                                      depression.  negative    NaN  "
      ]
     },
     "execution_count": 9,
     "metadata": {},
     "output_type": "execute_result"
    }
   ],
   "source": [
    "mask = (df['text'].str.contains(\"[Dd]epression\")) & (df['sentiment'] == \"negative\")\n",
    "df[mask]"
   ]
  },
  {
   "cell_type": "code",
   "execution_count": 10,
   "id": "666663db",
   "metadata": {
    "execution": {
     "iopub.execute_input": "2022-10-05T16:46:07.127811Z",
     "iopub.status.busy": "2022-10-05T16:46:07.127480Z",
     "iopub.status.idle": "2022-10-05T16:46:07.158056Z",
     "shell.execute_reply": "2022-10-05T16:46:07.157224Z"
    },
    "papermill": {
     "duration": 0.05909,
     "end_time": "2022-10-05T16:46:07.160642",
     "exception": false,
     "start_time": "2022-10-05T16:46:07.101552",
     "status": "completed"
    },
    "tags": []
   },
   "outputs": [],
   "source": [
    "mask = (df['text'].str.lower().str.contains(r\"depression\")) & ((df['sentiment'] == \"postive\")|(df['sentiment'] == \"neutral\"))\n",
    "df[mask]#.head()\n",
    "df.columns\n",
    "df.columns = df.columns.str.strip()"
   ]
  },
  {
   "cell_type": "code",
   "execution_count": 11,
   "id": "f7566370",
   "metadata": {
    "execution": {
     "iopub.execute_input": "2022-10-05T16:46:07.212203Z",
     "iopub.status.busy": "2022-10-05T16:46:07.211866Z",
     "iopub.status.idle": "2022-10-05T16:46:07.222354Z",
     "shell.execute_reply": "2022-10-05T16:46:07.221478Z"
    },
    "papermill": {
     "duration": 0.038851,
     "end_time": "2022-10-05T16:46:07.225038",
     "exception": false,
     "start_time": "2022-10-05T16:46:07.186187",
     "status": "completed"
    },
    "tags": []
   },
   "outputs": [
    {
     "data": {
      "text/plain": [
       "19599    841817c75a\n",
       "Name: textID, dtype: object"
      ]
     },
     "execution_count": 11,
     "metadata": {},
     "output_type": "execute_result"
    }
   ],
   "source": [
    "non_idx = df[mask].textID\n",
    "non_idx"
   ]
  },
  {
   "cell_type": "markdown",
   "id": "33f81ad5",
   "metadata": {
    "papermill": {
     "duration": 0.024954,
     "end_time": "2022-10-05T16:46:07.275654",
     "exception": false,
     "start_time": "2022-10-05T16:46:07.250700",
     "status": "completed"
    },
    "tags": []
   },
   "source": [
    "From this we see something also interesting as tweets that do not contain the word depression but tagged positive depressive tweets do contain tweets that actually not point to depression. Let us clean this up and make use of this information to derive special tokens that can be implemented in what our model. "
   ]
  },
  {
   "cell_type": "code",
   "execution_count": 12,
   "id": "73b3cf0a",
   "metadata": {
    "execution": {
     "iopub.execute_input": "2022-10-05T16:46:07.328333Z",
     "iopub.status.busy": "2022-10-05T16:46:07.327998Z",
     "iopub.status.idle": "2022-10-05T16:46:07.339722Z",
     "shell.execute_reply": "2022-10-05T16:46:07.338974Z"
    },
    "papermill": {
     "duration": 0.04048,
     "end_time": "2022-10-05T16:46:07.342218",
     "exception": false,
     "start_time": "2022-10-05T16:46:07.301738",
     "status": "completed"
    },
    "tags": []
   },
   "outputs": [
    {
     "data": {
      "text/plain": [
       "(27480, 5)"
      ]
     },
     "execution_count": 12,
     "metadata": {},
     "output_type": "execute_result"
    }
   ],
   "source": [
    "df = df[~df[\"textID\"].isin(non_idx)]\n",
    "df.shape"
   ]
  },
  {
   "cell_type": "code",
   "execution_count": 13,
   "id": "ddc1902a",
   "metadata": {
    "execution": {
     "iopub.execute_input": "2022-10-05T16:46:07.395440Z",
     "iopub.status.busy": "2022-10-05T16:46:07.395086Z",
     "iopub.status.idle": "2022-10-05T16:46:07.421930Z",
     "shell.execute_reply": "2022-10-05T16:46:07.421069Z"
    },
    "papermill": {
     "duration": 0.057212,
     "end_time": "2022-10-05T16:46:07.425226",
     "exception": false,
     "start_time": "2022-10-05T16:46:07.368014",
     "status": "completed"
    },
    "tags": []
   },
   "outputs": [],
   "source": [
    "dep_anx = (df['text'].str.contains(\"depression\")) & (df['text'].str.contains(\"anxiety\"))"
   ]
  },
  {
   "cell_type": "code",
   "execution_count": 14,
   "id": "6c097cea",
   "metadata": {
    "execution": {
     "iopub.execute_input": "2022-10-05T16:46:07.471410Z",
     "iopub.status.busy": "2022-10-05T16:46:07.471206Z",
     "iopub.status.idle": "2022-10-05T16:46:07.488051Z",
     "shell.execute_reply": "2022-10-05T16:46:07.487221Z"
    },
    "papermill": {
     "duration": 0.037345,
     "end_time": "2022-10-05T16:46:07.489951",
     "exception": false,
     "start_time": "2022-10-05T16:46:07.452606",
     "status": "completed"
    },
    "tags": []
   },
   "outputs": [
    {
     "data": {
      "text/html": [
       "<div>\n",
       "<style scoped>\n",
       "    .dataframe tbody tr th:only-of-type {\n",
       "        vertical-align: middle;\n",
       "    }\n",
       "\n",
       "    .dataframe tbody tr th {\n",
       "        vertical-align: top;\n",
       "    }\n",
       "\n",
       "    .dataframe thead th {\n",
       "        text-align: right;\n",
       "    }\n",
       "</style>\n",
       "<table border=\"1\" class=\"dataframe\">\n",
       "  <thead>\n",
       "    <tr style=\"text-align: right;\">\n",
       "      <th></th>\n",
       "      <th>textID</th>\n",
       "      <th>text</th>\n",
       "      <th>selected_text</th>\n",
       "      <th>sentiment</th>\n",
       "      <th>label</th>\n",
       "      <th>spectok</th>\n",
       "    </tr>\n",
       "  </thead>\n",
       "  <tbody>\n",
       "    <tr>\n",
       "      <th>0</th>\n",
       "      <td>cb774db0d1</td>\n",
       "      <td>I`d have responded, if I were going</td>\n",
       "      <td>I`d have responded, if I were going</td>\n",
       "      <td>neutral</td>\n",
       "      <td>0.0</td>\n",
       "      <td>[False]</td>\n",
       "    </tr>\n",
       "    <tr>\n",
       "      <th>1</th>\n",
       "      <td>549e992a42</td>\n",
       "      <td>Sooo SAD I will miss you here in San Diego!!!</td>\n",
       "      <td>Sooo SAD</td>\n",
       "      <td>negative</td>\n",
       "      <td>0.0</td>\n",
       "      <td>[False]</td>\n",
       "    </tr>\n",
       "    <tr>\n",
       "      <th>2</th>\n",
       "      <td>088c60f138</td>\n",
       "      <td>my boss is bullying me...</td>\n",
       "      <td>bullying me</td>\n",
       "      <td>negative</td>\n",
       "      <td>0.0</td>\n",
       "      <td>[False]</td>\n",
       "    </tr>\n",
       "    <tr>\n",
       "      <th>3</th>\n",
       "      <td>9642c003ef</td>\n",
       "      <td>what interview! leave me alone</td>\n",
       "      <td>leave me alone</td>\n",
       "      <td>negative</td>\n",
       "      <td>0.0</td>\n",
       "      <td>[False]</td>\n",
       "    </tr>\n",
       "    <tr>\n",
       "      <th>4</th>\n",
       "      <td>358bd9e861</td>\n",
       "      <td>Sons of ****, why couldn`t they put them on the releases we already bought</td>\n",
       "      <td>Sons of ****,</td>\n",
       "      <td>negative</td>\n",
       "      <td>0.0</td>\n",
       "      <td>[False]</td>\n",
       "    </tr>\n",
       "  </tbody>\n",
       "</table>\n",
       "</div>"
      ],
      "text/plain": [
       "       textID  \\\n",
       "0  cb774db0d1   \n",
       "1  549e992a42   \n",
       "2  088c60f138   \n",
       "3  9642c003ef   \n",
       "4  358bd9e861   \n",
       "\n",
       "                                                                          text  \\\n",
       "0                                          I`d have responded, if I were going   \n",
       "1                                Sooo SAD I will miss you here in San Diego!!!   \n",
       "2                                                    my boss is bullying me...   \n",
       "3                                               what interview! leave me alone   \n",
       "4   Sons of ****, why couldn`t they put them on the releases we already bought   \n",
       "\n",
       "                         selected_text sentiment  label  spectok  \n",
       "0  I`d have responded, if I were going   neutral    0.0  [False]  \n",
       "1                             Sooo SAD  negative    0.0  [False]  \n",
       "2                          bullying me  negative    0.0  [False]  \n",
       "3                       leave me alone  negative    0.0  [False]  \n",
       "4                        Sons of ****,  negative    0.0  [False]  "
      ]
     },
     "execution_count": 14,
     "metadata": {},
     "output_type": "execute_result"
    }
   ],
   "source": [
    "df[\"spectok\"] = \"[\" + dep_anx.astype(str) + \"]\"\n",
    "df.head()"
   ]
  },
  {
   "cell_type": "markdown",
   "id": "2c5b43fc",
   "metadata": {
    "papermill": {
     "duration": 0.017534,
     "end_time": "2022-10-05T16:46:07.524937",
     "exception": false,
     "start_time": "2022-10-05T16:46:07.507403",
     "status": "completed"
    },
    "tags": []
   },
   "source": [
    " So we already added a column called spectoken that shows if a given tweet contains the word depression and anxiety."
   ]
  },
  {
   "cell_type": "markdown",
   "id": "71017b26",
   "metadata": {
    "papermill": {
     "duration": 0.017394,
     "end_time": "2022-10-05T16:46:07.559915",
     "exception": false,
     "start_time": "2022-10-05T16:46:07.542521",
     "status": "completed"
    },
    "tags": []
   },
   "source": [
    "#### Split dataframe"
   ]
  },
  {
   "cell_type": "code",
   "execution_count": 15,
   "id": "f66dd27c",
   "metadata": {
    "execution": {
     "iopub.execute_input": "2022-10-05T16:46:07.596337Z",
     "iopub.status.busy": "2022-10-05T16:46:07.595639Z",
     "iopub.status.idle": "2022-10-05T16:46:07.605433Z",
     "shell.execute_reply": "2022-10-05T16:46:07.604585Z"
    },
    "papermill": {
     "duration": 0.030361,
     "end_time": "2022-10-05T16:46:07.607680",
     "exception": false,
     "start_time": "2022-10-05T16:46:07.577319",
     "status": "completed"
    },
    "tags": []
   },
   "outputs": [],
   "source": [
    "#Reset index\n",
    "df = df.reset_index().drop(columns=\"index\")#.tail()"
   ]
  },
  {
   "cell_type": "code",
   "execution_count": 16,
   "id": "345565fb",
   "metadata": {
    "execution": {
     "iopub.execute_input": "2022-10-05T16:46:07.643483Z",
     "iopub.status.busy": "2022-10-05T16:46:07.643256Z",
     "iopub.status.idle": "2022-10-05T16:46:07.655515Z",
     "shell.execute_reply": "2022-10-05T16:46:07.654672Z"
    },
    "papermill": {
     "duration": 0.032467,
     "end_time": "2022-10-05T16:46:07.657518",
     "exception": false,
     "start_time": "2022-10-05T16:46:07.625051",
     "status": "completed"
    },
    "tags": []
   },
   "outputs": [],
   "source": [
    "idx = list(df.index)\n",
    "random.shuffle(idx)"
   ]
  },
  {
   "cell_type": "code",
   "execution_count": 17,
   "id": "2a9789fe",
   "metadata": {
    "execution": {
     "iopub.execute_input": "2022-10-05T16:46:07.693571Z",
     "iopub.status.busy": "2022-10-05T16:46:07.693343Z",
     "iopub.status.idle": "2022-10-05T16:46:07.706321Z",
     "shell.execute_reply": "2022-10-05T16:46:07.705345Z"
    },
    "papermill": {
     "duration": 0.03305,
     "end_time": "2022-10-05T16:46:07.708242",
     "exception": false,
     "start_time": "2022-10-05T16:46:07.675192",
     "status": "completed"
    },
    "tags": []
   },
   "outputs": [
    {
     "data": {
      "text/html": [
       "<div>\n",
       "<style scoped>\n",
       "    .dataframe tbody tr th:only-of-type {\n",
       "        vertical-align: middle;\n",
       "    }\n",
       "\n",
       "    .dataframe tbody tr th {\n",
       "        vertical-align: top;\n",
       "    }\n",
       "\n",
       "    .dataframe thead th {\n",
       "        text-align: right;\n",
       "    }\n",
       "</style>\n",
       "<table border=\"1\" class=\"dataframe\">\n",
       "  <thead>\n",
       "    <tr style=\"text-align: right;\">\n",
       "      <th></th>\n",
       "      <th>textID</th>\n",
       "      <th>text</th>\n",
       "      <th>selected_text</th>\n",
       "      <th>sentiment</th>\n",
       "      <th>label</th>\n",
       "      <th>spectok</th>\n",
       "    </tr>\n",
       "  </thead>\n",
       "  <tbody>\n",
       "    <tr>\n",
       "      <th>20506</th>\n",
       "      <td>fa991fc78e</td>\n",
       "      <td>Sorry for the triple twitter post, was having trouble w/Stocktwits account.  I try not to clutter up the Twittersphere!</td>\n",
       "      <td>Sorry for the triple twitter post, was having trouble w/Stocktwits account.  I try not to clutter up the Twittersphere!</td>\n",
       "      <td>negative</td>\n",
       "      <td>NaN</td>\n",
       "      <td>[False]</td>\n",
       "    </tr>\n",
       "    <tr>\n",
       "      <th>12462</th>\n",
       "      <td>0e0fdad9a6</td>\n",
       "      <td>oo. and studied today outside after having a ben+jerry`s.. wearing a sundress, hopefully didn`t get an awkward tan line.. haha!</td>\n",
       "      <td>hopefully</td>\n",
       "      <td>positive</td>\n",
       "      <td>NaN</td>\n",
       "      <td>[False]</td>\n",
       "    </tr>\n",
       "    <tr>\n",
       "      <th>11685</th>\n",
       "      <td>751d70d6be</td>\n",
       "      <td>RIP Omar Edwards - Killed by friendly fire in NYC   http://bit.ly/jrM6v</td>\n",
       "      <td>Killed</td>\n",
       "      <td>negative</td>\n",
       "      <td>NaN</td>\n",
       "      <td>[False]</td>\n",
       "    </tr>\n",
       "    <tr>\n",
       "      <th>1461</th>\n",
       "      <td>4117fe27e1</td>\n",
       "      <td>I dont think he`s ganna text me.</td>\n",
       "      <td>I dont think he`s ganna text me.</td>\n",
       "      <td>neutral</td>\n",
       "      <td>NaN</td>\n",
       "      <td>[False]</td>\n",
       "    </tr>\n",
       "    <tr>\n",
       "      <th>6456</th>\n",
       "      <td>45ba098ecb</td>\n",
       "      <td>I know! I can barely believe it`s almost over! Thanks for the review, lovely!</td>\n",
       "      <td>Thanks for the review,</td>\n",
       "      <td>positive</td>\n",
       "      <td>NaN</td>\n",
       "      <td>[False]</td>\n",
       "    </tr>\n",
       "  </tbody>\n",
       "</table>\n",
       "</div>"
      ],
      "text/plain": [
       "           textID  \\\n",
       "20506  fa991fc78e   \n",
       "12462  0e0fdad9a6   \n",
       "11685  751d70d6be   \n",
       "1461   4117fe27e1   \n",
       "6456   45ba098ecb   \n",
       "\n",
       "                                                                                                                                  text  \\\n",
       "20506          Sorry for the triple twitter post, was having trouble w/Stocktwits account.  I try not to clutter up the Twittersphere!   \n",
       "12462  oo. and studied today outside after having a ben+jerry`s.. wearing a sundress, hopefully didn`t get an awkward tan line.. haha!   \n",
       "11685                                                          RIP Omar Edwards - Killed by friendly fire in NYC   http://bit.ly/jrM6v   \n",
       "1461                                                                                                  I dont think he`s ganna text me.   \n",
       "6456                                                     I know! I can barely believe it`s almost over! Thanks for the review, lovely!   \n",
       "\n",
       "                                                                                                                 selected_text  \\\n",
       "20506  Sorry for the triple twitter post, was having trouble w/Stocktwits account.  I try not to clutter up the Twittersphere!   \n",
       "12462                                                                                                                hopefully   \n",
       "11685                                                                                                                   Killed   \n",
       "1461                                                                                          I dont think he`s ganna text me.   \n",
       "6456                                                                                                    Thanks for the review,   \n",
       "\n",
       "      sentiment  label  spectok  \n",
       "20506  negative    NaN  [False]  \n",
       "12462  positive    NaN  [False]  \n",
       "11685  negative    NaN  [False]  \n",
       "1461    neutral    NaN  [False]  \n",
       "6456   positive    NaN  [False]  "
      ]
     },
     "execution_count": 17,
     "metadata": {},
     "output_type": "execute_result"
    }
   ],
   "source": [
    "shuffle_df = df.iloc[idx, :]\n",
    "shuffle_df.head()"
   ]
  },
  {
   "cell_type": "markdown",
   "id": "cc1b3cab",
   "metadata": {
    "papermill": {
     "duration": 0.017536,
     "end_time": "2022-10-05T16:46:07.749048",
     "exception": false,
     "start_time": "2022-10-05T16:46:07.731512",
     "status": "completed"
    },
    "tags": []
   },
   "source": [
    "### Pop up EDA\n",
    "What about if we replace hashtags there with empty spcae, that would reduce the number of tweets that have depression in it to identify it as a depression tweet. This also means we will have to redo our special token column."
   ]
  },
  {
   "cell_type": "code",
   "execution_count": 18,
   "id": "660653a9",
   "metadata": {
    "execution": {
     "iopub.execute_input": "2022-10-05T16:46:07.785989Z",
     "iopub.status.busy": "2022-10-05T16:46:07.785210Z",
     "iopub.status.idle": "2022-10-05T16:46:07.841161Z",
     "shell.execute_reply": "2022-10-05T16:46:07.840191Z"
    },
    "papermill": {
     "duration": 0.076903,
     "end_time": "2022-10-05T16:46:07.843594",
     "exception": false,
     "start_time": "2022-10-05T16:46:07.766691",
     "status": "completed"
    },
    "tags": []
   },
   "outputs": [
    {
     "data": {
      "text/html": [
       "<div>\n",
       "<style scoped>\n",
       "    .dataframe tbody tr th:only-of-type {\n",
       "        vertical-align: middle;\n",
       "    }\n",
       "\n",
       "    .dataframe tbody tr th {\n",
       "        vertical-align: top;\n",
       "    }\n",
       "\n",
       "    .dataframe thead th {\n",
       "        text-align: right;\n",
       "    }\n",
       "</style>\n",
       "<table border=\"1\" class=\"dataframe\">\n",
       "  <thead>\n",
       "    <tr style=\"text-align: right;\">\n",
       "      <th></th>\n",
       "      <th>textID</th>\n",
       "      <th>text</th>\n",
       "      <th>selected_text</th>\n",
       "      <th>sentiment</th>\n",
       "      <th>label</th>\n",
       "      <th>spectok</th>\n",
       "    </tr>\n",
       "  </thead>\n",
       "  <tbody>\n",
       "    <tr>\n",
       "      <th>0</th>\n",
       "      <td>cb774db0d1</td>\n",
       "      <td>I`d have responded, if I were going</td>\n",
       "      <td>I`d have responded, if I were going</td>\n",
       "      <td>neutral</td>\n",
       "      <td>0.0</td>\n",
       "      <td>[False]</td>\n",
       "    </tr>\n",
       "    <tr>\n",
       "      <th>1</th>\n",
       "      <td>549e992a42</td>\n",
       "      <td>Sooo SAD I will miss you here in San Diego!!!</td>\n",
       "      <td>Sooo SAD</td>\n",
       "      <td>negative</td>\n",
       "      <td>0.0</td>\n",
       "      <td>[False]</td>\n",
       "    </tr>\n",
       "    <tr>\n",
       "      <th>2</th>\n",
       "      <td>088c60f138</td>\n",
       "      <td>my boss is bullying me...</td>\n",
       "      <td>bullying me</td>\n",
       "      <td>negative</td>\n",
       "      <td>0.0</td>\n",
       "      <td>[False]</td>\n",
       "    </tr>\n",
       "    <tr>\n",
       "      <th>3</th>\n",
       "      <td>9642c003ef</td>\n",
       "      <td>what interview! leave me alone</td>\n",
       "      <td>leave me alone</td>\n",
       "      <td>negative</td>\n",
       "      <td>0.0</td>\n",
       "      <td>[False]</td>\n",
       "    </tr>\n",
       "    <tr>\n",
       "      <th>4</th>\n",
       "      <td>358bd9e861</td>\n",
       "      <td>Sons of ****, why couldn`t they put them on the releases we already bought</td>\n",
       "      <td>Sons of ****,</td>\n",
       "      <td>negative</td>\n",
       "      <td>0.0</td>\n",
       "      <td>[False]</td>\n",
       "    </tr>\n",
       "  </tbody>\n",
       "</table>\n",
       "</div>"
      ],
      "text/plain": [
       "       textID  \\\n",
       "0  cb774db0d1   \n",
       "1  549e992a42   \n",
       "2  088c60f138   \n",
       "3  9642c003ef   \n",
       "4  358bd9e861   \n",
       "\n",
       "                                                                          text  \\\n",
       "0                                          I`d have responded, if I were going   \n",
       "1                                Sooo SAD I will miss you here in San Diego!!!   \n",
       "2                                                    my boss is bullying me...   \n",
       "3                                               what interview! leave me alone   \n",
       "4   Sons of ****, why couldn`t they put them on the releases we already bought   \n",
       "\n",
       "                         selected_text sentiment  label  spectok  \n",
       "0  I`d have responded, if I were going   neutral    0.0  [False]  \n",
       "1                             Sooo SAD  negative    0.0  [False]  \n",
       "2                          bullying me  negative    0.0  [False]  \n",
       "3                       leave me alone  negative    0.0  [False]  \n",
       "4                        Sons of ****,  negative    0.0  [False]  "
      ]
     },
     "execution_count": 18,
     "metadata": {},
     "output_type": "execute_result"
    }
   ],
   "source": [
    "df['text'] = df['text'].str.replace(r\"(\\x23.* )+\", \"\")\n",
    "df.head()"
   ]
  },
  {
   "cell_type": "code",
   "execution_count": 19,
   "id": "83854f99",
   "metadata": {
    "execution": {
     "iopub.execute_input": "2022-10-05T16:46:07.880774Z",
     "iopub.status.busy": "2022-10-05T16:46:07.880072Z",
     "iopub.status.idle": "2022-10-05T16:46:07.900318Z",
     "shell.execute_reply": "2022-10-05T16:46:07.899411Z"
    },
    "papermill": {
     "duration": 0.041245,
     "end_time": "2022-10-05T16:46:07.902385",
     "exception": false,
     "start_time": "2022-10-05T16:46:07.861140",
     "status": "completed"
    },
    "tags": []
   },
   "outputs": [
    {
     "data": {
      "text/html": [
       "<div>\n",
       "<style scoped>\n",
       "    .dataframe tbody tr th:only-of-type {\n",
       "        vertical-align: middle;\n",
       "    }\n",
       "\n",
       "    .dataframe tbody tr th {\n",
       "        vertical-align: top;\n",
       "    }\n",
       "\n",
       "    .dataframe thead th {\n",
       "        text-align: right;\n",
       "    }\n",
       "</style>\n",
       "<table border=\"1\" class=\"dataframe\">\n",
       "  <thead>\n",
       "    <tr style=\"text-align: right;\">\n",
       "      <th></th>\n",
       "      <th>textID</th>\n",
       "      <th>text</th>\n",
       "      <th>selected_text</th>\n",
       "      <th>sentiment</th>\n",
       "      <th>label</th>\n",
       "      <th>spectok</th>\n",
       "    </tr>\n",
       "  </thead>\n",
       "  <tbody>\n",
       "    <tr>\n",
       "      <th>19876</th>\n",
       "      <td>42bba2feb9</td>\n",
       "      <td>Time for my ritualistic Friday night depression</td>\n",
       "      <td>Time for my ritualistic Friday night depression</td>\n",
       "      <td>negative</td>\n",
       "      <td>NaN</td>\n",
       "      <td>[False]</td>\n",
       "    </tr>\n",
       "    <tr>\n",
       "      <th>20977</th>\n",
       "      <td>2e4836d951</td>\n",
       "      <td>Having a light depression. Just payed an extra bill from last years taxes... Must find a country with a tax that is lower than 56%</td>\n",
       "      <td>depression.</td>\n",
       "      <td>negative</td>\n",
       "      <td>NaN</td>\n",
       "      <td>[False]</td>\n",
       "    </tr>\n",
       "  </tbody>\n",
       "</table>\n",
       "</div>"
      ],
      "text/plain": [
       "           textID  \\\n",
       "19876  42bba2feb9   \n",
       "20977  2e4836d951   \n",
       "\n",
       "                                                                                                                                     text  \\\n",
       "19876                                                                                     Time for my ritualistic Friday night depression   \n",
       "20977  Having a light depression. Just payed an extra bill from last years taxes... Must find a country with a tax that is lower than 56%   \n",
       "\n",
       "                                         selected_text sentiment  label  \\\n",
       "19876  Time for my ritualistic Friday night depression  negative    NaN   \n",
       "20977                                      depression.  negative    NaN   \n",
       "\n",
       "       spectok  \n",
       "19876  [False]  \n",
       "20977  [False]  "
      ]
     },
     "execution_count": 19,
     "metadata": {},
     "output_type": "execute_result"
    }
   ],
   "source": [
    "mask = (df['text'].str.contains(\"[Dd]epression\")) & (df['sentiment'] == \"negative\")\n",
    "df[mask].head()"
   ]
  },
  {
   "cell_type": "code",
   "execution_count": 20,
   "id": "3dba2993",
   "metadata": {
    "execution": {
     "iopub.execute_input": "2022-10-05T16:46:07.940012Z",
     "iopub.status.busy": "2022-10-05T16:46:07.939538Z",
     "iopub.status.idle": "2022-10-05T16:46:07.946053Z",
     "shell.execute_reply": "2022-10-05T16:46:07.945259Z"
    },
    "papermill": {
     "duration": 0.02747,
     "end_time": "2022-10-05T16:46:07.947991",
     "exception": false,
     "start_time": "2022-10-05T16:46:07.920521",
     "status": "completed"
    },
    "tags": []
   },
   "outputs": [],
   "source": [
    "#Reset index\n",
    "df = df.reset_index().drop(columns=\"index\")#.tail()"
   ]
  },
  {
   "cell_type": "code",
   "execution_count": 21,
   "id": "dcbfe19f",
   "metadata": {
    "execution": {
     "iopub.execute_input": "2022-10-05T16:46:07.985645Z",
     "iopub.status.busy": "2022-10-05T16:46:07.985001Z",
     "iopub.status.idle": "2022-10-05T16:46:07.998056Z",
     "shell.execute_reply": "2022-10-05T16:46:07.997115Z"
    },
    "papermill": {
     "duration": 0.03406,
     "end_time": "2022-10-05T16:46:08.000007",
     "exception": false,
     "start_time": "2022-10-05T16:46:07.965947",
     "status": "completed"
    },
    "tags": []
   },
   "outputs": [],
   "source": [
    "idx = list(df.index)\n",
    "random.shuffle(idx)"
   ]
  },
  {
   "cell_type": "code",
   "execution_count": 22,
   "id": "b92935e0",
   "metadata": {
    "execution": {
     "iopub.execute_input": "2022-10-05T16:46:08.037794Z",
     "iopub.status.busy": "2022-10-05T16:46:08.037136Z",
     "iopub.status.idle": "2022-10-05T16:46:08.049830Z",
     "shell.execute_reply": "2022-10-05T16:46:08.048935Z"
    },
    "papermill": {
     "duration": 0.033681,
     "end_time": "2022-10-05T16:46:08.051725",
     "exception": false,
     "start_time": "2022-10-05T16:46:08.018044",
     "status": "completed"
    },
    "tags": []
   },
   "outputs": [
    {
     "data": {
      "text/html": [
       "<div>\n",
       "<style scoped>\n",
       "    .dataframe tbody tr th:only-of-type {\n",
       "        vertical-align: middle;\n",
       "    }\n",
       "\n",
       "    .dataframe tbody tr th {\n",
       "        vertical-align: top;\n",
       "    }\n",
       "\n",
       "    .dataframe thead th {\n",
       "        text-align: right;\n",
       "    }\n",
       "</style>\n",
       "<table border=\"1\" class=\"dataframe\">\n",
       "  <thead>\n",
       "    <tr style=\"text-align: right;\">\n",
       "      <th></th>\n",
       "      <th>textID</th>\n",
       "      <th>text</th>\n",
       "      <th>selected_text</th>\n",
       "      <th>sentiment</th>\n",
       "      <th>label</th>\n",
       "      <th>spectok</th>\n",
       "    </tr>\n",
       "  </thead>\n",
       "  <tbody>\n",
       "    <tr>\n",
       "      <th>18604</th>\n",
       "      <td>7f65be55b7</td>\n",
       "      <td>I`m gonna wear my new purple converse today</td>\n",
       "      <td>I`m gonna wear my new purple converse today</td>\n",
       "      <td>neutral</td>\n",
       "      <td>NaN</td>\n",
       "      <td>[False]</td>\n",
       "    </tr>\n",
       "    <tr>\n",
       "      <th>1901</th>\n",
       "      <td>01297393b5</td>\n",
       "      <td>oh gaha no of course i wasn`t offended why would i be?  i`d love to play for you some day</td>\n",
       "      <td>d love</td>\n",
       "      <td>positive</td>\n",
       "      <td>NaN</td>\n",
       "      <td>[False]</td>\n",
       "    </tr>\n",
       "    <tr>\n",
       "      <th>26878</th>\n",
       "      <td>aaaa3e4e66</td>\n",
       "      <td>Arrr. Exam is on next week.. Im dead.. bwahahaha..  I love you btw!!</td>\n",
       "      <td>Arrr. Exam is on next week.. Im dead.. bwahahaha..  I love you btw!!</td>\n",
       "      <td>neutral</td>\n",
       "      <td>NaN</td>\n",
       "      <td>[False]</td>\n",
       "    </tr>\n",
       "    <tr>\n",
       "      <th>2041</th>\n",
       "      <td>914e57e54b</td>\n",
       "      <td>**** it! Must be Morrisons then</td>\n",
       "      <td>**** it!</td>\n",
       "      <td>negative</td>\n",
       "      <td>NaN</td>\n",
       "      <td>[False]</td>\n",
       "    </tr>\n",
       "    <tr>\n",
       "      <th>4324</th>\n",
       "      <td>fae97f60d2</td>\n",
       "      <td>Season 1 of Lie To Me was serious. ****, now here comes the wait.</td>\n",
       "      <td>Season 1 of Lie To Me was serious. ****, now here comes the wait.</td>\n",
       "      <td>neutral</td>\n",
       "      <td>NaN</td>\n",
       "      <td>[False]</td>\n",
       "    </tr>\n",
       "  </tbody>\n",
       "</table>\n",
       "</div>"
      ],
      "text/plain": [
       "           textID  \\\n",
       "18604  7f65be55b7   \n",
       "1901   01297393b5   \n",
       "26878  aaaa3e4e66   \n",
       "2041   914e57e54b   \n",
       "4324   fae97f60d2   \n",
       "\n",
       "                                                                                             text  \\\n",
       "18604                                                 I`m gonna wear my new purple converse today   \n",
       "1901    oh gaha no of course i wasn`t offended why would i be?  i`d love to play for you some day   \n",
       "26878                        Arrr. Exam is on next week.. Im dead.. bwahahaha..  I love you btw!!   \n",
       "2041                                                              **** it! Must be Morrisons then   \n",
       "4324                            Season 1 of Lie To Me was serious. ****, now here comes the wait.   \n",
       "\n",
       "                                                              selected_text  \\\n",
       "18604                           I`m gonna wear my new purple converse today   \n",
       "1901                                                                 d love   \n",
       "26878  Arrr. Exam is on next week.. Im dead.. bwahahaha..  I love you btw!!   \n",
       "2041                                                               **** it!   \n",
       "4324      Season 1 of Lie To Me was serious. ****, now here comes the wait.   \n",
       "\n",
       "      sentiment  label  spectok  \n",
       "18604   neutral    NaN  [False]  \n",
       "1901   positive    NaN  [False]  \n",
       "26878   neutral    NaN  [False]  \n",
       "2041   negative    NaN  [False]  \n",
       "4324    neutral    NaN  [False]  "
      ]
     },
     "execution_count": 22,
     "metadata": {},
     "output_type": "execute_result"
    }
   ],
   "source": [
    "shuffle_df = df.iloc[idx, :]\n",
    "shuffle_df.head()"
   ]
  },
  {
   "cell_type": "markdown",
   "id": "afe66e4b",
   "metadata": {
    "papermill": {
     "duration": 0.017924,
     "end_time": "2022-10-05T16:46:08.088180",
     "exception": false,
     "start_time": "2022-10-05T16:46:08.070256",
     "status": "completed"
    },
    "tags": []
   },
   "source": [
    "ADDENDUM: Redo and add the special token column"
   ]
  },
  {
   "cell_type": "code",
   "execution_count": null,
   "id": "ba1be1d8",
   "metadata": {
    "papermill": {
     "duration": 0.018246,
     "end_time": "2022-10-05T16:46:08.124969",
     "exception": false,
     "start_time": "2022-10-05T16:46:08.106723",
     "status": "completed"
    },
    "tags": []
   },
   "outputs": [],
   "source": []
  },
  {
   "cell_type": "code",
   "execution_count": 23,
   "id": "56039cf7",
   "metadata": {
    "execution": {
     "iopub.execute_input": "2022-10-05T16:46:08.162171Z",
     "iopub.status.busy": "2022-10-05T16:46:08.161966Z",
     "iopub.status.idle": "2022-10-05T16:46:08.166789Z",
     "shell.execute_reply": "2022-10-05T16:46:08.165890Z"
    },
    "papermill": {
     "duration": 0.025708,
     "end_time": "2022-10-05T16:46:08.168735",
     "exception": false,
     "start_time": "2022-10-05T16:46:08.143027",
     "status": "completed"
    },
    "tags": []
   },
   "outputs": [],
   "source": [
    "#Split dataset into train and test\n",
    "test_len = int(len(idx) * 0.2)\n",
    "\n",
    "test_df = shuffle_df[:test_len]\n",
    "train_df = shuffle_df[test_len:]"
   ]
  },
  {
   "cell_type": "code",
   "execution_count": 24,
   "id": "85eb7a96",
   "metadata": {
    "execution": {
     "iopub.execute_input": "2022-10-05T16:46:08.207546Z",
     "iopub.status.busy": "2022-10-05T16:46:08.206862Z",
     "iopub.status.idle": "2022-10-05T16:46:08.212623Z",
     "shell.execute_reply": "2022-10-05T16:46:08.211615Z"
    },
    "papermill": {
     "duration": 0.027281,
     "end_time": "2022-10-05T16:46:08.214777",
     "exception": false,
     "start_time": "2022-10-05T16:46:08.187496",
     "status": "completed"
    },
    "tags": []
   },
   "outputs": [
    {
     "name": "stdout",
     "output_type": "stream",
     "text": [
      "Addition of the rows of both train and test df gives 27480 rows\n"
     ]
    }
   ],
   "source": [
    "print(\"Addition of the rows of both train and test df gives\", train_df.shape[0]+test_df.shape[0], \"rows\")"
   ]
  },
  {
   "cell_type": "code",
   "execution_count": 25,
   "id": "ad9e8aac",
   "metadata": {
    "execution": {
     "iopub.execute_input": "2022-10-05T16:46:08.253706Z",
     "iopub.status.busy": "2022-10-05T16:46:08.253472Z",
     "iopub.status.idle": "2022-10-05T16:46:08.261537Z",
     "shell.execute_reply": "2022-10-05T16:46:08.260576Z"
    },
    "papermill": {
     "duration": 0.029463,
     "end_time": "2022-10-05T16:46:08.263727",
     "exception": false,
     "start_time": "2022-10-05T16:46:08.234264",
     "status": "completed"
    },
    "tags": []
   },
   "outputs": [
    {
     "data": {
      "text/plain": [
       "neutral     0.405022\n",
       "positive    0.312364\n",
       "negative    0.282615\n",
       "Name: sentiment, dtype: float64"
      ]
     },
     "execution_count": 25,
     "metadata": {},
     "output_type": "execute_result"
    }
   ],
   "source": [
    "train_df['sentiment'].value_counts(normalize=True)"
   ]
  },
  {
   "cell_type": "code",
   "execution_count": 26,
   "id": "d44d7c8d",
   "metadata": {
    "execution": {
     "iopub.execute_input": "2022-10-05T16:46:08.301840Z",
     "iopub.status.busy": "2022-10-05T16:46:08.301180Z",
     "iopub.status.idle": "2022-10-05T16:46:08.308909Z",
     "shell.execute_reply": "2022-10-05T16:46:08.307980Z"
    },
    "papermill": {
     "duration": 0.028934,
     "end_time": "2022-10-05T16:46:08.311064",
     "exception": false,
     "start_time": "2022-10-05T16:46:08.282130",
     "status": "completed"
    },
    "tags": []
   },
   "outputs": [
    {
     "data": {
      "text/plain": [
       "neutral     0.402656\n",
       "positive    0.312045\n",
       "negative    0.285298\n",
       "Name: sentiment, dtype: float64"
      ]
     },
     "execution_count": 26,
     "metadata": {},
     "output_type": "execute_result"
    }
   ],
   "source": [
    "test_df['sentiment'].value_counts(normalize=True)"
   ]
  },
  {
   "cell_type": "code",
   "execution_count": 27,
   "id": "3e4515e6",
   "metadata": {
    "execution": {
     "iopub.execute_input": "2022-10-05T16:46:08.349811Z",
     "iopub.status.busy": "2022-10-05T16:46:08.349144Z",
     "iopub.status.idle": "2022-10-05T16:46:08.359210Z",
     "shell.execute_reply": "2022-10-05T16:46:08.358268Z"
    },
    "papermill": {
     "duration": 0.031254,
     "end_time": "2022-10-05T16:46:08.361177",
     "exception": false,
     "start_time": "2022-10-05T16:46:08.329923",
     "status": "completed"
    },
    "tags": []
   },
   "outputs": [
    {
     "data": {
      "text/html": [
       "<div>\n",
       "<style scoped>\n",
       "    .dataframe tbody tr th:only-of-type {\n",
       "        vertical-align: middle;\n",
       "    }\n",
       "\n",
       "    .dataframe tbody tr th {\n",
       "        vertical-align: top;\n",
       "    }\n",
       "\n",
       "    .dataframe thead th {\n",
       "        text-align: right;\n",
       "    }\n",
       "</style>\n",
       "<table border=\"1\" class=\"dataframe\">\n",
       "  <thead>\n",
       "    <tr style=\"text-align: right;\">\n",
       "      <th></th>\n",
       "      <th>textID</th>\n",
       "      <th>text</th>\n",
       "      <th>selected_text</th>\n",
       "      <th>sentiment</th>\n",
       "      <th>label</th>\n",
       "      <th>spectok</th>\n",
       "    </tr>\n",
       "  </thead>\n",
       "  <tbody>\n",
       "    <tr>\n",
       "      <th>6815</th>\n",
       "      <td>87fca7f208</td>\n",
       "      <td>apparently you are not getting on anymore... sad</td>\n",
       "      <td>sad</td>\n",
       "      <td>negative</td>\n",
       "      <td>NaN</td>\n",
       "      <td>[False]</td>\n",
       "    </tr>\n",
       "  </tbody>\n",
       "</table>\n",
       "</div>"
      ],
      "text/plain": [
       "          textID                                              text  \\\n",
       "6815  87fca7f208  apparently you are not getting on anymore... sad   \n",
       "\n",
       "     selected_text sentiment  label  spectok  \n",
       "6815           sad  negative    NaN  [False]  "
      ]
     },
     "execution_count": 27,
     "metadata": {},
     "output_type": "execute_result"
    }
   ],
   "source": [
    "train_df.head(1)"
   ]
  },
  {
   "cell_type": "code",
   "execution_count": null,
   "id": "eedf3d36",
   "metadata": {
    "papermill": {
     "duration": 0.018348,
     "end_time": "2022-10-05T16:46:08.398100",
     "exception": false,
     "start_time": "2022-10-05T16:46:08.379752",
     "status": "completed"
    },
    "tags": []
   },
   "outputs": [],
   "source": []
  },
  {
   "cell_type": "markdown",
   "id": "2ae82797",
   "metadata": {
    "papermill": {
     "duration": 0.019554,
     "end_time": "2022-10-05T16:46:08.437039",
     "exception": false,
     "start_time": "2022-10-05T16:46:08.417485",
     "status": "completed"
    },
    "tags": []
   },
   "source": [
    "### Preprocessing data: Datasets and Tokenization.\n",
    "\n",
    "Just like in using fastai dataloaders to load in our inputs into the model, transformers also have a Dataset class that helps carry the dataset in the appropriate format into the model and thus make possible for building the model and performing the classification as needed. \n",
    "\n",
    "However, our input is still in the form of English sentences. In NLP, in order for this sentences to be processed and used as a signal for a way the model will finally interpret it, we need to convert these sentences into a number through tokenization and numericalization. And since we will be using a pretrained model, it is necessary that we tokenize our inputs in just the same way that it exists in the model's vocabulary in other to avoid messing up the process. To do this, we will be importing the AutoTokenizer from the transformer model and also choosing the model of choice."
   ]
  },
  {
   "cell_type": "code",
   "execution_count": 28,
   "id": "6ccb62cb",
   "metadata": {
    "execution": {
     "iopub.execute_input": "2022-10-05T16:46:08.479062Z",
     "iopub.status.busy": "2022-10-05T16:46:08.477528Z",
     "iopub.status.idle": "2022-10-05T16:46:08.482232Z",
     "shell.execute_reply": "2022-10-05T16:46:08.481417Z"
    },
    "papermill": {
     "duration": 0.027315,
     "end_time": "2022-10-05T16:46:08.484304",
     "exception": false,
     "start_time": "2022-10-05T16:46:08.456989",
     "status": "completed"
    },
    "tags": []
   },
   "outputs": [],
   "source": [
    "model_name = \"microsoft/deberta-v3-small\""
   ]
  },
  {
   "cell_type": "code",
   "execution_count": 29,
   "id": "d6c257b4",
   "metadata": {
    "execution": {
     "iopub.execute_input": "2022-10-05T16:46:08.522473Z",
     "iopub.status.busy": "2022-10-05T16:46:08.521845Z",
     "iopub.status.idle": "2022-10-05T16:46:09.305797Z",
     "shell.execute_reply": "2022-10-05T16:46:09.304882Z"
    },
    "papermill": {
     "duration": 0.805792,
     "end_time": "2022-10-05T16:46:09.308403",
     "exception": false,
     "start_time": "2022-10-05T16:46:08.502611",
     "status": "completed"
    },
    "tags": []
   },
   "outputs": [],
   "source": [
    "from datasets import Dataset, DatasetDict\n",
    "from transformers import AutoTokenizer, AutoModelForSequenceClassification"
   ]
  },
  {
   "cell_type": "code",
   "execution_count": 30,
   "id": "b1721812",
   "metadata": {
    "execution": {
     "iopub.execute_input": "2022-10-05T16:46:09.352095Z",
     "iopub.status.busy": "2022-10-05T16:46:09.351842Z",
     "iopub.status.idle": "2022-10-05T16:46:17.823946Z",
     "shell.execute_reply": "2022-10-05T16:46:17.822919Z"
    },
    "papermill": {
     "duration": 8.496805,
     "end_time": "2022-10-05T16:46:17.827065",
     "exception": false,
     "start_time": "2022-10-05T16:46:09.330260",
     "status": "completed"
    },
    "scrolled": true,
    "tags": []
   },
   "outputs": [],
   "source": [
    "tokz = AutoTokenizer.from_pretrained('microsoft/deberta-v3-small')"
   ]
  },
  {
   "cell_type": "markdown",
   "id": "14eb42f6",
   "metadata": {
    "papermill": {
     "duration": 0.030371,
     "end_time": "2022-10-05T16:46:17.885510",
     "exception": false,
     "start_time": "2022-10-05T16:46:17.855139",
     "status": "completed"
    },
    "tags": []
   },
   "source": [
    "After initiating our tokenizer, it is important that we add the special tokens that we derived in the spectok column."
   ]
  },
  {
   "cell_type": "code",
   "execution_count": 31,
   "id": "7cd6ccac",
   "metadata": {
    "execution": {
     "iopub.execute_input": "2022-10-05T16:46:17.962726Z",
     "iopub.status.busy": "2022-10-05T16:46:17.962350Z",
     "iopub.status.idle": "2022-10-05T16:46:17.982377Z",
     "shell.execute_reply": "2022-10-05T16:46:17.981271Z"
    },
    "papermill": {
     "duration": 0.062485,
     "end_time": "2022-10-05T16:46:17.985875",
     "exception": false,
     "start_time": "2022-10-05T16:46:17.923390",
     "status": "completed"
    },
    "tags": []
   },
   "outputs": [
    {
     "data": {
      "text/plain": [
       "1"
      ]
     },
     "execution_count": 31,
     "metadata": {},
     "output_type": "execute_result"
    }
   ],
   "source": [
    "spec_tok = list(df.spectok.unique())\n",
    "tokz.add_special_tokens({\"additional_special_tokens\": spec_tok})"
   ]
  },
  {
   "cell_type": "code",
   "execution_count": 32,
   "id": "78f576a3",
   "metadata": {
    "execution": {
     "iopub.execute_input": "2022-10-05T16:46:18.059333Z",
     "iopub.status.busy": "2022-10-05T16:46:18.059048Z",
     "iopub.status.idle": "2022-10-05T16:46:18.063326Z",
     "shell.execute_reply": "2022-10-05T16:46:18.062437Z"
    },
    "papermill": {
     "duration": 0.04391,
     "end_time": "2022-10-05T16:46:18.067968",
     "exception": false,
     "start_time": "2022-10-05T16:46:18.024058",
     "status": "completed"
    },
    "tags": []
   },
   "outputs": [],
   "source": [
    "#tokz.add_special_tokens({'pad_token': '[PAD]'})"
   ]
  },
  {
   "cell_type": "markdown",
   "id": "ea241273",
   "metadata": {
    "papermill": {
     "duration": 0.029597,
     "end_time": "2022-10-05T16:46:18.128130",
     "exception": false,
     "start_time": "2022-10-05T16:46:18.098533",
     "status": "completed"
    },
    "tags": []
   },
   "source": [
    "The tokz(tokenizer) has a vocab attribute and tokenize method. The vocab attribute is a dictionary that maps all the tokens(word/subwords as the case may be) with some fixed number and the tokenize method splits a document (sentence or sentences) into individual tokens as it is in the vocab attribute."
   ]
  },
  {
   "cell_type": "code",
   "execution_count": 33,
   "id": "e074190e",
   "metadata": {
    "execution": {
     "iopub.execute_input": "2022-10-05T16:46:18.188285Z",
     "iopub.status.busy": "2022-10-05T16:46:18.188033Z",
     "iopub.status.idle": "2022-10-05T16:46:18.197747Z",
     "shell.execute_reply": "2022-10-05T16:46:18.196849Z"
    },
    "papermill": {
     "duration": 0.042192,
     "end_time": "2022-10-05T16:46:18.199767",
     "exception": false,
     "start_time": "2022-10-05T16:46:18.157575",
     "status": "completed"
    },
    "tags": []
   },
   "outputs": [
    {
     "data": {
      "text/plain": [
       "['▁Merry',\n",
       " '▁go',\n",
       " '▁round',\n",
       " ',',\n",
       " '▁do',\n",
       " '▁the',\n",
       " '▁trees',\n",
       " '▁move',\n",
       " '▁when',\n",
       " '▁a',\n",
       " '▁bol',\n",
       " 'st',\n",
       " 'rous',\n",
       " '▁wind',\n",
       " '▁strike',\n",
       " '▁their',\n",
       " '▁Trunk',\n",
       " 's',\n",
       " '[False]']"
      ]
     },
     "execution_count": 33,
     "metadata": {},
     "output_type": "execute_result"
    }
   ],
   "source": [
    "tokz.tokenize(\"Merry go round, do the trees move when a bolstrous wind strike their Trunks [False]\")"
   ]
  },
  {
   "cell_type": "code",
   "execution_count": 34,
   "id": "5eaf8620",
   "metadata": {
    "execution": {
     "iopub.execute_input": "2022-10-05T16:46:18.255155Z",
     "iopub.status.busy": "2022-10-05T16:46:18.254920Z",
     "iopub.status.idle": "2022-10-05T16:46:18.262026Z",
     "shell.execute_reply": "2022-10-05T16:46:18.261177Z"
    },
    "papermill": {
     "duration": 0.038443,
     "end_time": "2022-10-05T16:46:18.264481",
     "exception": false,
     "start_time": "2022-10-05T16:46:18.226038",
     "status": "completed"
    },
    "tags": []
   },
   "outputs": [],
   "source": [
    "#lets us also rename the inputs columns and output columns to easier names and transformers conventions\n",
    "train_df.rename(columns={\"text\": \"inputs\", \"sentiment\": \"labels\"},\n",
    "               inplace=True)\n",
    "test_df.rename(columns={\"text\": \"inputs\", \"sentiment\": \"labels\"},\n",
    "               inplace=True)"
   ]
  },
  {
   "cell_type": "code",
   "execution_count": 35,
   "id": "92ed7b60",
   "metadata": {
    "execution": {
     "iopub.execute_input": "2022-10-05T16:46:18.321604Z",
     "iopub.status.busy": "2022-10-05T16:46:18.321380Z",
     "iopub.status.idle": "2022-10-05T16:46:18.333048Z",
     "shell.execute_reply": "2022-10-05T16:46:18.332116Z"
    },
    "papermill": {
     "duration": 0.042996,
     "end_time": "2022-10-05T16:46:18.335512",
     "exception": false,
     "start_time": "2022-10-05T16:46:18.292516",
     "status": "completed"
    },
    "tags": []
   },
   "outputs": [
    {
     "data": {
      "text/html": [
       "<div>\n",
       "<style scoped>\n",
       "    .dataframe tbody tr th:only-of-type {\n",
       "        vertical-align: middle;\n",
       "    }\n",
       "\n",
       "    .dataframe tbody tr th {\n",
       "        vertical-align: top;\n",
       "    }\n",
       "\n",
       "    .dataframe thead th {\n",
       "        text-align: right;\n",
       "    }\n",
       "</style>\n",
       "<table border=\"1\" class=\"dataframe\">\n",
       "  <thead>\n",
       "    <tr style=\"text-align: right;\">\n",
       "      <th></th>\n",
       "      <th>textID</th>\n",
       "      <th>inputs</th>\n",
       "      <th>selected_text</th>\n",
       "      <th>labels</th>\n",
       "      <th>label</th>\n",
       "      <th>spectok</th>\n",
       "    </tr>\n",
       "  </thead>\n",
       "  <tbody>\n",
       "    <tr>\n",
       "      <th>6815</th>\n",
       "      <td>87fca7f208</td>\n",
       "      <td>apparently you are not getting on anymore... sad</td>\n",
       "      <td>sad</td>\n",
       "      <td>negative</td>\n",
       "      <td>NaN</td>\n",
       "      <td>[False]</td>\n",
       "    </tr>\n",
       "    <tr>\n",
       "      <th>19588</th>\n",
       "      <td>6f955b0236</td>\n",
       "      <td>- Yeah I know they are **** annoying with that... But it,s such good promo... I lost some contacts for business in there</td>\n",
       "      <td>- Yeah I know they are **** annoying with that... But it,s such good promo... I lost some contacts for business in there</td>\n",
       "      <td>positive</td>\n",
       "      <td>NaN</td>\n",
       "      <td>[False]</td>\n",
       "    </tr>\n",
       "  </tbody>\n",
       "</table>\n",
       "</div>"
      ],
      "text/plain": [
       "           textID  \\\n",
       "6815   87fca7f208   \n",
       "19588  6f955b0236   \n",
       "\n",
       "                                                                                                                          inputs  \\\n",
       "6815                                                                            apparently you are not getting on anymore... sad   \n",
       "19588   - Yeah I know they are **** annoying with that... But it,s such good promo... I lost some contacts for business in there   \n",
       "\n",
       "                                                                                                                  selected_text  \\\n",
       "6815                                                                                                                        sad   \n",
       "19588  - Yeah I know they are **** annoying with that... But it,s such good promo... I lost some contacts for business in there   \n",
       "\n",
       "         labels  label  spectok  \n",
       "6815   negative    NaN  [False]  \n",
       "19588  positive    NaN  [False]  "
      ]
     },
     "execution_count": 35,
     "metadata": {},
     "output_type": "execute_result"
    }
   ],
   "source": [
    "train_df.head(2)"
   ]
  },
  {
   "cell_type": "code",
   "execution_count": 36,
   "id": "80da9efa",
   "metadata": {
    "execution": {
     "iopub.execute_input": "2022-10-05T16:46:18.392944Z",
     "iopub.status.busy": "2022-10-05T16:46:18.392706Z",
     "iopub.status.idle": "2022-10-05T16:46:18.398964Z",
     "shell.execute_reply": "2022-10-05T16:46:18.398224Z"
    },
    "papermill": {
     "duration": 0.037532,
     "end_time": "2022-10-05T16:46:18.401345",
     "exception": false,
     "start_time": "2022-10-05T16:46:18.363813",
     "status": "completed"
    },
    "tags": []
   },
   "outputs": [
    {
     "ename": "ValueError",
     "evalue": "could not convert string to float: 'negative'",
     "output_type": "error",
     "traceback": [
      "\u001b[1;31m---------------------------------------------------------------------------\u001b[0m",
      "\u001b[1;31mValueError\u001b[0m                                Traceback (most recent call last)",
      "Cell \u001b[1;32mIn[36], line 2\u001b[0m\n\u001b[0;32m      1\u001b[0m \u001b[38;5;66;03m#Preprocessing, convert lables in train and test to float\u001b[39;00m\n\u001b[1;32m----> 2\u001b[0m train_df[\u001b[38;5;124m\"\u001b[39m\u001b[38;5;124mlabels\u001b[39m\u001b[38;5;124m\"\u001b[39m] \u001b[38;5;241m=\u001b[39m \u001b[43mtrain_df\u001b[49m\u001b[38;5;241;43m.\u001b[39;49m\u001b[43mlabels\u001b[49m\u001b[38;5;241;43m.\u001b[39;49m\u001b[43mastype\u001b[49m\u001b[43m(\u001b[49m\u001b[38;5;28;43mfloat\u001b[39;49m\u001b[43m)\u001b[49m\n\u001b[0;32m      3\u001b[0m test_df[\u001b[38;5;124m\"\u001b[39m\u001b[38;5;124mlabels\u001b[39m\u001b[38;5;124m\"\u001b[39m] \u001b[38;5;241m=\u001b[39m test_df\u001b[38;5;241m.\u001b[39mlabels\u001b[38;5;241m.\u001b[39mastype(\u001b[38;5;28mfloat\u001b[39m)\n",
      "File \u001b[1;32m~\\AppData\\Local\\Programs\\Python\\Python310\\lib\\site-packages\\pandas\\core\\generic.py:6240\u001b[0m, in \u001b[0;36mNDFrame.astype\u001b[1;34m(self, dtype, copy, errors)\u001b[0m\n\u001b[0;32m   6233\u001b[0m     results \u001b[38;5;241m=\u001b[39m [\n\u001b[0;32m   6234\u001b[0m         \u001b[38;5;28mself\u001b[39m\u001b[38;5;241m.\u001b[39miloc[:, i]\u001b[38;5;241m.\u001b[39mastype(dtype, copy\u001b[38;5;241m=\u001b[39mcopy)\n\u001b[0;32m   6235\u001b[0m         \u001b[38;5;28;01mfor\u001b[39;00m i \u001b[38;5;129;01min\u001b[39;00m \u001b[38;5;28mrange\u001b[39m(\u001b[38;5;28mlen\u001b[39m(\u001b[38;5;28mself\u001b[39m\u001b[38;5;241m.\u001b[39mcolumns))\n\u001b[0;32m   6236\u001b[0m     ]\n\u001b[0;32m   6238\u001b[0m \u001b[38;5;28;01melse\u001b[39;00m:\n\u001b[0;32m   6239\u001b[0m     \u001b[38;5;66;03m# else, only a single dtype is given\u001b[39;00m\n\u001b[1;32m-> 6240\u001b[0m     new_data \u001b[38;5;241m=\u001b[39m \u001b[38;5;28;43mself\u001b[39;49m\u001b[38;5;241;43m.\u001b[39;49m\u001b[43m_mgr\u001b[49m\u001b[38;5;241;43m.\u001b[39;49m\u001b[43mastype\u001b[49m\u001b[43m(\u001b[49m\u001b[43mdtype\u001b[49m\u001b[38;5;241;43m=\u001b[39;49m\u001b[43mdtype\u001b[49m\u001b[43m,\u001b[49m\u001b[43m \u001b[49m\u001b[43mcopy\u001b[49m\u001b[38;5;241;43m=\u001b[39;49m\u001b[43mcopy\u001b[49m\u001b[43m,\u001b[49m\u001b[43m \u001b[49m\u001b[43merrors\u001b[49m\u001b[38;5;241;43m=\u001b[39;49m\u001b[43merrors\u001b[49m\u001b[43m)\u001b[49m\n\u001b[0;32m   6241\u001b[0m     \u001b[38;5;28;01mreturn\u001b[39;00m \u001b[38;5;28mself\u001b[39m\u001b[38;5;241m.\u001b[39m_constructor(new_data)\u001b[38;5;241m.\u001b[39m__finalize__(\u001b[38;5;28mself\u001b[39m, method\u001b[38;5;241m=\u001b[39m\u001b[38;5;124m\"\u001b[39m\u001b[38;5;124mastype\u001b[39m\u001b[38;5;124m\"\u001b[39m)\n\u001b[0;32m   6243\u001b[0m \u001b[38;5;66;03m# GH 33113: handle empty frame or series\u001b[39;00m\n",
      "File \u001b[1;32m~\\AppData\\Local\\Programs\\Python\\Python310\\lib\\site-packages\\pandas\\core\\internals\\managers.py:448\u001b[0m, in \u001b[0;36mBaseBlockManager.astype\u001b[1;34m(self, dtype, copy, errors)\u001b[0m\n\u001b[0;32m    447\u001b[0m \u001b[38;5;28;01mdef\u001b[39;00m \u001b[38;5;21mastype\u001b[39m(\u001b[38;5;28mself\u001b[39m: T, dtype, copy: \u001b[38;5;28mbool\u001b[39m \u001b[38;5;241m=\u001b[39m \u001b[38;5;28;01mFalse\u001b[39;00m, errors: \u001b[38;5;28mstr\u001b[39m \u001b[38;5;241m=\u001b[39m \u001b[38;5;124m\"\u001b[39m\u001b[38;5;124mraise\u001b[39m\u001b[38;5;124m\"\u001b[39m) \u001b[38;5;241m-\u001b[39m\u001b[38;5;241m>\u001b[39m T:\n\u001b[1;32m--> 448\u001b[0m     \u001b[38;5;28;01mreturn\u001b[39;00m \u001b[38;5;28;43mself\u001b[39;49m\u001b[38;5;241;43m.\u001b[39;49m\u001b[43mapply\u001b[49m\u001b[43m(\u001b[49m\u001b[38;5;124;43m\"\u001b[39;49m\u001b[38;5;124;43mastype\u001b[39;49m\u001b[38;5;124;43m\"\u001b[39;49m\u001b[43m,\u001b[49m\u001b[43m \u001b[49m\u001b[43mdtype\u001b[49m\u001b[38;5;241;43m=\u001b[39;49m\u001b[43mdtype\u001b[49m\u001b[43m,\u001b[49m\u001b[43m \u001b[49m\u001b[43mcopy\u001b[49m\u001b[38;5;241;43m=\u001b[39;49m\u001b[43mcopy\u001b[49m\u001b[43m,\u001b[49m\u001b[43m \u001b[49m\u001b[43merrors\u001b[49m\u001b[38;5;241;43m=\u001b[39;49m\u001b[43merrors\u001b[49m\u001b[43m)\u001b[49m\n",
      "File \u001b[1;32m~\\AppData\\Local\\Programs\\Python\\Python310\\lib\\site-packages\\pandas\\core\\internals\\managers.py:352\u001b[0m, in \u001b[0;36mBaseBlockManager.apply\u001b[1;34m(self, f, align_keys, ignore_failures, **kwargs)\u001b[0m\n\u001b[0;32m    350\u001b[0m         applied \u001b[38;5;241m=\u001b[39m b\u001b[38;5;241m.\u001b[39mapply(f, \u001b[38;5;241m*\u001b[39m\u001b[38;5;241m*\u001b[39mkwargs)\n\u001b[0;32m    351\u001b[0m     \u001b[38;5;28;01melse\u001b[39;00m:\n\u001b[1;32m--> 352\u001b[0m         applied \u001b[38;5;241m=\u001b[39m \u001b[38;5;28mgetattr\u001b[39m(b, f)(\u001b[38;5;241m*\u001b[39m\u001b[38;5;241m*\u001b[39mkwargs)\n\u001b[0;32m    353\u001b[0m \u001b[38;5;28;01mexcept\u001b[39;00m (\u001b[38;5;167;01mTypeError\u001b[39;00m, \u001b[38;5;167;01mNotImplementedError\u001b[39;00m):\n\u001b[0;32m    354\u001b[0m     \u001b[38;5;28;01mif\u001b[39;00m \u001b[38;5;129;01mnot\u001b[39;00m ignore_failures:\n",
      "File \u001b[1;32m~\\AppData\\Local\\Programs\\Python\\Python310\\lib\\site-packages\\pandas\\core\\internals\\blocks.py:526\u001b[0m, in \u001b[0;36mBlock.astype\u001b[1;34m(self, dtype, copy, errors)\u001b[0m\n\u001b[0;32m    508\u001b[0m \u001b[38;5;250m\u001b[39m\u001b[38;5;124;03m\"\"\"\u001b[39;00m\n\u001b[0;32m    509\u001b[0m \u001b[38;5;124;03mCoerce to the new dtype.\u001b[39;00m\n\u001b[0;32m    510\u001b[0m \n\u001b[1;32m   (...)\u001b[0m\n\u001b[0;32m    522\u001b[0m \u001b[38;5;124;03mBlock\u001b[39;00m\n\u001b[0;32m    523\u001b[0m \u001b[38;5;124;03m\"\"\"\u001b[39;00m\n\u001b[0;32m    524\u001b[0m values \u001b[38;5;241m=\u001b[39m \u001b[38;5;28mself\u001b[39m\u001b[38;5;241m.\u001b[39mvalues\n\u001b[1;32m--> 526\u001b[0m new_values \u001b[38;5;241m=\u001b[39m \u001b[43mastype_array_safe\u001b[49m\u001b[43m(\u001b[49m\u001b[43mvalues\u001b[49m\u001b[43m,\u001b[49m\u001b[43m \u001b[49m\u001b[43mdtype\u001b[49m\u001b[43m,\u001b[49m\u001b[43m \u001b[49m\u001b[43mcopy\u001b[49m\u001b[38;5;241;43m=\u001b[39;49m\u001b[43mcopy\u001b[49m\u001b[43m,\u001b[49m\u001b[43m \u001b[49m\u001b[43merrors\u001b[49m\u001b[38;5;241;43m=\u001b[39;49m\u001b[43merrors\u001b[49m\u001b[43m)\u001b[49m\n\u001b[0;32m    528\u001b[0m new_values \u001b[38;5;241m=\u001b[39m maybe_coerce_values(new_values)\n\u001b[0;32m    529\u001b[0m newb \u001b[38;5;241m=\u001b[39m \u001b[38;5;28mself\u001b[39m\u001b[38;5;241m.\u001b[39mmake_block(new_values)\n",
      "File \u001b[1;32m~\\AppData\\Local\\Programs\\Python\\Python310\\lib\\site-packages\\pandas\\core\\dtypes\\astype.py:299\u001b[0m, in \u001b[0;36mastype_array_safe\u001b[1;34m(values, dtype, copy, errors)\u001b[0m\n\u001b[0;32m    296\u001b[0m     \u001b[38;5;28;01mreturn\u001b[39;00m values\u001b[38;5;241m.\u001b[39mcopy()\n\u001b[0;32m    298\u001b[0m \u001b[38;5;28;01mtry\u001b[39;00m:\n\u001b[1;32m--> 299\u001b[0m     new_values \u001b[38;5;241m=\u001b[39m \u001b[43mastype_array\u001b[49m\u001b[43m(\u001b[49m\u001b[43mvalues\u001b[49m\u001b[43m,\u001b[49m\u001b[43m \u001b[49m\u001b[43mdtype\u001b[49m\u001b[43m,\u001b[49m\u001b[43m \u001b[49m\u001b[43mcopy\u001b[49m\u001b[38;5;241;43m=\u001b[39;49m\u001b[43mcopy\u001b[49m\u001b[43m)\u001b[49m\n\u001b[0;32m    300\u001b[0m \u001b[38;5;28;01mexcept\u001b[39;00m (\u001b[38;5;167;01mValueError\u001b[39;00m, \u001b[38;5;167;01mTypeError\u001b[39;00m):\n\u001b[0;32m    301\u001b[0m     \u001b[38;5;66;03m# e.g. astype_nansafe can fail on object-dtype of strings\u001b[39;00m\n\u001b[0;32m    302\u001b[0m     \u001b[38;5;66;03m#  trying to convert to float\u001b[39;00m\n\u001b[0;32m    303\u001b[0m     \u001b[38;5;28;01mif\u001b[39;00m errors \u001b[38;5;241m==\u001b[39m \u001b[38;5;124m\"\u001b[39m\u001b[38;5;124mignore\u001b[39m\u001b[38;5;124m\"\u001b[39m:\n",
      "File \u001b[1;32m~\\AppData\\Local\\Programs\\Python\\Python310\\lib\\site-packages\\pandas\\core\\dtypes\\astype.py:230\u001b[0m, in \u001b[0;36mastype_array\u001b[1;34m(values, dtype, copy)\u001b[0m\n\u001b[0;32m    227\u001b[0m     values \u001b[38;5;241m=\u001b[39m values\u001b[38;5;241m.\u001b[39mastype(dtype, copy\u001b[38;5;241m=\u001b[39mcopy)\n\u001b[0;32m    229\u001b[0m \u001b[38;5;28;01melse\u001b[39;00m:\n\u001b[1;32m--> 230\u001b[0m     values \u001b[38;5;241m=\u001b[39m \u001b[43mastype_nansafe\u001b[49m\u001b[43m(\u001b[49m\u001b[43mvalues\u001b[49m\u001b[43m,\u001b[49m\u001b[43m \u001b[49m\u001b[43mdtype\u001b[49m\u001b[43m,\u001b[49m\u001b[43m \u001b[49m\u001b[43mcopy\u001b[49m\u001b[38;5;241;43m=\u001b[39;49m\u001b[43mcopy\u001b[49m\u001b[43m)\u001b[49m\n\u001b[0;32m    232\u001b[0m \u001b[38;5;66;03m# in pandas we don't store numpy str dtypes, so convert to object\u001b[39;00m\n\u001b[0;32m    233\u001b[0m \u001b[38;5;28;01mif\u001b[39;00m \u001b[38;5;28misinstance\u001b[39m(dtype, np\u001b[38;5;241m.\u001b[39mdtype) \u001b[38;5;129;01mand\u001b[39;00m \u001b[38;5;28missubclass\u001b[39m(values\u001b[38;5;241m.\u001b[39mdtype\u001b[38;5;241m.\u001b[39mtype, \u001b[38;5;28mstr\u001b[39m):\n",
      "File \u001b[1;32m~\\AppData\\Local\\Programs\\Python\\Python310\\lib\\site-packages\\pandas\\core\\dtypes\\astype.py:170\u001b[0m, in \u001b[0;36mastype_nansafe\u001b[1;34m(arr, dtype, copy, skipna)\u001b[0m\n\u001b[0;32m    166\u001b[0m     \u001b[38;5;28;01mraise\u001b[39;00m \u001b[38;5;167;01mValueError\u001b[39;00m(msg)\n\u001b[0;32m    168\u001b[0m \u001b[38;5;28;01mif\u001b[39;00m copy \u001b[38;5;129;01mor\u001b[39;00m is_object_dtype(arr\u001b[38;5;241m.\u001b[39mdtype) \u001b[38;5;129;01mor\u001b[39;00m is_object_dtype(dtype):\n\u001b[0;32m    169\u001b[0m     \u001b[38;5;66;03m# Explicit copy, or required since NumPy can't view from / to object.\u001b[39;00m\n\u001b[1;32m--> 170\u001b[0m     \u001b[38;5;28;01mreturn\u001b[39;00m \u001b[43marr\u001b[49m\u001b[38;5;241;43m.\u001b[39;49m\u001b[43mastype\u001b[49m\u001b[43m(\u001b[49m\u001b[43mdtype\u001b[49m\u001b[43m,\u001b[49m\u001b[43m \u001b[49m\u001b[43mcopy\u001b[49m\u001b[38;5;241;43m=\u001b[39;49m\u001b[38;5;28;43;01mTrue\u001b[39;49;00m\u001b[43m)\u001b[49m\n\u001b[0;32m    172\u001b[0m \u001b[38;5;28;01mreturn\u001b[39;00m arr\u001b[38;5;241m.\u001b[39mastype(dtype, copy\u001b[38;5;241m=\u001b[39mcopy)\n",
      "\u001b[1;31mValueError\u001b[0m: could not convert string to float: 'negative'"
     ]
    }
   ],
   "source": [
    "#Preprocessing, convert lables in train and test to float\n",
    "train_df[\"labels\"] = train_df.labels.astype(float)\n",
    "test_df[\"labels\"] = test_df.labels.astype(float)"
   ]
  },
  {
   "cell_type": "code",
   "execution_count": 38,
   "id": "950bb960",
   "metadata": {
    "execution": {
     "iopub.execute_input": "2022-10-05T16:46:18.465554Z",
     "iopub.status.busy": "2022-10-05T16:46:18.465193Z",
     "iopub.status.idle": "2022-10-05T16:46:18.484398Z",
     "shell.execute_reply": "2022-10-05T16:46:18.482173Z"
    },
    "papermill": {
     "duration": 0.059141,
     "end_time": "2022-10-05T16:46:18.488678",
     "exception": false,
     "start_time": "2022-10-05T16:46:18.429537",
     "status": "completed"
    },
    "tags": []
   },
   "outputs": [
    {
     "data": {
      "text/html": [
       "<div>\n",
       "<style scoped>\n",
       "    .dataframe tbody tr th:only-of-type {\n",
       "        vertical-align: middle;\n",
       "    }\n",
       "\n",
       "    .dataframe tbody tr th {\n",
       "        vertical-align: top;\n",
       "    }\n",
       "\n",
       "    .dataframe thead th {\n",
       "        text-align: right;\n",
       "    }\n",
       "</style>\n",
       "<table border=\"1\" class=\"dataframe\">\n",
       "  <thead>\n",
       "    <tr style=\"text-align: right;\">\n",
       "      <th></th>\n",
       "      <th>textID</th>\n",
       "      <th>inputs</th>\n",
       "      <th>selected_text</th>\n",
       "      <th>labels</th>\n",
       "      <th>label</th>\n",
       "      <th>spectok</th>\n",
       "    </tr>\n",
       "  </thead>\n",
       "  <tbody>\n",
       "    <tr>\n",
       "      <th>18604</th>\n",
       "      <td>7f65be55b7</td>\n",
       "      <td>I`m gonna wear my new purple converse today</td>\n",
       "      <td>I`m gonna wear my new purple converse today</td>\n",
       "      <td>neutral</td>\n",
       "      <td>NaN</td>\n",
       "      <td>[False]</td>\n",
       "    </tr>\n",
       "  </tbody>\n",
       "</table>\n",
       "</div>"
      ],
      "text/plain": [
       "           textID                                       inputs  \\\n",
       "18604  7f65be55b7  I`m gonna wear my new purple converse today   \n",
       "\n",
       "                                     selected_text   labels  label  spectok  \n",
       "18604  I`m gonna wear my new purple converse today  neutral    NaN  [False]  "
      ]
     },
     "execution_count": 38,
     "metadata": {},
     "output_type": "execute_result"
    }
   ],
   "source": [
    "test_df.head(1)"
   ]
  },
  {
   "cell_type": "code",
   "execution_count": 42,
   "id": "89e0760b",
   "metadata": {
    "execution": {
     "iopub.execute_input": "2022-10-05T16:46:18.532103Z",
     "iopub.status.busy": "2022-10-05T16:46:18.531856Z",
     "iopub.status.idle": "2022-10-05T16:46:18.561764Z",
     "shell.execute_reply": "2022-10-05T16:46:18.560936Z"
    },
    "papermill": {
     "duration": 0.053638,
     "end_time": "2022-10-05T16:46:18.564391",
     "exception": false,
     "start_time": "2022-10-05T16:46:18.510753",
     "status": "completed"
    },
    "tags": []
   },
   "outputs": [
    {
     "data": {
      "text/plain": [
       "Dataset({\n",
       "    features: ['textID', 'inputs', 'selected_text', 'labels', 'label', 'spectok', '__index_level_0__'],\n",
       "    num_rows: 21984\n",
       "})"
      ]
     },
     "execution_count": 42,
     "metadata": {},
     "output_type": "execute_result"
    }
   ],
   "source": [
    "#convert train_df into a dataset\n",
    "\n",
    "ds = Dataset.from_pandas(train_df)\n",
    "ds"
   ]
  },
  {
   "cell_type": "code",
   "execution_count": 43,
   "id": "ca700467",
   "metadata": {
    "execution": {
     "iopub.execute_input": "2022-10-05T16:46:18.606584Z",
     "iopub.status.busy": "2022-10-05T16:46:18.606381Z",
     "iopub.status.idle": "2022-10-05T16:46:18.610674Z",
     "shell.execute_reply": "2022-10-05T16:46:18.609760Z"
    },
    "papermill": {
     "duration": 0.027944,
     "end_time": "2022-10-05T16:46:18.612815",
     "exception": false,
     "start_time": "2022-10-05T16:46:18.584871",
     "status": "completed"
    },
    "tags": []
   },
   "outputs": [],
   "source": [
    "#Define function to perform tokenization processing\n",
    "\n",
    "def token(x): return tokz(x[\"inputs\"])"
   ]
  },
  {
   "cell_type": "code",
   "execution_count": 44,
   "id": "368bfed3",
   "metadata": {
    "execution": {
     "iopub.execute_input": "2022-10-05T16:46:18.655243Z",
     "iopub.status.busy": "2022-10-05T16:46:18.655046Z",
     "iopub.status.idle": "2022-10-05T16:46:19.366556Z",
     "shell.execute_reply": "2022-10-05T16:46:19.365917Z"
    },
    "papermill": {
     "duration": 0.734894,
     "end_time": "2022-10-05T16:46:19.368433",
     "exception": false,
     "start_time": "2022-10-05T16:46:18.633539",
     "status": "completed"
    },
    "tags": []
   },
   "outputs": [
    {
     "data": {
      "application/vnd.jupyter.widget-view+json": {
       "model_id": "",
       "version_major": 2,
       "version_minor": 0
      },
      "text/plain": [
       "Map:   0%|          | 0/21984 [00:00<?, ? examples/s]"
      ]
     },
     "metadata": {},
     "output_type": "display_data"
    },
    {
     "data": {
      "text/plain": [
       "Dataset({\n",
       "    features: ['textID', 'inputs', 'selected_text', 'labels', 'label', 'spectok', '__index_level_0__', 'input_ids', 'token_type_ids', 'attention_mask'],\n",
       "    num_rows: 21984\n",
       "})"
      ]
     },
     "execution_count": 44,
     "metadata": {},
     "output_type": "execute_result"
    }
   ],
   "source": [
    "#map ds to function to obtain new ds\n",
    "\n",
    "ds_tok = ds.map(token, batched=True)\n",
    "ds_tok"
   ]
  },
  {
   "cell_type": "markdown",
   "id": "6b426edd",
   "metadata": {
    "papermill": {
     "duration": 0.019538,
     "end_time": "2022-10-05T16:46:19.408079",
     "exception": false,
     "start_time": "2022-10-05T16:46:19.388541",
     "status": "completed"
    },
    "tags": []
   },
   "source": [
    "Another column inputs_id have been added to our dataset and what does simply contains in the tokenized and numericalized array of every tweet that we have."
   ]
  },
  {
   "cell_type": "code",
   "execution_count": 45,
   "id": "43535176",
   "metadata": {
    "execution": {
     "iopub.execute_input": "2022-10-05T16:46:19.449578Z",
     "iopub.status.busy": "2022-10-05T16:46:19.448788Z",
     "iopub.status.idle": "2022-10-05T16:46:19.455892Z",
     "shell.execute_reply": "2022-10-05T16:46:19.454962Z"
    },
    "papermill": {
     "duration": 0.030106,
     "end_time": "2022-10-05T16:46:19.457812",
     "exception": false,
     "start_time": "2022-10-05T16:46:19.427706",
     "status": "completed"
    },
    "tags": []
   },
   "outputs": [
    {
     "data": {
      "text/plain": [
       "('apparently you are not getting on anymore... sad',\n",
       " [1, 3900, 274, 281, 298, 646, 277, 3731, 260, 260, 260, 3756, 2])"
      ]
     },
     "execution_count": 45,
     "metadata": {},
     "output_type": "execute_result"
    }
   ],
   "source": [
    "sample_tok = ds_tok[0]\n",
    "sample_tok[\"inputs\"], sample_tok[\"input_ids\"]"
   ]
  },
  {
   "cell_type": "code",
   "execution_count": 46,
   "id": "68d9a0fd",
   "metadata": {
    "execution": {
     "iopub.execute_input": "2022-10-05T16:46:19.499487Z",
     "iopub.status.busy": "2022-10-05T16:46:19.498773Z",
     "iopub.status.idle": "2022-10-05T16:46:19.576728Z",
     "shell.execute_reply": "2022-10-05T16:46:19.575703Z"
    },
    "papermill": {
     "duration": 0.102045,
     "end_time": "2022-10-05T16:46:19.579648",
     "exception": false,
     "start_time": "2022-10-05T16:46:19.477603",
     "status": "completed"
    },
    "tags": []
   },
   "outputs": [
    {
     "data": {
      "text/plain": [
       "472"
      ]
     },
     "execution_count": 46,
     "metadata": {},
     "output_type": "execute_result"
    }
   ],
   "source": [
    "#let us see the vocab for a word in the input that is displayed above -- happy\n",
    "tokz.vocab[\"▁love\"] #the character before happy, tells us that it is begining of a word"
   ]
  },
  {
   "cell_type": "markdown",
   "id": "4e2ddbf5",
   "metadata": {
    "papermill": {
     "duration": 0.019622,
     "end_time": "2022-10-05T16:46:19.619385",
     "exception": false,
     "start_time": "2022-10-05T16:46:19.599763",
     "status": "completed"
    },
    "tags": []
   },
   "source": [
    "### Splitting the dataset into train and validation set.`"
   ]
  },
  {
   "cell_type": "code",
   "execution_count": 47,
   "id": "5b32a847",
   "metadata": {
    "execution": {
     "iopub.execute_input": "2022-10-05T16:46:19.660815Z",
     "iopub.status.busy": "2022-10-05T16:46:19.660115Z",
     "iopub.status.idle": "2022-10-05T16:46:19.674040Z",
     "shell.execute_reply": "2022-10-05T16:46:19.672940Z"
    },
    "papermill": {
     "duration": 0.036827,
     "end_time": "2022-10-05T16:46:19.676121",
     "exception": false,
     "start_time": "2022-10-05T16:46:19.639294",
     "status": "completed"
    },
    "tags": []
   },
   "outputs": [
    {
     "data": {
      "text/plain": [
       "DatasetDict({\n",
       "    train: Dataset({\n",
       "        features: ['textID', 'inputs', 'selected_text', 'labels', 'label', 'spectok', '__index_level_0__', 'input_ids', 'token_type_ids', 'attention_mask'],\n",
       "        num_rows: 17587\n",
       "    })\n",
       "    test: Dataset({\n",
       "        features: ['textID', 'inputs', 'selected_text', 'labels', 'label', 'spectok', '__index_level_0__', 'input_ids', 'token_type_ids', 'attention_mask'],\n",
       "        num_rows: 4397\n",
       "    })\n",
       "})"
      ]
     },
     "execution_count": 47,
     "metadata": {},
     "output_type": "execute_result"
    }
   ],
   "source": [
    "dds = ds_tok.train_test_split(0.20, seed=42)\n",
    "dds"
   ]
  },
  {
   "cell_type": "code",
   "execution_count": 48,
   "id": "09b4f853",
   "metadata": {
    "execution": {
     "iopub.execute_input": "2022-10-05T16:46:19.717669Z",
     "iopub.status.busy": "2022-10-05T16:46:19.716989Z",
     "iopub.status.idle": "2022-10-05T16:46:19.925571Z",
     "shell.execute_reply": "2022-10-05T16:46:19.924651Z"
    },
    "papermill": {
     "duration": 0.231485,
     "end_time": "2022-10-05T16:46:19.927658",
     "exception": false,
     "start_time": "2022-10-05T16:46:19.696173",
     "status": "completed"
    },
    "tags": []
   },
   "outputs": [
    {
     "data": {
      "application/vnd.jupyter.widget-view+json": {
       "model_id": "b2827dd9854b41cc810cad4dec3423c0",
       "version_major": 2,
       "version_minor": 0
      },
      "text/plain": [
       "Map:   0%|          | 0/5496 [00:00<?, ? examples/s]"
      ]
     },
     "metadata": {},
     "output_type": "display_data"
    },
    {
     "ename": "TypeError",
     "evalue": "TextEncodeInput must be Union[TextInputSequence, Tuple[InputSequence, InputSequence]]",
     "output_type": "error",
     "traceback": [
      "\u001b[1;31m---------------------------------------------------------------------------\u001b[0m",
      "\u001b[1;31mTypeError\u001b[0m                                 Traceback (most recent call last)",
      "Cell \u001b[1;32mIn[48], line 3\u001b[0m\n\u001b[0;32m      1\u001b[0m \u001b[38;5;66;03m#treat test set to be as standard dataset\u001b[39;00m\n\u001b[1;32m----> 3\u001b[0m eval_ds \u001b[38;5;241m=\u001b[39m \u001b[43mDataset\u001b[49m\u001b[38;5;241;43m.\u001b[39;49m\u001b[43mfrom_pandas\u001b[49m\u001b[43m(\u001b[49m\u001b[43mtest_df\u001b[49m\u001b[38;5;241;43m.\u001b[39;49m\u001b[43mdrop\u001b[49m\u001b[43m(\u001b[49m\u001b[43mcolumns\u001b[49m\u001b[38;5;241;43m=\u001b[39;49m\u001b[38;5;124;43m\"\u001b[39;49m\u001b[38;5;124;43mlabels\u001b[39;49m\u001b[38;5;124;43m\"\u001b[39;49m\u001b[43m)\u001b[49m\u001b[43m)\u001b[49m\u001b[38;5;241;43m.\u001b[39;49m\u001b[43mmap\u001b[49m\u001b[43m(\u001b[49m\u001b[43mtoken\u001b[49m\u001b[43m,\u001b[49m\u001b[43m \u001b[49m\u001b[43mbatched\u001b[49m\u001b[38;5;241;43m=\u001b[39;49m\u001b[38;5;28;43;01mTrue\u001b[39;49;00m\u001b[43m)\u001b[49m\n\u001b[0;32m      4\u001b[0m eval_ds\n",
      "File \u001b[1;32m~\\AppData\\Local\\Programs\\Python\\Python310\\lib\\site-packages\\datasets\\arrow_dataset.py:563\u001b[0m, in \u001b[0;36mtransmit_tasks.<locals>.wrapper\u001b[1;34m(*args, **kwargs)\u001b[0m\n\u001b[0;32m    561\u001b[0m     \u001b[38;5;28mself\u001b[39m: \u001b[38;5;124m\"\u001b[39m\u001b[38;5;124mDataset\u001b[39m\u001b[38;5;124m\"\u001b[39m \u001b[38;5;241m=\u001b[39m kwargs\u001b[38;5;241m.\u001b[39mpop(\u001b[38;5;124m\"\u001b[39m\u001b[38;5;124mself\u001b[39m\u001b[38;5;124m\"\u001b[39m)\n\u001b[0;32m    562\u001b[0m \u001b[38;5;66;03m# apply actual function\u001b[39;00m\n\u001b[1;32m--> 563\u001b[0m out: Union[\u001b[38;5;124m\"\u001b[39m\u001b[38;5;124mDataset\u001b[39m\u001b[38;5;124m\"\u001b[39m, \u001b[38;5;124m\"\u001b[39m\u001b[38;5;124mDatasetDict\u001b[39m\u001b[38;5;124m\"\u001b[39m] \u001b[38;5;241m=\u001b[39m func(\u001b[38;5;28mself\u001b[39m, \u001b[38;5;241m*\u001b[39margs, \u001b[38;5;241m*\u001b[39m\u001b[38;5;241m*\u001b[39mkwargs)\n\u001b[0;32m    564\u001b[0m datasets: List[\u001b[38;5;124m\"\u001b[39m\u001b[38;5;124mDataset\u001b[39m\u001b[38;5;124m\"\u001b[39m] \u001b[38;5;241m=\u001b[39m \u001b[38;5;28mlist\u001b[39m(out\u001b[38;5;241m.\u001b[39mvalues()) \u001b[38;5;28;01mif\u001b[39;00m \u001b[38;5;28misinstance\u001b[39m(out, \u001b[38;5;28mdict\u001b[39m) \u001b[38;5;28;01melse\u001b[39;00m [out]\n\u001b[0;32m    565\u001b[0m \u001b[38;5;28;01mfor\u001b[39;00m dataset \u001b[38;5;129;01min\u001b[39;00m datasets:\n\u001b[0;32m    566\u001b[0m     \u001b[38;5;66;03m# Remove task templates if a column mapping of the template is no longer valid\u001b[39;00m\n",
      "File \u001b[1;32m~\\AppData\\Local\\Programs\\Python\\Python310\\lib\\site-packages\\datasets\\arrow_dataset.py:528\u001b[0m, in \u001b[0;36mtransmit_format.<locals>.wrapper\u001b[1;34m(*args, **kwargs)\u001b[0m\n\u001b[0;32m    521\u001b[0m self_format \u001b[38;5;241m=\u001b[39m {\n\u001b[0;32m    522\u001b[0m     \u001b[38;5;124m\"\u001b[39m\u001b[38;5;124mtype\u001b[39m\u001b[38;5;124m\"\u001b[39m: \u001b[38;5;28mself\u001b[39m\u001b[38;5;241m.\u001b[39m_format_type,\n\u001b[0;32m    523\u001b[0m     \u001b[38;5;124m\"\u001b[39m\u001b[38;5;124mformat_kwargs\u001b[39m\u001b[38;5;124m\"\u001b[39m: \u001b[38;5;28mself\u001b[39m\u001b[38;5;241m.\u001b[39m_format_kwargs,\n\u001b[0;32m    524\u001b[0m     \u001b[38;5;124m\"\u001b[39m\u001b[38;5;124mcolumns\u001b[39m\u001b[38;5;124m\"\u001b[39m: \u001b[38;5;28mself\u001b[39m\u001b[38;5;241m.\u001b[39m_format_columns,\n\u001b[0;32m    525\u001b[0m     \u001b[38;5;124m\"\u001b[39m\u001b[38;5;124moutput_all_columns\u001b[39m\u001b[38;5;124m\"\u001b[39m: \u001b[38;5;28mself\u001b[39m\u001b[38;5;241m.\u001b[39m_output_all_columns,\n\u001b[0;32m    526\u001b[0m }\n\u001b[0;32m    527\u001b[0m \u001b[38;5;66;03m# apply actual function\u001b[39;00m\n\u001b[1;32m--> 528\u001b[0m out: Union[\u001b[38;5;124m\"\u001b[39m\u001b[38;5;124mDataset\u001b[39m\u001b[38;5;124m\"\u001b[39m, \u001b[38;5;124m\"\u001b[39m\u001b[38;5;124mDatasetDict\u001b[39m\u001b[38;5;124m\"\u001b[39m] \u001b[38;5;241m=\u001b[39m func(\u001b[38;5;28mself\u001b[39m, \u001b[38;5;241m*\u001b[39margs, \u001b[38;5;241m*\u001b[39m\u001b[38;5;241m*\u001b[39mkwargs)\n\u001b[0;32m    529\u001b[0m datasets: List[\u001b[38;5;124m\"\u001b[39m\u001b[38;5;124mDataset\u001b[39m\u001b[38;5;124m\"\u001b[39m] \u001b[38;5;241m=\u001b[39m \u001b[38;5;28mlist\u001b[39m(out\u001b[38;5;241m.\u001b[39mvalues()) \u001b[38;5;28;01mif\u001b[39;00m \u001b[38;5;28misinstance\u001b[39m(out, \u001b[38;5;28mdict\u001b[39m) \u001b[38;5;28;01melse\u001b[39;00m [out]\n\u001b[0;32m    530\u001b[0m \u001b[38;5;66;03m# re-apply format to the output\u001b[39;00m\n",
      "File \u001b[1;32m~\\AppData\\Local\\Programs\\Python\\Python310\\lib\\site-packages\\datasets\\arrow_dataset.py:2953\u001b[0m, in \u001b[0;36mDataset.map\u001b[1;34m(self, function, with_indices, with_rank, input_columns, batched, batch_size, drop_last_batch, remove_columns, keep_in_memory, load_from_cache_file, cache_file_name, writer_batch_size, features, disable_nullable, fn_kwargs, num_proc, suffix_template, new_fingerprint, desc)\u001b[0m\n\u001b[0;32m   2945\u001b[0m \u001b[38;5;28;01mif\u001b[39;00m transformed_dataset \u001b[38;5;129;01mis\u001b[39;00m \u001b[38;5;28;01mNone\u001b[39;00m:\n\u001b[0;32m   2946\u001b[0m     \u001b[38;5;28;01mwith\u001b[39;00m logging\u001b[38;5;241m.\u001b[39mtqdm(\n\u001b[0;32m   2947\u001b[0m         disable\u001b[38;5;241m=\u001b[39m\u001b[38;5;129;01mnot\u001b[39;00m logging\u001b[38;5;241m.\u001b[39mis_progress_bar_enabled(),\n\u001b[0;32m   2948\u001b[0m         unit\u001b[38;5;241m=\u001b[39m\u001b[38;5;124m\"\u001b[39m\u001b[38;5;124m examples\u001b[39m\u001b[38;5;124m\"\u001b[39m,\n\u001b[1;32m   (...)\u001b[0m\n\u001b[0;32m   2951\u001b[0m         desc\u001b[38;5;241m=\u001b[39mdesc \u001b[38;5;129;01mor\u001b[39;00m \u001b[38;5;124m\"\u001b[39m\u001b[38;5;124mMap\u001b[39m\u001b[38;5;124m\"\u001b[39m,\n\u001b[0;32m   2952\u001b[0m     ) \u001b[38;5;28;01mas\u001b[39;00m pbar:\n\u001b[1;32m-> 2953\u001b[0m         \u001b[38;5;28;01mfor\u001b[39;00m rank, done, content \u001b[38;5;129;01min\u001b[39;00m Dataset\u001b[38;5;241m.\u001b[39m_map_single(\u001b[38;5;241m*\u001b[39m\u001b[38;5;241m*\u001b[39mdataset_kwargs):\n\u001b[0;32m   2954\u001b[0m             \u001b[38;5;28;01mif\u001b[39;00m done:\n\u001b[0;32m   2955\u001b[0m                 shards_done \u001b[38;5;241m+\u001b[39m\u001b[38;5;241m=\u001b[39m \u001b[38;5;241m1\u001b[39m\n",
      "File \u001b[1;32m~\\AppData\\Local\\Programs\\Python\\Python310\\lib\\site-packages\\datasets\\arrow_dataset.py:3329\u001b[0m, in \u001b[0;36mDataset._map_single\u001b[1;34m(shard, function, with_indices, with_rank, input_columns, batched, batch_size, drop_last_batch, remove_columns, keep_in_memory, cache_file_name, writer_batch_size, features, disable_nullable, fn_kwargs, new_fingerprint, rank, offset)\u001b[0m\n\u001b[0;32m   3325\u001b[0m indices \u001b[38;5;241m=\u001b[39m \u001b[38;5;28mlist\u001b[39m(\n\u001b[0;32m   3326\u001b[0m     \u001b[38;5;28mrange\u001b[39m(\u001b[38;5;241m*\u001b[39m(\u001b[38;5;28mslice\u001b[39m(i, i \u001b[38;5;241m+\u001b[39m batch_size)\u001b[38;5;241m.\u001b[39mindices(shard\u001b[38;5;241m.\u001b[39mnum_rows)))\n\u001b[0;32m   3327\u001b[0m )  \u001b[38;5;66;03m# Something simpler?\u001b[39;00m\n\u001b[0;32m   3328\u001b[0m \u001b[38;5;28;01mtry\u001b[39;00m:\n\u001b[1;32m-> 3329\u001b[0m     batch \u001b[38;5;241m=\u001b[39m \u001b[43mapply_function_on_filtered_inputs\u001b[49m\u001b[43m(\u001b[49m\n\u001b[0;32m   3330\u001b[0m \u001b[43m        \u001b[49m\u001b[43mbatch\u001b[49m\u001b[43m,\u001b[49m\n\u001b[0;32m   3331\u001b[0m \u001b[43m        \u001b[49m\u001b[43mindices\u001b[49m\u001b[43m,\u001b[49m\n\u001b[0;32m   3332\u001b[0m \u001b[43m        \u001b[49m\u001b[43mcheck_same_num_examples\u001b[49m\u001b[38;5;241;43m=\u001b[39;49m\u001b[38;5;28;43mlen\u001b[39;49m\u001b[43m(\u001b[49m\u001b[43mshard\u001b[49m\u001b[38;5;241;43m.\u001b[39;49m\u001b[43mlist_indexes\u001b[49m\u001b[43m(\u001b[49m\u001b[43m)\u001b[49m\u001b[43m)\u001b[49m\u001b[43m \u001b[49m\u001b[38;5;241;43m>\u001b[39;49m\u001b[43m \u001b[49m\u001b[38;5;241;43m0\u001b[39;49m\u001b[43m,\u001b[49m\n\u001b[0;32m   3333\u001b[0m \u001b[43m        \u001b[49m\u001b[43moffset\u001b[49m\u001b[38;5;241;43m=\u001b[39;49m\u001b[43moffset\u001b[49m\u001b[43m,\u001b[49m\n\u001b[0;32m   3334\u001b[0m \u001b[43m    \u001b[49m\u001b[43m)\u001b[49m\n\u001b[0;32m   3335\u001b[0m \u001b[38;5;28;01mexcept\u001b[39;00m NumExamplesMismatchError:\n\u001b[0;32m   3336\u001b[0m     \u001b[38;5;28;01mraise\u001b[39;00m DatasetTransformationNotAllowedError(\n\u001b[0;32m   3337\u001b[0m         \u001b[38;5;124m\"\u001b[39m\u001b[38;5;124mUsing `.map` in batched mode on a dataset with attached indexes is allowed only if it doesn\u001b[39m\u001b[38;5;124m'\u001b[39m\u001b[38;5;124mt create or remove existing examples. You can first run `.drop_index() to remove your index and then re-add it.\u001b[39m\u001b[38;5;124m\"\u001b[39m\n\u001b[0;32m   3338\u001b[0m     ) \u001b[38;5;28;01mfrom\u001b[39;00m \u001b[38;5;28mNone\u001b[39m\n",
      "File \u001b[1;32m~\\AppData\\Local\\Programs\\Python\\Python310\\lib\\site-packages\\datasets\\arrow_dataset.py:3210\u001b[0m, in \u001b[0;36mDataset._map_single.<locals>.apply_function_on_filtered_inputs\u001b[1;34m(pa_inputs, indices, check_same_num_examples, offset)\u001b[0m\n\u001b[0;32m   3208\u001b[0m \u001b[38;5;28;01mif\u001b[39;00m with_rank:\n\u001b[0;32m   3209\u001b[0m     additional_args \u001b[38;5;241m+\u001b[39m\u001b[38;5;241m=\u001b[39m (rank,)\n\u001b[1;32m-> 3210\u001b[0m processed_inputs \u001b[38;5;241m=\u001b[39m function(\u001b[38;5;241m*\u001b[39mfn_args, \u001b[38;5;241m*\u001b[39madditional_args, \u001b[38;5;241m*\u001b[39m\u001b[38;5;241m*\u001b[39mfn_kwargs)\n\u001b[0;32m   3211\u001b[0m \u001b[38;5;28;01mif\u001b[39;00m \u001b[38;5;28misinstance\u001b[39m(processed_inputs, LazyDict):\n\u001b[0;32m   3212\u001b[0m     processed_inputs \u001b[38;5;241m=\u001b[39m {\n\u001b[0;32m   3213\u001b[0m         k: v \u001b[38;5;28;01mfor\u001b[39;00m k, v \u001b[38;5;129;01min\u001b[39;00m processed_inputs\u001b[38;5;241m.\u001b[39mdata\u001b[38;5;241m.\u001b[39mitems() \u001b[38;5;28;01mif\u001b[39;00m k \u001b[38;5;129;01mnot\u001b[39;00m \u001b[38;5;129;01min\u001b[39;00m processed_inputs\u001b[38;5;241m.\u001b[39mkeys_to_format\n\u001b[0;32m   3214\u001b[0m     }\n",
      "Cell \u001b[1;32mIn[43], line 3\u001b[0m, in \u001b[0;36mtoken\u001b[1;34m(x)\u001b[0m\n\u001b[1;32m----> 3\u001b[0m \u001b[38;5;28;01mdef\u001b[39;00m \u001b[38;5;21mtoken\u001b[39m(x): \u001b[38;5;28;01mreturn\u001b[39;00m \u001b[43mtokz\u001b[49m\u001b[43m(\u001b[49m\u001b[43mx\u001b[49m\u001b[43m[\u001b[49m\u001b[38;5;124;43m\"\u001b[39;49m\u001b[38;5;124;43minputs\u001b[39;49m\u001b[38;5;124;43m\"\u001b[39;49m\u001b[43m]\u001b[49m\u001b[43m)\u001b[49m\n",
      "File \u001b[1;32m~\\AppData\\Local\\Programs\\Python\\Python310\\lib\\site-packages\\transformers\\tokenization_utils_base.py:2530\u001b[0m, in \u001b[0;36mPreTrainedTokenizerBase.__call__\u001b[1;34m(self, text, text_pair, text_target, text_pair_target, add_special_tokens, padding, truncation, max_length, stride, is_split_into_words, pad_to_multiple_of, return_tensors, return_token_type_ids, return_attention_mask, return_overflowing_tokens, return_special_tokens_mask, return_offsets_mapping, return_length, verbose, **kwargs)\u001b[0m\n\u001b[0;32m   2528\u001b[0m     \u001b[38;5;28;01mif\u001b[39;00m \u001b[38;5;129;01mnot\u001b[39;00m \u001b[38;5;28mself\u001b[39m\u001b[38;5;241m.\u001b[39m_in_target_context_manager:\n\u001b[0;32m   2529\u001b[0m         \u001b[38;5;28mself\u001b[39m\u001b[38;5;241m.\u001b[39m_switch_to_input_mode()\n\u001b[1;32m-> 2530\u001b[0m     encodings \u001b[38;5;241m=\u001b[39m \u001b[38;5;28mself\u001b[39m\u001b[38;5;241m.\u001b[39m_call_one(text\u001b[38;5;241m=\u001b[39mtext, text_pair\u001b[38;5;241m=\u001b[39mtext_pair, \u001b[38;5;241m*\u001b[39m\u001b[38;5;241m*\u001b[39mall_kwargs)\n\u001b[0;32m   2531\u001b[0m \u001b[38;5;28;01mif\u001b[39;00m text_target \u001b[38;5;129;01mis\u001b[39;00m \u001b[38;5;129;01mnot\u001b[39;00m \u001b[38;5;28;01mNone\u001b[39;00m:\n\u001b[0;32m   2532\u001b[0m     \u001b[38;5;28mself\u001b[39m\u001b[38;5;241m.\u001b[39m_switch_to_target_mode()\n",
      "File \u001b[1;32m~\\AppData\\Local\\Programs\\Python\\Python310\\lib\\site-packages\\transformers\\tokenization_utils_base.py:2616\u001b[0m, in \u001b[0;36mPreTrainedTokenizerBase._call_one\u001b[1;34m(self, text, text_pair, add_special_tokens, padding, truncation, max_length, stride, is_split_into_words, pad_to_multiple_of, return_tensors, return_token_type_ids, return_attention_mask, return_overflowing_tokens, return_special_tokens_mask, return_offsets_mapping, return_length, verbose, **kwargs)\u001b[0m\n\u001b[0;32m   2611\u001b[0m         \u001b[38;5;28;01mraise\u001b[39;00m \u001b[38;5;167;01mValueError\u001b[39;00m(\n\u001b[0;32m   2612\u001b[0m             \u001b[38;5;124mf\u001b[39m\u001b[38;5;124m\"\u001b[39m\u001b[38;5;124mbatch length of `text`: \u001b[39m\u001b[38;5;132;01m{\u001b[39;00m\u001b[38;5;28mlen\u001b[39m(text)\u001b[38;5;132;01m}\u001b[39;00m\u001b[38;5;124m does not match batch length of `text_pair`:\u001b[39m\u001b[38;5;124m\"\u001b[39m\n\u001b[0;32m   2613\u001b[0m             \u001b[38;5;124mf\u001b[39m\u001b[38;5;124m\"\u001b[39m\u001b[38;5;124m \u001b[39m\u001b[38;5;132;01m{\u001b[39;00m\u001b[38;5;28mlen\u001b[39m(text_pair)\u001b[38;5;132;01m}\u001b[39;00m\u001b[38;5;124m.\u001b[39m\u001b[38;5;124m\"\u001b[39m\n\u001b[0;32m   2614\u001b[0m         )\n\u001b[0;32m   2615\u001b[0m     batch_text_or_text_pairs \u001b[38;5;241m=\u001b[39m \u001b[38;5;28mlist\u001b[39m(\u001b[38;5;28mzip\u001b[39m(text, text_pair)) \u001b[38;5;28;01mif\u001b[39;00m text_pair \u001b[38;5;129;01mis\u001b[39;00m \u001b[38;5;129;01mnot\u001b[39;00m \u001b[38;5;28;01mNone\u001b[39;00m \u001b[38;5;28;01melse\u001b[39;00m text\n\u001b[1;32m-> 2616\u001b[0m     \u001b[38;5;28;01mreturn\u001b[39;00m \u001b[38;5;28mself\u001b[39m\u001b[38;5;241m.\u001b[39mbatch_encode_plus(\n\u001b[0;32m   2617\u001b[0m         batch_text_or_text_pairs\u001b[38;5;241m=\u001b[39mbatch_text_or_text_pairs,\n\u001b[0;32m   2618\u001b[0m         add_special_tokens\u001b[38;5;241m=\u001b[39madd_special_tokens,\n\u001b[0;32m   2619\u001b[0m         padding\u001b[38;5;241m=\u001b[39mpadding,\n\u001b[0;32m   2620\u001b[0m         truncation\u001b[38;5;241m=\u001b[39mtruncation,\n\u001b[0;32m   2621\u001b[0m         max_length\u001b[38;5;241m=\u001b[39mmax_length,\n\u001b[0;32m   2622\u001b[0m         stride\u001b[38;5;241m=\u001b[39mstride,\n\u001b[0;32m   2623\u001b[0m         is_split_into_words\u001b[38;5;241m=\u001b[39mis_split_into_words,\n\u001b[0;32m   2624\u001b[0m         pad_to_multiple_of\u001b[38;5;241m=\u001b[39mpad_to_multiple_of,\n\u001b[0;32m   2625\u001b[0m         return_tensors\u001b[38;5;241m=\u001b[39mreturn_tensors,\n\u001b[0;32m   2626\u001b[0m         return_token_type_ids\u001b[38;5;241m=\u001b[39mreturn_token_type_ids,\n\u001b[0;32m   2627\u001b[0m         return_attention_mask\u001b[38;5;241m=\u001b[39mreturn_attention_mask,\n\u001b[0;32m   2628\u001b[0m         return_overflowing_tokens\u001b[38;5;241m=\u001b[39mreturn_overflowing_tokens,\n\u001b[0;32m   2629\u001b[0m         return_special_tokens_mask\u001b[38;5;241m=\u001b[39mreturn_special_tokens_mask,\n\u001b[0;32m   2630\u001b[0m         return_offsets_mapping\u001b[38;5;241m=\u001b[39mreturn_offsets_mapping,\n\u001b[0;32m   2631\u001b[0m         return_length\u001b[38;5;241m=\u001b[39mreturn_length,\n\u001b[0;32m   2632\u001b[0m         verbose\u001b[38;5;241m=\u001b[39mverbose,\n\u001b[0;32m   2633\u001b[0m         \u001b[38;5;241m*\u001b[39m\u001b[38;5;241m*\u001b[39mkwargs,\n\u001b[0;32m   2634\u001b[0m     )\n\u001b[0;32m   2635\u001b[0m \u001b[38;5;28;01melse\u001b[39;00m:\n\u001b[0;32m   2636\u001b[0m     \u001b[38;5;28;01mreturn\u001b[39;00m \u001b[38;5;28mself\u001b[39m\u001b[38;5;241m.\u001b[39mencode_plus(\n\u001b[0;32m   2637\u001b[0m         text\u001b[38;5;241m=\u001b[39mtext,\n\u001b[0;32m   2638\u001b[0m         text_pair\u001b[38;5;241m=\u001b[39mtext_pair,\n\u001b[1;32m   (...)\u001b[0m\n\u001b[0;32m   2654\u001b[0m         \u001b[38;5;241m*\u001b[39m\u001b[38;5;241m*\u001b[39mkwargs,\n\u001b[0;32m   2655\u001b[0m     )\n",
      "File \u001b[1;32m~\\AppData\\Local\\Programs\\Python\\Python310\\lib\\site-packages\\transformers\\tokenization_utils_base.py:2807\u001b[0m, in \u001b[0;36mPreTrainedTokenizerBase.batch_encode_plus\u001b[1;34m(self, batch_text_or_text_pairs, add_special_tokens, padding, truncation, max_length, stride, is_split_into_words, pad_to_multiple_of, return_tensors, return_token_type_ids, return_attention_mask, return_overflowing_tokens, return_special_tokens_mask, return_offsets_mapping, return_length, verbose, **kwargs)\u001b[0m\n\u001b[0;32m   2797\u001b[0m \u001b[38;5;66;03m# Backward compatibility for 'truncation_strategy', 'pad_to_max_length'\u001b[39;00m\n\u001b[0;32m   2798\u001b[0m padding_strategy, truncation_strategy, max_length, kwargs \u001b[38;5;241m=\u001b[39m \u001b[38;5;28mself\u001b[39m\u001b[38;5;241m.\u001b[39m_get_padding_truncation_strategies(\n\u001b[0;32m   2799\u001b[0m     padding\u001b[38;5;241m=\u001b[39mpadding,\n\u001b[0;32m   2800\u001b[0m     truncation\u001b[38;5;241m=\u001b[39mtruncation,\n\u001b[1;32m   (...)\u001b[0m\n\u001b[0;32m   2804\u001b[0m     \u001b[38;5;241m*\u001b[39m\u001b[38;5;241m*\u001b[39mkwargs,\n\u001b[0;32m   2805\u001b[0m )\n\u001b[1;32m-> 2807\u001b[0m \u001b[38;5;28;01mreturn\u001b[39;00m \u001b[38;5;28mself\u001b[39m\u001b[38;5;241m.\u001b[39m_batch_encode_plus(\n\u001b[0;32m   2808\u001b[0m     batch_text_or_text_pairs\u001b[38;5;241m=\u001b[39mbatch_text_or_text_pairs,\n\u001b[0;32m   2809\u001b[0m     add_special_tokens\u001b[38;5;241m=\u001b[39madd_special_tokens,\n\u001b[0;32m   2810\u001b[0m     padding_strategy\u001b[38;5;241m=\u001b[39mpadding_strategy,\n\u001b[0;32m   2811\u001b[0m     truncation_strategy\u001b[38;5;241m=\u001b[39mtruncation_strategy,\n\u001b[0;32m   2812\u001b[0m     max_length\u001b[38;5;241m=\u001b[39mmax_length,\n\u001b[0;32m   2813\u001b[0m     stride\u001b[38;5;241m=\u001b[39mstride,\n\u001b[0;32m   2814\u001b[0m     is_split_into_words\u001b[38;5;241m=\u001b[39mis_split_into_words,\n\u001b[0;32m   2815\u001b[0m     pad_to_multiple_of\u001b[38;5;241m=\u001b[39mpad_to_multiple_of,\n\u001b[0;32m   2816\u001b[0m     return_tensors\u001b[38;5;241m=\u001b[39mreturn_tensors,\n\u001b[0;32m   2817\u001b[0m     return_token_type_ids\u001b[38;5;241m=\u001b[39mreturn_token_type_ids,\n\u001b[0;32m   2818\u001b[0m     return_attention_mask\u001b[38;5;241m=\u001b[39mreturn_attention_mask,\n\u001b[0;32m   2819\u001b[0m     return_overflowing_tokens\u001b[38;5;241m=\u001b[39mreturn_overflowing_tokens,\n\u001b[0;32m   2820\u001b[0m     return_special_tokens_mask\u001b[38;5;241m=\u001b[39mreturn_special_tokens_mask,\n\u001b[0;32m   2821\u001b[0m     return_offsets_mapping\u001b[38;5;241m=\u001b[39mreturn_offsets_mapping,\n\u001b[0;32m   2822\u001b[0m     return_length\u001b[38;5;241m=\u001b[39mreturn_length,\n\u001b[0;32m   2823\u001b[0m     verbose\u001b[38;5;241m=\u001b[39mverbose,\n\u001b[0;32m   2824\u001b[0m     \u001b[38;5;241m*\u001b[39m\u001b[38;5;241m*\u001b[39mkwargs,\n\u001b[0;32m   2825\u001b[0m )\n",
      "File \u001b[1;32m~\\AppData\\Local\\Programs\\Python\\Python310\\lib\\site-packages\\transformers\\tokenization_utils_fast.py:428\u001b[0m, in \u001b[0;36mPreTrainedTokenizerFast._batch_encode_plus\u001b[1;34m(self, batch_text_or_text_pairs, add_special_tokens, padding_strategy, truncation_strategy, max_length, stride, is_split_into_words, pad_to_multiple_of, return_tensors, return_token_type_ids, return_attention_mask, return_overflowing_tokens, return_special_tokens_mask, return_offsets_mapping, return_length, verbose)\u001b[0m\n\u001b[0;32m    419\u001b[0m \u001b[38;5;66;03m# Set the truncation and padding strategy and restore the initial configuration\u001b[39;00m\n\u001b[0;32m    420\u001b[0m \u001b[38;5;28mself\u001b[39m\u001b[38;5;241m.\u001b[39mset_truncation_and_padding(\n\u001b[0;32m    421\u001b[0m     padding_strategy\u001b[38;5;241m=\u001b[39mpadding_strategy,\n\u001b[0;32m    422\u001b[0m     truncation_strategy\u001b[38;5;241m=\u001b[39mtruncation_strategy,\n\u001b[1;32m   (...)\u001b[0m\n\u001b[0;32m    425\u001b[0m     pad_to_multiple_of\u001b[38;5;241m=\u001b[39mpad_to_multiple_of,\n\u001b[0;32m    426\u001b[0m )\n\u001b[1;32m--> 428\u001b[0m encodings \u001b[38;5;241m=\u001b[39m \u001b[38;5;28;43mself\u001b[39;49m\u001b[38;5;241;43m.\u001b[39;49m\u001b[43m_tokenizer\u001b[49m\u001b[38;5;241;43m.\u001b[39;49m\u001b[43mencode_batch\u001b[49m\u001b[43m(\u001b[49m\n\u001b[0;32m    429\u001b[0m \u001b[43m    \u001b[49m\u001b[43mbatch_text_or_text_pairs\u001b[49m\u001b[43m,\u001b[49m\n\u001b[0;32m    430\u001b[0m \u001b[43m    \u001b[49m\u001b[43madd_special_tokens\u001b[49m\u001b[38;5;241;43m=\u001b[39;49m\u001b[43madd_special_tokens\u001b[49m\u001b[43m,\u001b[49m\n\u001b[0;32m    431\u001b[0m \u001b[43m    \u001b[49m\u001b[43mis_pretokenized\u001b[49m\u001b[38;5;241;43m=\u001b[39;49m\u001b[43mis_split_into_words\u001b[49m\u001b[43m,\u001b[49m\n\u001b[0;32m    432\u001b[0m \u001b[43m\u001b[49m\u001b[43m)\u001b[49m\n\u001b[0;32m    434\u001b[0m \u001b[38;5;66;03m# Convert encoding to dict\u001b[39;00m\n\u001b[0;32m    435\u001b[0m \u001b[38;5;66;03m# `Tokens` has type: Tuple[\u001b[39;00m\n\u001b[0;32m    436\u001b[0m \u001b[38;5;66;03m#                       List[Dict[str, List[List[int]]]] or List[Dict[str, 2D-Tensor]],\u001b[39;00m\n\u001b[0;32m    437\u001b[0m \u001b[38;5;66;03m#                       List[EncodingFast]\u001b[39;00m\n\u001b[0;32m    438\u001b[0m \u001b[38;5;66;03m#                    ]\u001b[39;00m\n\u001b[0;32m    439\u001b[0m \u001b[38;5;66;03m# with nested dimensions corresponding to batch, overflows, sequence length\u001b[39;00m\n\u001b[0;32m    440\u001b[0m tokens_and_encodings \u001b[38;5;241m=\u001b[39m [\n\u001b[0;32m    441\u001b[0m     \u001b[38;5;28mself\u001b[39m\u001b[38;5;241m.\u001b[39m_convert_encoding(\n\u001b[0;32m    442\u001b[0m         encoding\u001b[38;5;241m=\u001b[39mencoding,\n\u001b[1;32m   (...)\u001b[0m\n\u001b[0;32m    451\u001b[0m     \u001b[38;5;28;01mfor\u001b[39;00m encoding \u001b[38;5;129;01min\u001b[39;00m encodings\n\u001b[0;32m    452\u001b[0m ]\n",
      "\u001b[1;31mTypeError\u001b[0m: TextEncodeInput must be Union[TextInputSequence, Tuple[InputSequence, InputSequence]]"
     ]
    }
   ],
   "source": [
    "#treat test set to be as standard dataset\n",
    "\n",
    "eval_ds = Dataset.from_pandas(test_df.drop(columns=\"labels\")).map(token, batched=True)\n",
    "eval_ds"
   ]
  },
  {
   "cell_type": "markdown",
   "id": "38c3ade4",
   "metadata": {
    "papermill": {
     "duration": 0.019966,
     "end_time": "2022-10-05T16:46:19.968023",
     "exception": false,
     "start_time": "2022-10-05T16:46:19.948057",
     "status": "completed"
    },
    "tags": []
   },
   "source": [
    "### Loss function and Error Metrics\n",
    "\n",
    "Loss function is an arithmetics function that helps measure the error of a given model and which the model seeks to optimize, an example of los functions is the crosss entropy or mean absholute error, often times it is usually hard to meassure their relative performance and thus make meaningful assertions from them. On the other side, an error metric is used to evaluate the performance of a model for human comprehension, they might be useful for a loss function becuause the lack of smooth curve on the gradient of the curve w.r.t change of the independennt variables. Examples of error metrics in classification include accuracy, recall, precision e.t.c. Let us define the following metrics below. "
   ]
  },
  {
   "cell_type": "code",
   "execution_count": 49,
   "id": "9f28a356",
   "metadata": {
    "execution": {
     "iopub.execute_input": "2022-10-05T16:46:20.009928Z",
     "iopub.status.busy": "2022-10-05T16:46:20.009113Z",
     "iopub.status.idle": "2022-10-05T16:46:20.014344Z",
     "shell.execute_reply": "2022-10-05T16:46:20.013390Z"
    },
    "papermill": {
     "duration": 0.028199,
     "end_time": "2022-10-05T16:46:20.016394",
     "exception": false,
     "start_time": "2022-10-05T16:46:19.988195",
     "status": "completed"
    },
    "tags": []
   },
   "outputs": [],
   "source": [
    "def sig(x): return 1 / (1 + np.exp (-x))\n",
    "\n",
    "def acc(x, y):\n",
    "    x = x > 0.5\n",
    "    return accuracy_score(x,y)"
   ]
  },
  {
   "cell_type": "code",
   "execution_count": 50,
   "id": "49de351a",
   "metadata": {
    "execution": {
     "iopub.execute_input": "2022-10-05T16:46:20.057994Z",
     "iopub.status.busy": "2022-10-05T16:46:20.057456Z",
     "iopub.status.idle": "2022-10-05T16:46:20.066703Z",
     "shell.execute_reply": "2022-10-05T16:46:20.065902Z"
    },
    "papermill": {
     "duration": 0.032391,
     "end_time": "2022-10-05T16:46:20.068681",
     "exception": false,
     "start_time": "2022-10-05T16:46:20.036290",
     "status": "completed"
    },
    "tags": []
   },
   "outputs": [
    {
     "data": {
      "text/plain": [
       "0.5"
      ]
     },
     "execution_count": 50,
     "metadata": {},
     "output_type": "execute_result"
    }
   ],
   "source": [
    "sig(np.array([0.5, 0.6]))>0.5#.astype(int)\n",
    "accuracy_score(sig(np.array([0.5, 0.6]))>0.5, [1, 0])"
   ]
  },
  {
   "cell_type": "code",
   "execution_count": 51,
   "id": "7eceb01d",
   "metadata": {
    "execution": {
     "iopub.execute_input": "2022-10-05T16:46:20.110838Z",
     "iopub.status.busy": "2022-10-05T16:46:20.110148Z",
     "iopub.status.idle": "2022-10-05T16:46:20.115452Z",
     "shell.execute_reply": "2022-10-05T16:46:20.114641Z"
    },
    "papermill": {
     "duration": 0.028163,
     "end_time": "2022-10-05T16:46:20.117339",
     "exception": false,
     "start_time": "2022-10-05T16:46:20.089176",
     "status": "completed"
    },
    "tags": []
   },
   "outputs": [],
   "source": [
    "def precision(x, y):\n",
    "    x = x > 0.5\n",
    "    tp = confusion_matrix(x, y)[1][1]\n",
    "    fp = confusion_matrix(x, y)[1][0]\n",
    "    denom = tp + fp\n",
    "    return tp/denom"
   ]
  },
  {
   "cell_type": "code",
   "execution_count": 52,
   "id": "a4b399ab",
   "metadata": {
    "execution": {
     "iopub.execute_input": "2022-10-05T16:46:20.158871Z",
     "iopub.status.busy": "2022-10-05T16:46:20.158677Z",
     "iopub.status.idle": "2022-10-05T16:46:20.163122Z",
     "shell.execute_reply": "2022-10-05T16:46:20.162188Z"
    },
    "papermill": {
     "duration": 0.027809,
     "end_time": "2022-10-05T16:46:20.165323",
     "exception": false,
     "start_time": "2022-10-05T16:46:20.137514",
     "status": "completed"
    },
    "tags": []
   },
   "outputs": [],
   "source": [
    "def recall(x, y):\n",
    "    x = x > 0.5  #using the threshold at 0.5\n",
    "    tp = float(confusion_matrix(x, y)[1][1])\n",
    "    fn = float(confusion_matrix(x, y)[0][1])\n",
    "    denom = tp + fn\n",
    "    return tp/denom"
   ]
  },
  {
   "cell_type": "code",
   "execution_count": 53,
   "id": "596f80fe",
   "metadata": {
    "execution": {
     "iopub.execute_input": "2022-10-05T16:46:20.207344Z",
     "iopub.status.busy": "2022-10-05T16:46:20.206634Z",
     "iopub.status.idle": "2022-10-05T16:46:20.211545Z",
     "shell.execute_reply": "2022-10-05T16:46:20.210664Z"
    },
    "papermill": {
     "duration": 0.027575,
     "end_time": "2022-10-05T16:46:20.213511",
     "exception": false,
     "start_time": "2022-10-05T16:46:20.185936",
     "status": "completed"
    },
    "tags": []
   },
   "outputs": [],
   "source": [
    "def err(eval_preds): return {\"accuracy\": acc(*eval_preds),\n",
    "                            \"recall\": recall(*eval_preds),\n",
    "                            \"precision\": precision(*eval_preds)}"
   ]
  },
  {
   "cell_type": "markdown",
   "id": "a02fc195",
   "metadata": {
    "papermill": {
     "duration": 0.019855,
     "end_time": "2022-10-05T16:46:20.253227",
     "exception": false,
     "start_time": "2022-10-05T16:46:20.233372",
     "status": "completed"
    },
    "tags": []
   },
   "source": [
    "### Training our transformer"
   ]
  },
  {
   "cell_type": "code",
   "execution_count": 54,
   "id": "38d0b1f1",
   "metadata": {
    "execution": {
     "iopub.execute_input": "2022-10-05T16:46:20.294793Z",
     "iopub.status.busy": "2022-10-05T16:46:20.294196Z",
     "iopub.status.idle": "2022-10-05T16:46:25.191459Z",
     "shell.execute_reply": "2022-10-05T16:46:25.189864Z"
    },
    "papermill": {
     "duration": 4.921199,
     "end_time": "2022-10-05T16:46:25.194463",
     "exception": false,
     "start_time": "2022-10-05T16:46:20.273264",
     "status": "completed"
    },
    "tags": []
   },
   "outputs": [],
   "source": [
    "from transformers import Trainer, TrainingArguments"
   ]
  },
  {
   "cell_type": "code",
   "execution_count": 55,
   "id": "18bf9ed2",
   "metadata": {
    "execution": {
     "iopub.execute_input": "2022-10-05T16:46:25.238342Z",
     "iopub.status.busy": "2022-10-05T16:46:25.237500Z",
     "iopub.status.idle": "2022-10-05T16:46:25.242420Z",
     "shell.execute_reply": "2022-10-05T16:46:25.241600Z"
    },
    "papermill": {
     "duration": 0.028547,
     "end_time": "2022-10-05T16:46:25.244543",
     "exception": false,
     "start_time": "2022-10-05T16:46:25.215996",
     "status": "completed"
    },
    "tags": []
   },
   "outputs": [],
   "source": [
    "#instantiating hyperparameters\n",
    "bs = 64\n",
    "lr = 3e-6\n",
    "epochs = 8"
   ]
  },
  {
   "cell_type": "code",
   "execution_count": 57,
   "id": "2d4de5f2",
   "metadata": {
    "execution": {
     "iopub.execute_input": "2022-10-05T16:46:25.287594Z",
     "iopub.status.busy": "2022-10-05T16:46:25.286050Z",
     "iopub.status.idle": "2022-10-05T16:46:25.372192Z",
     "shell.execute_reply": "2022-10-05T16:46:25.371351Z"
    },
    "papermill": {
     "duration": 0.109332,
     "end_time": "2022-10-05T16:46:25.374319",
     "exception": false,
     "start_time": "2022-10-05T16:46:25.264987",
     "status": "completed"
    },
    "tags": []
   },
   "outputs": [],
   "source": [
    "#Boilerplate TrainingARguments\n",
    "args = TrainingArguments('outputs', learning_rate=lr, warmup_ratio=0.1, lr_scheduler_type='cosine',\n",
    "    evaluation_strategy=\"epoch\", per_device_train_batch_size=bs, per_device_eval_batch_size=bs*2,\n",
    "    num_train_epochs=epochs, weight_decay=0.01, report_to='none')"
   ]
  },
  {
   "cell_type": "code",
   "execution_count": 58,
   "id": "7c1b66f4",
   "metadata": {
    "execution": {
     "iopub.execute_input": "2022-10-05T16:46:25.417008Z",
     "iopub.status.busy": "2022-10-05T16:46:25.416413Z",
     "iopub.status.idle": "2022-10-05T16:46:46.505626Z",
     "shell.execute_reply": "2022-10-05T16:46:46.504469Z"
    },
    "papermill": {
     "duration": 21.113256,
     "end_time": "2022-10-05T16:46:46.508305",
     "exception": false,
     "start_time": "2022-10-05T16:46:25.395049",
     "status": "completed"
    },
    "tags": []
   },
   "outputs": [
    {
     "data": {
      "application/vnd.jupyter.widget-view+json": {
       "model_id": "bf0362756bc44603b90d14531240e466",
       "version_major": 2,
       "version_minor": 0
      },
      "text/plain": [
       "Downloading pytorch_model.bin:   0%|          | 0.00/286M [00:00<?, ?B/s]"
      ]
     },
     "metadata": {},
     "output_type": "display_data"
    },
    {
     "ename": "KeyboardInterrupt",
     "evalue": "",
     "output_type": "error",
     "traceback": [
      "\u001b[1;31m---------------------------------------------------------------------------\u001b[0m",
      "\u001b[1;31mKeyboardInterrupt\u001b[0m                         Traceback (most recent call last)",
      "Cell \u001b[1;32mIn[58], line 2\u001b[0m\n\u001b[0;32m      1\u001b[0m \u001b[38;5;66;03m#Instantiate model and Trainer\u001b[39;00m\n\u001b[1;32m----> 2\u001b[0m model \u001b[38;5;241m=\u001b[39m \u001b[43mAutoModelForSequenceClassification\u001b[49m\u001b[38;5;241;43m.\u001b[39;49m\u001b[43mfrom_pretrained\u001b[49m\u001b[43m(\u001b[49m\u001b[43mmodel_name\u001b[49m\u001b[43m,\u001b[49m\u001b[43m \u001b[49m\u001b[43mnum_labels\u001b[49m\u001b[38;5;241;43m=\u001b[39;49m\u001b[38;5;241;43m1\u001b[39;49m\u001b[43m)\u001b[49m\n\u001b[0;32m      3\u001b[0m trainer \u001b[38;5;241m=\u001b[39m Trainer(model, args, train_dataset\u001b[38;5;241m=\u001b[39mdds[\u001b[38;5;124m'\u001b[39m\u001b[38;5;124mtrain\u001b[39m\u001b[38;5;124m'\u001b[39m], eval_dataset\u001b[38;5;241m=\u001b[39mdds[\u001b[38;5;124m'\u001b[39m\u001b[38;5;124mtest\u001b[39m\u001b[38;5;124m'\u001b[39m],\n\u001b[0;32m      4\u001b[0m                   tokenizer\u001b[38;5;241m=\u001b[39mtokz, compute_metrics\u001b[38;5;241m=\u001b[39merr)\n",
      "File \u001b[1;32m~\\AppData\\Local\\Programs\\Python\\Python310\\lib\\site-packages\\transformers\\models\\auto\\auto_factory.py:471\u001b[0m, in \u001b[0;36m_BaseAutoModelClass.from_pretrained\u001b[1;34m(cls, pretrained_model_name_or_path, *model_args, **kwargs)\u001b[0m\n\u001b[0;32m    469\u001b[0m \u001b[38;5;28;01melif\u001b[39;00m \u001b[38;5;28mtype\u001b[39m(config) \u001b[38;5;129;01min\u001b[39;00m \u001b[38;5;28mcls\u001b[39m\u001b[38;5;241m.\u001b[39m_model_mapping\u001b[38;5;241m.\u001b[39mkeys():\n\u001b[0;32m    470\u001b[0m     model_class \u001b[38;5;241m=\u001b[39m _get_model_class(config, \u001b[38;5;28mcls\u001b[39m\u001b[38;5;241m.\u001b[39m_model_mapping)\n\u001b[1;32m--> 471\u001b[0m     \u001b[38;5;28;01mreturn\u001b[39;00m model_class\u001b[38;5;241m.\u001b[39mfrom_pretrained(\n\u001b[0;32m    472\u001b[0m         pretrained_model_name_or_path, \u001b[38;5;241m*\u001b[39mmodel_args, config\u001b[38;5;241m=\u001b[39mconfig, \u001b[38;5;241m*\u001b[39m\u001b[38;5;241m*\u001b[39mhub_kwargs, \u001b[38;5;241m*\u001b[39m\u001b[38;5;241m*\u001b[39mkwargs\n\u001b[0;32m    473\u001b[0m     )\n\u001b[0;32m    474\u001b[0m \u001b[38;5;28;01mraise\u001b[39;00m \u001b[38;5;167;01mValueError\u001b[39;00m(\n\u001b[0;32m    475\u001b[0m     \u001b[38;5;124mf\u001b[39m\u001b[38;5;124m\"\u001b[39m\u001b[38;5;124mUnrecognized configuration class \u001b[39m\u001b[38;5;132;01m{\u001b[39;00mconfig\u001b[38;5;241m.\u001b[39m\u001b[38;5;18m__class__\u001b[39m\u001b[38;5;132;01m}\u001b[39;00m\u001b[38;5;124m for this kind of AutoModel: \u001b[39m\u001b[38;5;132;01m{\u001b[39;00m\u001b[38;5;28mcls\u001b[39m\u001b[38;5;241m.\u001b[39m\u001b[38;5;18m__name__\u001b[39m\u001b[38;5;132;01m}\u001b[39;00m\u001b[38;5;124m.\u001b[39m\u001b[38;5;130;01m\\n\u001b[39;00m\u001b[38;5;124m\"\u001b[39m\n\u001b[0;32m    476\u001b[0m     \u001b[38;5;124mf\u001b[39m\u001b[38;5;124m\"\u001b[39m\u001b[38;5;124mModel type should be one of \u001b[39m\u001b[38;5;132;01m{\u001b[39;00m\u001b[38;5;124m'\u001b[39m\u001b[38;5;124m, \u001b[39m\u001b[38;5;124m'\u001b[39m\u001b[38;5;241m.\u001b[39mjoin(c\u001b[38;5;241m.\u001b[39m\u001b[38;5;18m__name__\u001b[39m\u001b[38;5;250m \u001b[39m\u001b[38;5;28;01mfor\u001b[39;00m\u001b[38;5;250m \u001b[39mc\u001b[38;5;250m \u001b[39m\u001b[38;5;129;01min\u001b[39;00m\u001b[38;5;250m \u001b[39m\u001b[38;5;28mcls\u001b[39m\u001b[38;5;241m.\u001b[39m_model_mapping\u001b[38;5;241m.\u001b[39mkeys())\u001b[38;5;132;01m}\u001b[39;00m\u001b[38;5;124m.\u001b[39m\u001b[38;5;124m\"\u001b[39m\n\u001b[0;32m    477\u001b[0m )\n",
      "File \u001b[1;32m~\\AppData\\Local\\Programs\\Python\\Python310\\lib\\site-packages\\transformers\\modeling_utils.py:2319\u001b[0m, in \u001b[0;36mPreTrainedModel.from_pretrained\u001b[1;34m(cls, pretrained_model_name_or_path, *model_args, **kwargs)\u001b[0m\n\u001b[0;32m   2304\u001b[0m \u001b[38;5;28;01mtry\u001b[39;00m:\n\u001b[0;32m   2305\u001b[0m     \u001b[38;5;66;03m# Load from URL or cache if already cached\u001b[39;00m\n\u001b[0;32m   2306\u001b[0m     cached_file_kwargs \u001b[38;5;241m=\u001b[39m {\n\u001b[0;32m   2307\u001b[0m         \u001b[38;5;124m\"\u001b[39m\u001b[38;5;124mcache_dir\u001b[39m\u001b[38;5;124m\"\u001b[39m: cache_dir,\n\u001b[0;32m   2308\u001b[0m         \u001b[38;5;124m\"\u001b[39m\u001b[38;5;124mforce_download\u001b[39m\u001b[38;5;124m\"\u001b[39m: force_download,\n\u001b[1;32m   (...)\u001b[0m\n\u001b[0;32m   2317\u001b[0m         \u001b[38;5;124m\"\u001b[39m\u001b[38;5;124m_commit_hash\u001b[39m\u001b[38;5;124m\"\u001b[39m: commit_hash,\n\u001b[0;32m   2318\u001b[0m     }\n\u001b[1;32m-> 2319\u001b[0m     resolved_archive_file \u001b[38;5;241m=\u001b[39m cached_file(pretrained_model_name_or_path, filename, \u001b[38;5;241m*\u001b[39m\u001b[38;5;241m*\u001b[39mcached_file_kwargs)\n\u001b[0;32m   2321\u001b[0m     \u001b[38;5;66;03m# Since we set _raise_exceptions_for_missing_entries=False, we don't get an exception but a None\u001b[39;00m\n\u001b[0;32m   2322\u001b[0m     \u001b[38;5;66;03m# result when internet is up, the repo and revision exist, but the file does not.\u001b[39;00m\n\u001b[0;32m   2323\u001b[0m     \u001b[38;5;28;01mif\u001b[39;00m resolved_archive_file \u001b[38;5;129;01mis\u001b[39;00m \u001b[38;5;28;01mNone\u001b[39;00m \u001b[38;5;129;01mand\u001b[39;00m filename \u001b[38;5;241m==\u001b[39m _add_variant(SAFE_WEIGHTS_NAME, variant):\n\u001b[0;32m   2324\u001b[0m         \u001b[38;5;66;03m# Maybe the checkpoint is sharded, we try to grab the index name in this case.\u001b[39;00m\n",
      "File \u001b[1;32m~\\AppData\\Local\\Programs\\Python\\Python310\\lib\\site-packages\\transformers\\utils\\hub.py:409\u001b[0m, in \u001b[0;36mcached_file\u001b[1;34m(path_or_repo_id, filename, cache_dir, force_download, resume_download, proxies, use_auth_token, revision, local_files_only, subfolder, user_agent, _raise_exceptions_for_missing_entries, _raise_exceptions_for_connection_errors, _commit_hash)\u001b[0m\n\u001b[0;32m    406\u001b[0m user_agent \u001b[38;5;241m=\u001b[39m http_user_agent(user_agent)\n\u001b[0;32m    407\u001b[0m \u001b[38;5;28;01mtry\u001b[39;00m:\n\u001b[0;32m    408\u001b[0m     \u001b[38;5;66;03m# Load from URL or cache if already cached\u001b[39;00m\n\u001b[1;32m--> 409\u001b[0m     resolved_file \u001b[38;5;241m=\u001b[39m \u001b[43mhf_hub_download\u001b[49m\u001b[43m(\u001b[49m\n\u001b[0;32m    410\u001b[0m \u001b[43m        \u001b[49m\u001b[43mpath_or_repo_id\u001b[49m\u001b[43m,\u001b[49m\n\u001b[0;32m    411\u001b[0m \u001b[43m        \u001b[49m\u001b[43mfilename\u001b[49m\u001b[43m,\u001b[49m\n\u001b[0;32m    412\u001b[0m \u001b[43m        \u001b[49m\u001b[43msubfolder\u001b[49m\u001b[38;5;241;43m=\u001b[39;49m\u001b[38;5;28;43;01mNone\u001b[39;49;00m\u001b[43m \u001b[49m\u001b[38;5;28;43;01mif\u001b[39;49;00m\u001b[43m \u001b[49m\u001b[38;5;28;43mlen\u001b[39;49m\u001b[43m(\u001b[49m\u001b[43msubfolder\u001b[49m\u001b[43m)\u001b[49m\u001b[43m \u001b[49m\u001b[38;5;241;43m==\u001b[39;49m\u001b[43m \u001b[49m\u001b[38;5;241;43m0\u001b[39;49m\u001b[43m \u001b[49m\u001b[38;5;28;43;01melse\u001b[39;49;00m\u001b[43m \u001b[49m\u001b[43msubfolder\u001b[49m\u001b[43m,\u001b[49m\n\u001b[0;32m    413\u001b[0m \u001b[43m        \u001b[49m\u001b[43mrevision\u001b[49m\u001b[38;5;241;43m=\u001b[39;49m\u001b[43mrevision\u001b[49m\u001b[43m,\u001b[49m\n\u001b[0;32m    414\u001b[0m \u001b[43m        \u001b[49m\u001b[43mcache_dir\u001b[49m\u001b[38;5;241;43m=\u001b[39;49m\u001b[43mcache_dir\u001b[49m\u001b[43m,\u001b[49m\n\u001b[0;32m    415\u001b[0m \u001b[43m        \u001b[49m\u001b[43muser_agent\u001b[49m\u001b[38;5;241;43m=\u001b[39;49m\u001b[43muser_agent\u001b[49m\u001b[43m,\u001b[49m\n\u001b[0;32m    416\u001b[0m \u001b[43m        \u001b[49m\u001b[43mforce_download\u001b[49m\u001b[38;5;241;43m=\u001b[39;49m\u001b[43mforce_download\u001b[49m\u001b[43m,\u001b[49m\n\u001b[0;32m    417\u001b[0m \u001b[43m        \u001b[49m\u001b[43mproxies\u001b[49m\u001b[38;5;241;43m=\u001b[39;49m\u001b[43mproxies\u001b[49m\u001b[43m,\u001b[49m\n\u001b[0;32m    418\u001b[0m \u001b[43m        \u001b[49m\u001b[43mresume_download\u001b[49m\u001b[38;5;241;43m=\u001b[39;49m\u001b[43mresume_download\u001b[49m\u001b[43m,\u001b[49m\n\u001b[0;32m    419\u001b[0m \u001b[43m        \u001b[49m\u001b[43muse_auth_token\u001b[49m\u001b[38;5;241;43m=\u001b[39;49m\u001b[43muse_auth_token\u001b[49m\u001b[43m,\u001b[49m\n\u001b[0;32m    420\u001b[0m \u001b[43m        \u001b[49m\u001b[43mlocal_files_only\u001b[49m\u001b[38;5;241;43m=\u001b[39;49m\u001b[43mlocal_files_only\u001b[49m\u001b[43m,\u001b[49m\n\u001b[0;32m    421\u001b[0m \u001b[43m    \u001b[49m\u001b[43m)\u001b[49m\n\u001b[0;32m    423\u001b[0m \u001b[38;5;28;01mexcept\u001b[39;00m RepositoryNotFoundError:\n\u001b[0;32m    424\u001b[0m     \u001b[38;5;28;01mraise\u001b[39;00m \u001b[38;5;167;01mEnvironmentError\u001b[39;00m(\n\u001b[0;32m    425\u001b[0m         \u001b[38;5;124mf\u001b[39m\u001b[38;5;124m\"\u001b[39m\u001b[38;5;132;01m{\u001b[39;00mpath_or_repo_id\u001b[38;5;132;01m}\u001b[39;00m\u001b[38;5;124m is not a local folder and is not a valid model identifier \u001b[39m\u001b[38;5;124m\"\u001b[39m\n\u001b[0;32m    426\u001b[0m         \u001b[38;5;124m\"\u001b[39m\u001b[38;5;124mlisted on \u001b[39m\u001b[38;5;124m'\u001b[39m\u001b[38;5;124mhttps://huggingface.co/models\u001b[39m\u001b[38;5;124m'\u001b[39m\u001b[38;5;130;01m\\n\u001b[39;00m\u001b[38;5;124mIf this is a private repository, make sure to \u001b[39m\u001b[38;5;124m\"\u001b[39m\n\u001b[0;32m    427\u001b[0m         \u001b[38;5;124m\"\u001b[39m\u001b[38;5;124mpass a token having permission to this repo with `use_auth_token` or log in with \u001b[39m\u001b[38;5;124m\"\u001b[39m\n\u001b[0;32m    428\u001b[0m         \u001b[38;5;124m\"\u001b[39m\u001b[38;5;124m`huggingface-cli login` and pass `use_auth_token=True`.\u001b[39m\u001b[38;5;124m\"\u001b[39m\n\u001b[0;32m    429\u001b[0m     )\n",
      "File \u001b[1;32m~\\AppData\\Local\\Programs\\Python\\Python310\\lib\\site-packages\\huggingface_hub\\utils\\_validators.py:120\u001b[0m, in \u001b[0;36mvalidate_hf_hub_args.<locals>._inner_fn\u001b[1;34m(*args, **kwargs)\u001b[0m\n\u001b[0;32m    117\u001b[0m \u001b[38;5;28;01mif\u001b[39;00m check_use_auth_token:\n\u001b[0;32m    118\u001b[0m     kwargs \u001b[38;5;241m=\u001b[39m smoothly_deprecate_use_auth_token(fn_name\u001b[38;5;241m=\u001b[39mfn\u001b[38;5;241m.\u001b[39m\u001b[38;5;18m__name__\u001b[39m, has_token\u001b[38;5;241m=\u001b[39mhas_token, kwargs\u001b[38;5;241m=\u001b[39mkwargs)\n\u001b[1;32m--> 120\u001b[0m \u001b[38;5;28;01mreturn\u001b[39;00m fn(\u001b[38;5;241m*\u001b[39margs, \u001b[38;5;241m*\u001b[39m\u001b[38;5;241m*\u001b[39mkwargs)\n",
      "File \u001b[1;32m~\\AppData\\Local\\Programs\\Python\\Python310\\lib\\site-packages\\huggingface_hub\\file_download.py:1326\u001b[0m, in \u001b[0;36mhf_hub_download\u001b[1;34m(repo_id, filename, subfolder, repo_type, revision, library_name, library_version, cache_dir, local_dir, local_dir_use_symlinks, user_agent, force_download, force_filename, proxies, etag_timeout, resume_download, token, local_files_only, legacy_cache_layout)\u001b[0m\n\u001b[0;32m   1323\u001b[0m \u001b[38;5;28;01mwith\u001b[39;00m temp_file_manager() \u001b[38;5;28;01mas\u001b[39;00m temp_file:\n\u001b[0;32m   1324\u001b[0m     logger\u001b[38;5;241m.\u001b[39minfo(\u001b[38;5;124m\"\u001b[39m\u001b[38;5;124mdownloading \u001b[39m\u001b[38;5;132;01m%s\u001b[39;00m\u001b[38;5;124m to \u001b[39m\u001b[38;5;132;01m%s\u001b[39;00m\u001b[38;5;124m\"\u001b[39m, url, temp_file\u001b[38;5;241m.\u001b[39mname)\n\u001b[1;32m-> 1326\u001b[0m     \u001b[43mhttp_get\u001b[49m\u001b[43m(\u001b[49m\n\u001b[0;32m   1327\u001b[0m \u001b[43m        \u001b[49m\u001b[43murl_to_download\u001b[49m\u001b[43m,\u001b[49m\n\u001b[0;32m   1328\u001b[0m \u001b[43m        \u001b[49m\u001b[43mtemp_file\u001b[49m\u001b[43m,\u001b[49m\n\u001b[0;32m   1329\u001b[0m \u001b[43m        \u001b[49m\u001b[43mproxies\u001b[49m\u001b[38;5;241;43m=\u001b[39;49m\u001b[43mproxies\u001b[49m\u001b[43m,\u001b[49m\n\u001b[0;32m   1330\u001b[0m \u001b[43m        \u001b[49m\u001b[43mresume_size\u001b[49m\u001b[38;5;241;43m=\u001b[39;49m\u001b[43mresume_size\u001b[49m\u001b[43m,\u001b[49m\n\u001b[0;32m   1331\u001b[0m \u001b[43m        \u001b[49m\u001b[43mheaders\u001b[49m\u001b[38;5;241;43m=\u001b[39;49m\u001b[43mheaders\u001b[49m\u001b[43m,\u001b[49m\n\u001b[0;32m   1332\u001b[0m \u001b[43m    \u001b[49m\u001b[43m)\u001b[49m\n\u001b[0;32m   1334\u001b[0m \u001b[38;5;28;01mif\u001b[39;00m local_dir \u001b[38;5;129;01mis\u001b[39;00m \u001b[38;5;28;01mNone\u001b[39;00m:\n\u001b[0;32m   1335\u001b[0m     logger\u001b[38;5;241m.\u001b[39minfo(\u001b[38;5;124mf\u001b[39m\u001b[38;5;124m\"\u001b[39m\u001b[38;5;124mStoring \u001b[39m\u001b[38;5;132;01m{\u001b[39;00murl\u001b[38;5;132;01m}\u001b[39;00m\u001b[38;5;124m in cache at \u001b[39m\u001b[38;5;132;01m{\u001b[39;00mblob_path\u001b[38;5;132;01m}\u001b[39;00m\u001b[38;5;124m\"\u001b[39m)\n",
      "File \u001b[1;32m~\\AppData\\Local\\Programs\\Python\\Python310\\lib\\site-packages\\huggingface_hub\\file_download.py:538\u001b[0m, in \u001b[0;36mhttp_get\u001b[1;34m(url, temp_file, proxies, resume_size, headers, timeout, max_retries)\u001b[0m\n\u001b[0;32m    528\u001b[0m     displayed_name \u001b[38;5;241m=\u001b[39m \u001b[38;5;124mf\u001b[39m\u001b[38;5;124m\"\u001b[39m\u001b[38;5;124m(…)\u001b[39m\u001b[38;5;132;01m{\u001b[39;00mdisplayed_name[\u001b[38;5;241m-\u001b[39m\u001b[38;5;241m20\u001b[39m:]\u001b[38;5;132;01m}\u001b[39;00m\u001b[38;5;124m\"\u001b[39m\n\u001b[0;32m    530\u001b[0m progress \u001b[38;5;241m=\u001b[39m tqdm(\n\u001b[0;32m    531\u001b[0m     unit\u001b[38;5;241m=\u001b[39m\u001b[38;5;124m\"\u001b[39m\u001b[38;5;124mB\u001b[39m\u001b[38;5;124m\"\u001b[39m,\n\u001b[0;32m    532\u001b[0m     unit_scale\u001b[38;5;241m=\u001b[39m\u001b[38;5;28;01mTrue\u001b[39;00m,\n\u001b[1;32m   (...)\u001b[0m\n\u001b[0;32m    536\u001b[0m     disable\u001b[38;5;241m=\u001b[39m\u001b[38;5;28mbool\u001b[39m(logger\u001b[38;5;241m.\u001b[39mgetEffectiveLevel() \u001b[38;5;241m==\u001b[39m logging\u001b[38;5;241m.\u001b[39mNOTSET),\n\u001b[0;32m    537\u001b[0m )\n\u001b[1;32m--> 538\u001b[0m \u001b[38;5;28;01mfor\u001b[39;00m chunk \u001b[38;5;129;01min\u001b[39;00m r\u001b[38;5;241m.\u001b[39miter_content(chunk_size\u001b[38;5;241m=\u001b[39m\u001b[38;5;241m10\u001b[39m \u001b[38;5;241m*\u001b[39m \u001b[38;5;241m1024\u001b[39m \u001b[38;5;241m*\u001b[39m \u001b[38;5;241m1024\u001b[39m):\n\u001b[0;32m    539\u001b[0m     \u001b[38;5;28;01mif\u001b[39;00m chunk:  \u001b[38;5;66;03m# filter out keep-alive new chunks\u001b[39;00m\n\u001b[0;32m    540\u001b[0m         progress\u001b[38;5;241m.\u001b[39mupdate(\u001b[38;5;28mlen\u001b[39m(chunk))\n",
      "File \u001b[1;32m~\\AppData\\Local\\Programs\\Python\\Python310\\lib\\site-packages\\requests\\models.py:816\u001b[0m, in \u001b[0;36mResponse.iter_content.<locals>.generate\u001b[1;34m()\u001b[0m\n\u001b[0;32m    814\u001b[0m \u001b[38;5;28;01mif\u001b[39;00m \u001b[38;5;28mhasattr\u001b[39m(\u001b[38;5;28mself\u001b[39m\u001b[38;5;241m.\u001b[39mraw, \u001b[38;5;124m\"\u001b[39m\u001b[38;5;124mstream\u001b[39m\u001b[38;5;124m\"\u001b[39m):\n\u001b[0;32m    815\u001b[0m     \u001b[38;5;28;01mtry\u001b[39;00m:\n\u001b[1;32m--> 816\u001b[0m         \u001b[38;5;28;01myield from\u001b[39;00m \u001b[38;5;28mself\u001b[39m\u001b[38;5;241m.\u001b[39mraw\u001b[38;5;241m.\u001b[39mstream(chunk_size, decode_content\u001b[38;5;241m=\u001b[39m\u001b[38;5;28;01mTrue\u001b[39;00m)\n\u001b[0;32m    817\u001b[0m     \u001b[38;5;28;01mexcept\u001b[39;00m ProtocolError \u001b[38;5;28;01mas\u001b[39;00m e:\n\u001b[0;32m    818\u001b[0m         \u001b[38;5;28;01mraise\u001b[39;00m ChunkedEncodingError(e)\n",
      "File \u001b[1;32m~\\AppData\\Local\\Programs\\Python\\Python310\\lib\\site-packages\\urllib3\\response.py:628\u001b[0m, in \u001b[0;36mHTTPResponse.stream\u001b[1;34m(self, amt, decode_content)\u001b[0m\n\u001b[0;32m    626\u001b[0m \u001b[38;5;28;01melse\u001b[39;00m:\n\u001b[0;32m    627\u001b[0m     \u001b[38;5;28;01mwhile\u001b[39;00m \u001b[38;5;129;01mnot\u001b[39;00m is_fp_closed(\u001b[38;5;28mself\u001b[39m\u001b[38;5;241m.\u001b[39m_fp):\n\u001b[1;32m--> 628\u001b[0m         data \u001b[38;5;241m=\u001b[39m \u001b[38;5;28;43mself\u001b[39;49m\u001b[38;5;241;43m.\u001b[39;49m\u001b[43mread\u001b[49m\u001b[43m(\u001b[49m\u001b[43mamt\u001b[49m\u001b[38;5;241;43m=\u001b[39;49m\u001b[43mamt\u001b[49m\u001b[43m,\u001b[49m\u001b[43m \u001b[49m\u001b[43mdecode_content\u001b[49m\u001b[38;5;241;43m=\u001b[39;49m\u001b[43mdecode_content\u001b[49m\u001b[43m)\u001b[49m\n\u001b[0;32m    630\u001b[0m         \u001b[38;5;28;01mif\u001b[39;00m data:\n\u001b[0;32m    631\u001b[0m             \u001b[38;5;28;01myield\u001b[39;00m data\n",
      "File \u001b[1;32m~\\AppData\\Local\\Programs\\Python\\Python310\\lib\\site-packages\\urllib3\\response.py:567\u001b[0m, in \u001b[0;36mHTTPResponse.read\u001b[1;34m(self, amt, decode_content, cache_content)\u001b[0m\n\u001b[0;32m    564\u001b[0m fp_closed \u001b[38;5;241m=\u001b[39m \u001b[38;5;28mgetattr\u001b[39m(\u001b[38;5;28mself\u001b[39m\u001b[38;5;241m.\u001b[39m_fp, \u001b[38;5;124m\"\u001b[39m\u001b[38;5;124mclosed\u001b[39m\u001b[38;5;124m\"\u001b[39m, \u001b[38;5;28;01mFalse\u001b[39;00m)\n\u001b[0;32m    566\u001b[0m \u001b[38;5;28;01mwith\u001b[39;00m \u001b[38;5;28mself\u001b[39m\u001b[38;5;241m.\u001b[39m_error_catcher():\n\u001b[1;32m--> 567\u001b[0m     data \u001b[38;5;241m=\u001b[39m \u001b[38;5;28;43mself\u001b[39;49m\u001b[38;5;241;43m.\u001b[39;49m\u001b[43m_fp_read\u001b[49m\u001b[43m(\u001b[49m\u001b[43mamt\u001b[49m\u001b[43m)\u001b[49m \u001b[38;5;28;01mif\u001b[39;00m \u001b[38;5;129;01mnot\u001b[39;00m fp_closed \u001b[38;5;28;01melse\u001b[39;00m \u001b[38;5;124mb\u001b[39m\u001b[38;5;124m\"\u001b[39m\u001b[38;5;124m\"\u001b[39m\n\u001b[0;32m    568\u001b[0m     \u001b[38;5;28;01mif\u001b[39;00m amt \u001b[38;5;129;01mis\u001b[39;00m \u001b[38;5;28;01mNone\u001b[39;00m:\n\u001b[0;32m    569\u001b[0m         flush_decoder \u001b[38;5;241m=\u001b[39m \u001b[38;5;28;01mTrue\u001b[39;00m\n",
      "File \u001b[1;32m~\\AppData\\Local\\Programs\\Python\\Python310\\lib\\site-packages\\urllib3\\response.py:533\u001b[0m, in \u001b[0;36mHTTPResponse._fp_read\u001b[1;34m(self, amt)\u001b[0m\n\u001b[0;32m    530\u001b[0m     \u001b[38;5;28;01mreturn\u001b[39;00m buffer\u001b[38;5;241m.\u001b[39mgetvalue()\n\u001b[0;32m    531\u001b[0m \u001b[38;5;28;01melse\u001b[39;00m:\n\u001b[0;32m    532\u001b[0m     \u001b[38;5;66;03m# StringIO doesn't like amt=None\u001b[39;00m\n\u001b[1;32m--> 533\u001b[0m     \u001b[38;5;28;01mreturn\u001b[39;00m \u001b[38;5;28;43mself\u001b[39;49m\u001b[38;5;241;43m.\u001b[39;49m\u001b[43m_fp\u001b[49m\u001b[38;5;241;43m.\u001b[39;49m\u001b[43mread\u001b[49m\u001b[43m(\u001b[49m\u001b[43mamt\u001b[49m\u001b[43m)\u001b[49m \u001b[38;5;28;01mif\u001b[39;00m amt \u001b[38;5;129;01mis\u001b[39;00m \u001b[38;5;129;01mnot\u001b[39;00m \u001b[38;5;28;01mNone\u001b[39;00m \u001b[38;5;28;01melse\u001b[39;00m \u001b[38;5;28mself\u001b[39m\u001b[38;5;241m.\u001b[39m_fp\u001b[38;5;241m.\u001b[39mread()\n",
      "File \u001b[1;32m~\\AppData\\Local\\Programs\\Python\\Python310\\lib\\http\\client.py:465\u001b[0m, in \u001b[0;36mHTTPResponse.read\u001b[1;34m(self, amt)\u001b[0m\n\u001b[0;32m    462\u001b[0m \u001b[38;5;28;01mif\u001b[39;00m \u001b[38;5;28mself\u001b[39m\u001b[38;5;241m.\u001b[39mlength \u001b[38;5;129;01mis\u001b[39;00m \u001b[38;5;129;01mnot\u001b[39;00m \u001b[38;5;28;01mNone\u001b[39;00m \u001b[38;5;129;01mand\u001b[39;00m amt \u001b[38;5;241m>\u001b[39m \u001b[38;5;28mself\u001b[39m\u001b[38;5;241m.\u001b[39mlength:\n\u001b[0;32m    463\u001b[0m     \u001b[38;5;66;03m# clip the read to the \"end of response\"\u001b[39;00m\n\u001b[0;32m    464\u001b[0m     amt \u001b[38;5;241m=\u001b[39m \u001b[38;5;28mself\u001b[39m\u001b[38;5;241m.\u001b[39mlength\n\u001b[1;32m--> 465\u001b[0m s \u001b[38;5;241m=\u001b[39m \u001b[38;5;28;43mself\u001b[39;49m\u001b[38;5;241;43m.\u001b[39;49m\u001b[43mfp\u001b[49m\u001b[38;5;241;43m.\u001b[39;49m\u001b[43mread\u001b[49m\u001b[43m(\u001b[49m\u001b[43mamt\u001b[49m\u001b[43m)\u001b[49m\n\u001b[0;32m    466\u001b[0m \u001b[38;5;28;01mif\u001b[39;00m \u001b[38;5;129;01mnot\u001b[39;00m s \u001b[38;5;129;01mand\u001b[39;00m amt:\n\u001b[0;32m    467\u001b[0m     \u001b[38;5;66;03m# Ideally, we would raise IncompleteRead if the content-length\u001b[39;00m\n\u001b[0;32m    468\u001b[0m     \u001b[38;5;66;03m# wasn't satisfied, but it might break compatibility.\u001b[39;00m\n\u001b[0;32m    469\u001b[0m     \u001b[38;5;28mself\u001b[39m\u001b[38;5;241m.\u001b[39m_close_conn()\n",
      "File \u001b[1;32m~\\AppData\\Local\\Programs\\Python\\Python310\\lib\\socket.py:705\u001b[0m, in \u001b[0;36mSocketIO.readinto\u001b[1;34m(self, b)\u001b[0m\n\u001b[0;32m    703\u001b[0m \u001b[38;5;28;01mwhile\u001b[39;00m \u001b[38;5;28;01mTrue\u001b[39;00m:\n\u001b[0;32m    704\u001b[0m     \u001b[38;5;28;01mtry\u001b[39;00m:\n\u001b[1;32m--> 705\u001b[0m         \u001b[38;5;28;01mreturn\u001b[39;00m \u001b[38;5;28;43mself\u001b[39;49m\u001b[38;5;241;43m.\u001b[39;49m\u001b[43m_sock\u001b[49m\u001b[38;5;241;43m.\u001b[39;49m\u001b[43mrecv_into\u001b[49m\u001b[43m(\u001b[49m\u001b[43mb\u001b[49m\u001b[43m)\u001b[49m\n\u001b[0;32m    706\u001b[0m     \u001b[38;5;28;01mexcept\u001b[39;00m timeout:\n\u001b[0;32m    707\u001b[0m         \u001b[38;5;28mself\u001b[39m\u001b[38;5;241m.\u001b[39m_timeout_occurred \u001b[38;5;241m=\u001b[39m \u001b[38;5;28;01mTrue\u001b[39;00m\n",
      "File \u001b[1;32m~\\AppData\\Local\\Programs\\Python\\Python310\\lib\\ssl.py:1274\u001b[0m, in \u001b[0;36mSSLSocket.recv_into\u001b[1;34m(self, buffer, nbytes, flags)\u001b[0m\n\u001b[0;32m   1270\u001b[0m     \u001b[38;5;28;01mif\u001b[39;00m flags \u001b[38;5;241m!=\u001b[39m \u001b[38;5;241m0\u001b[39m:\n\u001b[0;32m   1271\u001b[0m         \u001b[38;5;28;01mraise\u001b[39;00m \u001b[38;5;167;01mValueError\u001b[39;00m(\n\u001b[0;32m   1272\u001b[0m           \u001b[38;5;124m\"\u001b[39m\u001b[38;5;124mnon-zero flags not allowed in calls to recv_into() on \u001b[39m\u001b[38;5;132;01m%s\u001b[39;00m\u001b[38;5;124m\"\u001b[39m \u001b[38;5;241m%\u001b[39m\n\u001b[0;32m   1273\u001b[0m           \u001b[38;5;28mself\u001b[39m\u001b[38;5;241m.\u001b[39m\u001b[38;5;18m__class__\u001b[39m)\n\u001b[1;32m-> 1274\u001b[0m     \u001b[38;5;28;01mreturn\u001b[39;00m \u001b[38;5;28;43mself\u001b[39;49m\u001b[38;5;241;43m.\u001b[39;49m\u001b[43mread\u001b[49m\u001b[43m(\u001b[49m\u001b[43mnbytes\u001b[49m\u001b[43m,\u001b[49m\u001b[43m \u001b[49m\u001b[43mbuffer\u001b[49m\u001b[43m)\u001b[49m\n\u001b[0;32m   1275\u001b[0m \u001b[38;5;28;01melse\u001b[39;00m:\n\u001b[0;32m   1276\u001b[0m     \u001b[38;5;28;01mreturn\u001b[39;00m \u001b[38;5;28msuper\u001b[39m()\u001b[38;5;241m.\u001b[39mrecv_into(buffer, nbytes, flags)\n",
      "File \u001b[1;32m~\\AppData\\Local\\Programs\\Python\\Python310\\lib\\ssl.py:1130\u001b[0m, in \u001b[0;36mSSLSocket.read\u001b[1;34m(self, len, buffer)\u001b[0m\n\u001b[0;32m   1128\u001b[0m \u001b[38;5;28;01mtry\u001b[39;00m:\n\u001b[0;32m   1129\u001b[0m     \u001b[38;5;28;01mif\u001b[39;00m buffer \u001b[38;5;129;01mis\u001b[39;00m \u001b[38;5;129;01mnot\u001b[39;00m \u001b[38;5;28;01mNone\u001b[39;00m:\n\u001b[1;32m-> 1130\u001b[0m         \u001b[38;5;28;01mreturn\u001b[39;00m \u001b[38;5;28;43mself\u001b[39;49m\u001b[38;5;241;43m.\u001b[39;49m\u001b[43m_sslobj\u001b[49m\u001b[38;5;241;43m.\u001b[39;49m\u001b[43mread\u001b[49m\u001b[43m(\u001b[49m\u001b[38;5;28;43mlen\u001b[39;49m\u001b[43m,\u001b[49m\u001b[43m \u001b[49m\u001b[43mbuffer\u001b[49m\u001b[43m)\u001b[49m\n\u001b[0;32m   1131\u001b[0m     \u001b[38;5;28;01melse\u001b[39;00m:\n\u001b[0;32m   1132\u001b[0m         \u001b[38;5;28;01mreturn\u001b[39;00m \u001b[38;5;28mself\u001b[39m\u001b[38;5;241m.\u001b[39m_sslobj\u001b[38;5;241m.\u001b[39mread(\u001b[38;5;28mlen\u001b[39m)\n",
      "\u001b[1;31mKeyboardInterrupt\u001b[0m: "
     ]
    }
   ],
   "source": [
    "#Instantiate model and Trainer\n",
    "model = AutoModelForSequenceClassification.from_pretrained(model_name, num_labels=1)\n",
    "trainer = Trainer(model, args, train_dataset=dds['train'], eval_dataset=dds['test'],\n",
    "                  tokenizer=tokz, compute_metrics=err)"
   ]
  },
  {
   "cell_type": "code",
   "execution_count": null,
   "id": "8fbcfbd6",
   "metadata": {
    "execution": {
     "iopub.execute_input": "2022-10-05T16:46:46.553760Z",
     "iopub.status.busy": "2022-10-05T16:46:46.552977Z",
     "iopub.status.idle": "2022-10-05T16:52:27.947066Z",
     "shell.execute_reply": "2022-10-05T16:52:27.945970Z"
    },
    "papermill": {
     "duration": 341.420123,
     "end_time": "2022-10-05T16:52:27.950590",
     "exception": false,
     "start_time": "2022-10-05T16:46:46.530467",
     "status": "completed"
    },
    "tags": []
   },
   "outputs": [],
   "source": [
    "trainer.train()"
   ]
  },
  {
   "cell_type": "markdown",
   "id": "b67b99a5",
   "metadata": {
    "papermill": {
     "duration": 0.020598,
     "end_time": "2022-10-05T16:52:27.992879",
     "exception": false,
     "start_time": "2022-10-05T16:52:27.972281",
     "status": "completed"
    },
    "tags": []
   },
   "source": [
    "A model of this quality can be deployed and tested on our test sets, and even deployed. The following changes include changing the threshold to 0.5 without using a sigmoid to obtain such accuracy. Also we tripled the learning rate."
   ]
  },
  {
   "cell_type": "markdown",
   "id": "9645ba81",
   "metadata": {
    "papermill": {
     "duration": 0.02032,
     "end_time": "2022-10-05T16:52:28.034088",
     "exception": false,
     "start_time": "2022-10-05T16:52:28.013768",
     "status": "completed"
    },
    "tags": []
   },
   "source": [
    "ttt"
   ]
  },
  {
   "cell_type": "code",
   "execution_count": null,
   "id": "aedba520",
   "metadata": {
    "execution": {
     "iopub.execute_input": "2022-10-05T16:52:28.077548Z",
     "iopub.status.busy": "2022-10-05T16:52:28.076782Z",
     "iopub.status.idle": "2022-10-05T16:52:32.727776Z",
     "shell.execute_reply": "2022-10-05T16:52:32.726933Z"
    },
    "papermill": {
     "duration": 4.675142,
     "end_time": "2022-10-05T16:52:32.729980",
     "exception": false,
     "start_time": "2022-10-05T16:52:28.054838",
     "status": "completed"
    },
    "tags": []
   },
   "outputs": [],
   "source": [
    "preds = trainer.predict(eval_ds).predictions\n",
    "preds = sig(preds - 0.5)\n",
    "preds"
   ]
  },
  {
   "cell_type": "code",
   "execution_count": null,
   "id": "f1c1fbd1",
   "metadata": {
    "execution": {
     "iopub.execute_input": "2022-10-05T16:52:32.773984Z",
     "iopub.status.busy": "2022-10-05T16:52:32.773272Z",
     "iopub.status.idle": "2022-10-05T16:52:32.779823Z",
     "shell.execute_reply": "2022-10-05T16:52:32.778963Z"
    },
    "papermill": {
     "duration": 0.030314,
     "end_time": "2022-10-05T16:52:32.781838",
     "exception": false,
     "start_time": "2022-10-05T16:52:32.751524",
     "status": "completed"
    },
    "tags": []
   },
   "outputs": [],
   "source": [
    "preds"
   ]
  },
  {
   "cell_type": "code",
   "execution_count": null,
   "id": "8c029fdd",
   "metadata": {
    "execution": {
     "iopub.execute_input": "2022-10-05T16:52:32.824679Z",
     "iopub.status.busy": "2022-10-05T16:52:32.824468Z",
     "iopub.status.idle": "2022-10-05T16:52:32.831111Z",
     "shell.execute_reply": "2022-10-05T16:52:32.830161Z"
    },
    "papermill": {
     "duration": 0.030617,
     "end_time": "2022-10-05T16:52:32.833257",
     "exception": false,
     "start_time": "2022-10-05T16:52:32.802640",
     "status": "completed"
    },
    "tags": []
   },
   "outputs": [],
   "source": [
    "eval_ds"
   ]
  },
  {
   "cell_type": "code",
   "execution_count": null,
   "id": "03c137f3",
   "metadata": {
    "execution": {
     "iopub.execute_input": "2022-10-05T16:52:32.877247Z",
     "iopub.status.busy": "2022-10-05T16:52:32.877038Z",
     "iopub.status.idle": "2022-10-05T16:52:32.895214Z",
     "shell.execute_reply": "2022-10-05T16:52:32.894277Z"
    },
    "papermill": {
     "duration": 0.042936,
     "end_time": "2022-10-05T16:52:32.897275",
     "exception": false,
     "start_time": "2022-10-05T16:52:32.854339",
     "status": "completed"
    },
    "tags": []
   },
   "outputs": [],
   "source": [
    "ans_df = test_df[[\"Index\", \"inputs\", \"labels\"]][test_df.Index == eval_ds[\"Index\"]]\n",
    "ans_df.head()"
   ]
  },
  {
   "cell_type": "code",
   "execution_count": null,
   "id": "9f9f2bd9",
   "metadata": {
    "execution": {
     "iopub.execute_input": "2022-10-05T16:52:32.941169Z",
     "iopub.status.busy": "2022-10-05T16:52:32.940471Z",
     "iopub.status.idle": "2022-10-05T16:52:32.953551Z",
     "shell.execute_reply": "2022-10-05T16:52:32.952616Z"
    },
    "papermill": {
     "duration": 0.037694,
     "end_time": "2022-10-05T16:52:32.956333",
     "exception": false,
     "start_time": "2022-10-05T16:52:32.918639",
     "status": "completed"
    },
    "tags": []
   },
   "outputs": [],
   "source": [
    "ans_df[\"predictions\"] = preds\n",
    "ans_df.head()"
   ]
  },
  {
   "cell_type": "code",
   "execution_count": null,
   "id": "03b4cedc",
   "metadata": {
    "execution": {
     "iopub.execute_input": "2022-10-05T16:52:33.002331Z",
     "iopub.status.busy": "2022-10-05T16:52:33.002133Z",
     "iopub.status.idle": "2022-10-05T16:52:33.008550Z",
     "shell.execute_reply": "2022-10-05T16:52:33.007708Z"
    },
    "papermill": {
     "duration": 0.031854,
     "end_time": "2022-10-05T16:52:33.010472",
     "exception": false,
     "start_time": "2022-10-05T16:52:32.978618",
     "status": "completed"
    },
    "tags": []
   },
   "outputs": [],
   "source": [
    "preds > 0.5"
   ]
  },
  {
   "cell_type": "code",
   "execution_count": null,
   "id": "c976ce86",
   "metadata": {
    "execution": {
     "iopub.execute_input": "2022-10-05T16:52:33.055718Z",
     "iopub.status.busy": "2022-10-05T16:52:33.054803Z",
     "iopub.status.idle": "2022-10-05T16:52:33.067490Z",
     "shell.execute_reply": "2022-10-05T16:52:33.066508Z"
    },
    "papermill": {
     "duration": 0.03734,
     "end_time": "2022-10-05T16:52:33.069771",
     "exception": false,
     "start_time": "2022-10-05T16:52:33.032431",
     "status": "completed"
    },
    "tags": []
   },
   "outputs": [],
   "source": [
    "ans_df[\"pred_label\"] = (preds > 0.5).astype(int)\n",
    "ans_df.head()"
   ]
  },
  {
   "cell_type": "code",
   "execution_count": null,
   "id": "610e9647",
   "metadata": {
    "execution": {
     "iopub.execute_input": "2022-10-05T16:52:33.114882Z",
     "iopub.status.busy": "2022-10-05T16:52:33.114227Z",
     "iopub.status.idle": "2022-10-05T16:52:33.121650Z",
     "shell.execute_reply": "2022-10-05T16:52:33.120707Z"
    },
    "papermill": {
     "duration": 0.032359,
     "end_time": "2022-10-05T16:52:33.123866",
     "exception": false,
     "start_time": "2022-10-05T16:52:33.091507",
     "status": "completed"
    },
    "tags": []
   },
   "outputs": [],
   "source": [
    "#Check accuracy score\n",
    "accuracy_score(ans_df[\"labels\"], ans_df[\"pred_label\"])"
   ]
  },
  {
   "cell_type": "code",
   "execution_count": null,
   "id": "693cd6eb",
   "metadata": {
    "execution": {
     "iopub.execute_input": "2022-10-05T16:52:33.170269Z",
     "iopub.status.busy": "2022-10-05T16:52:33.169427Z",
     "iopub.status.idle": "2022-10-05T16:52:33.182663Z",
     "shell.execute_reply": "2022-10-05T16:52:33.181189Z"
    },
    "papermill": {
     "duration": 0.037676,
     "end_time": "2022-10-05T16:52:33.184673",
     "exception": false,
     "start_time": "2022-10-05T16:52:33.146997",
     "status": "completed"
    },
    "tags": []
   },
   "outputs": [],
   "source": [
    "print(classification_report(ans_df[\"labels\"], ans_df[\"pred_label\"]))"
   ]
  },
  {
   "cell_type": "code",
   "execution_count": null,
   "id": "e7365c91",
   "metadata": {
    "execution": {
     "iopub.execute_input": "2022-10-05T16:52:33.230307Z",
     "iopub.status.busy": "2022-10-05T16:52:33.229633Z",
     "iopub.status.idle": "2022-10-05T16:52:33.242378Z",
     "shell.execute_reply": "2022-10-05T16:52:33.241345Z"
    },
    "papermill": {
     "duration": 0.037527,
     "end_time": "2022-10-05T16:52:33.244546",
     "exception": false,
     "start_time": "2022-10-05T16:52:33.207019",
     "status": "completed"
    },
    "tags": []
   },
   "outputs": [],
   "source": [
    "ans_df[ans_df[\"labels\"] == 1].head()"
   ]
  },
  {
   "cell_type": "markdown",
   "id": "42b37b30",
   "metadata": {
    "papermill": {
     "duration": 0.022133,
     "end_time": "2022-10-05T16:52:33.289566",
     "exception": false,
     "start_time": "2022-10-05T16:52:33.267433",
     "status": "completed"
    },
    "tags": []
   },
   "source": [
    "In order to see if our model is picking up on the right things, we should see places where our model predicted 0 for 1 and vice versa."
   ]
  },
  {
   "cell_type": "code",
   "execution_count": null,
   "id": "44cca35a",
   "metadata": {
    "execution": {
     "iopub.execute_input": "2022-10-05T16:52:33.336039Z",
     "iopub.status.busy": "2022-10-05T16:52:33.335264Z",
     "iopub.status.idle": "2022-10-05T16:52:33.348440Z",
     "shell.execute_reply": "2022-10-05T16:52:33.347456Z"
    },
    "papermill": {
     "duration": 0.038983,
     "end_time": "2022-10-05T16:52:33.350432",
     "exception": false,
     "start_time": "2022-10-05T16:52:33.311449",
     "status": "completed"
    },
    "tags": []
   },
   "outputs": [],
   "source": [
    "#model predicts negative while actual label says positive\n",
    "mask = (ans_df[\"labels\"] == 1) & (ans_df[\"pred_label\"] == 0)\n",
    "ans_df[mask]"
   ]
  },
  {
   "cell_type": "code",
   "execution_count": null,
   "id": "845bf166",
   "metadata": {
    "execution": {
     "iopub.execute_input": "2022-10-05T16:52:33.409803Z",
     "iopub.status.busy": "2022-10-05T16:52:33.409113Z",
     "iopub.status.idle": "2022-10-05T16:52:33.418857Z",
     "shell.execute_reply": "2022-10-05T16:52:33.417965Z"
    },
    "papermill": {
     "duration": 0.047942,
     "end_time": "2022-10-05T16:52:33.420885",
     "exception": false,
     "start_time": "2022-10-05T16:52:33.372943",
     "status": "completed"
    },
    "tags": []
   },
   "outputs": [],
   "source": [
    "#model predicts positive while actual label is negative\n",
    "mask = (ans_df[\"labels\"] == 0) & (ans_df[\"pred_label\"] == 1)\n",
    "ans_df[mask]"
   ]
  },
  {
   "cell_type": "markdown",
   "id": "0787e23f",
   "metadata": {
    "papermill": {
     "duration": 0.022542,
     "end_time": "2022-10-05T16:52:33.466588",
     "exception": false,
     "start_time": "2022-10-05T16:52:33.444046",
     "status": "completed"
    },
    "tags": []
   },
   "source": [
    "From the above performance of our model, we do see that our model is really doing a fine job. Because in places where it makes a false negative, the tweets are not in fact clear to us that they are actually depression tweets and moreover many of them are not clear at all. In places where our model is picking up on depression tweets as against the actual labels that say non depression tweets, we do also see that many of such tweets are worth raising alarm as they identify pain or possibility of depression, which is cool as our model is working \"overtime\" (winks).\n",
    "\n",
    "Since we also know that depression is a very important word in determining a depressive tweet or not, let us also check if there are places where our model predicts a positive label and the input does not contain the word depression."
   ]
  },
  {
   "cell_type": "code",
   "execution_count": null,
   "id": "ac6d6122",
   "metadata": {
    "execution": {
     "iopub.execute_input": "2022-10-05T16:52:33.513078Z",
     "iopub.status.busy": "2022-10-05T16:52:33.512836Z",
     "iopub.status.idle": "2022-10-05T16:52:33.534556Z",
     "shell.execute_reply": "2022-10-05T16:52:33.533629Z"
    },
    "papermill": {
     "duration": 0.047838,
     "end_time": "2022-10-05T16:52:33.536855",
     "exception": false,
     "start_time": "2022-10-05T16:52:33.489017",
     "status": "completed"
    },
    "tags": []
   },
   "outputs": [],
   "source": [
    "mask = (~ans_df[\"inputs\"].str.contains(r\"[Dd]epression\")) & (ans_df[\"pred_label\"] == 1)\n",
    "ans_df[mask]#.shape"
   ]
  },
  {
   "cell_type": "code",
   "execution_count": null,
   "id": "bf626562",
   "metadata": {
    "execution": {
     "iopub.execute_input": "2022-10-05T16:52:33.585748Z",
     "iopub.status.busy": "2022-10-05T16:52:33.584286Z",
     "iopub.status.idle": "2022-10-05T16:52:33.592513Z",
     "shell.execute_reply": "2022-10-05T16:52:33.591596Z"
    },
    "papermill": {
     "duration": 0.03429,
     "end_time": "2022-10-05T16:52:33.594518",
     "exception": false,
     "start_time": "2022-10-05T16:52:33.560228",
     "status": "completed"
    },
    "tags": []
   },
   "outputs": [],
   "source": [
    "dir(trainer)"
   ]
  },
  {
   "cell_type": "code",
   "execution_count": null,
   "id": "6cb586fa",
   "metadata": {
    "execution": {
     "iopub.execute_input": "2022-10-05T16:52:33.642995Z",
     "iopub.status.busy": "2022-10-05T16:52:33.642637Z",
     "iopub.status.idle": "2022-10-05T16:52:35.183450Z",
     "shell.execute_reply": "2022-10-05T16:52:35.182469Z"
    },
    "papermill": {
     "duration": 1.567988,
     "end_time": "2022-10-05T16:52:35.185952",
     "exception": false,
     "start_time": "2022-10-05T16:52:33.617964",
     "status": "completed"
    },
    "tags": []
   },
   "outputs": [],
   "source": [
    "trainer.save_model(\"model\")"
   ]
  },
  {
   "cell_type": "markdown",
   "id": "83c9deb5",
   "metadata": {
    "papermill": {
     "duration": 0.023297,
     "end_time": "2022-10-05T16:52:35.233831",
     "exception": false,
     "start_time": "2022-10-05T16:52:35.210534",
     "status": "completed"
    },
    "tags": []
   },
   "source": [
    "### CAVEAT\n",
    "\n",
    "A little caveat to what we just did is that when you go through the EDA process properly, yo realize that most tweets that were positive depression tweets could have been identified with a simple python function that can print True if a tweet contains the word \"depression\" or \"anxiety\" and false otherwise. If we would be be building a model of real value and importance, it would be relevant to obtain more datapoints especially tweets without depression or anxiety, which are depression positive, so that the model can pick up on more words."
   ]
  },
  {
   "cell_type": "code",
   "execution_count": null,
   "id": "121c7630",
   "metadata": {
    "papermill": {
     "duration": 0.022931,
     "end_time": "2022-10-05T16:52:35.280153",
     "exception": false,
     "start_time": "2022-10-05T16:52:35.257222",
     "status": "completed"
    },
    "tags": []
   },
   "outputs": [],
   "source": []
  },
  {
   "cell_type": "code",
   "execution_count": null,
   "id": "05f376ba",
   "metadata": {
    "papermill": {
     "duration": 0.02317,
     "end_time": "2022-10-05T16:52:35.326574",
     "exception": false,
     "start_time": "2022-10-05T16:52:35.303404",
     "status": "completed"
    },
    "tags": []
   },
   "outputs": [],
   "source": []
  },
  {
   "cell_type": "code",
   "execution_count": null,
   "id": "730742d8",
   "metadata": {
    "papermill": {
     "duration": 0.022856,
     "end_time": "2022-10-05T16:52:35.372479",
     "exception": false,
     "start_time": "2022-10-05T16:52:35.349623",
     "status": "completed"
    },
    "tags": []
   },
   "outputs": [],
   "source": []
  },
  {
   "cell_type": "code",
   "execution_count": null,
   "id": "ee4ae652",
   "metadata": {
    "papermill": {
     "duration": 0.023223,
     "end_time": "2022-10-05T16:52:35.422461",
     "exception": false,
     "start_time": "2022-10-05T16:52:35.399238",
     "status": "completed"
    },
    "tags": []
   },
   "outputs": [],
   "source": []
  },
  {
   "cell_type": "code",
   "execution_count": null,
   "id": "4b4562c0",
   "metadata": {
    "papermill": {
     "duration": 0.023416,
     "end_time": "2022-10-05T16:52:35.469348",
     "exception": false,
     "start_time": "2022-10-05T16:52:35.445932",
     "status": "completed"
    },
    "tags": []
   },
   "outputs": [],
   "source": []
  },
  {
   "cell_type": "code",
   "execution_count": null,
   "id": "01414ca9",
   "metadata": {
    "papermill": {
     "duration": 0.025176,
     "end_time": "2022-10-05T16:52:35.517508",
     "exception": false,
     "start_time": "2022-10-05T16:52:35.492332",
     "status": "completed"
    },
    "tags": []
   },
   "outputs": [],
   "source": []
  },
  {
   "cell_type": "code",
   "execution_count": null,
   "id": "10064f7b",
   "metadata": {
    "papermill": {
     "duration": 0.023032,
     "end_time": "2022-10-05T16:52:35.563421",
     "exception": false,
     "start_time": "2022-10-05T16:52:35.540389",
     "status": "completed"
    },
    "tags": []
   },
   "outputs": [],
   "source": []
  }
 ],
 "metadata": {
  "kernelspec": {
   "display_name": "Python 3 (ipykernel)",
   "language": "python",
   "name": "python3"
  },
  "language_info": {
   "codemirror_mode": {
    "name": "ipython",
    "version": 3
   },
   "file_extension": ".py",
   "mimetype": "text/x-python",
   "name": "python",
   "nbconvert_exporter": "python",
   "pygments_lexer": "ipython3",
   "version": "3.10.6"
  },
  "papermill": {
   "default_parameters": {},
   "duration": 402.889506,
   "end_time": "2022-10-05T16:52:38.644054",
   "environment_variables": {},
   "exception": null,
   "input_path": "__notebook__.ipynb",
   "output_path": "__notebook__.ipynb",
   "parameters": {},
   "start_time": "2022-10-05T16:45:55.754548",
   "version": "2.3.4"
  },
  "widgets": {
   "application/vnd.jupyter.widget-state+json": {
    "state": {
     "007020d2ef15424f9deb67cee421a1d3": {
      "model_module": "@jupyter-widgets/controls",
      "model_module_version": "1.5.0",
      "model_name": "FloatProgressModel",
      "state": {
       "_dom_classes": [],
       "_model_module": "@jupyter-widgets/controls",
       "_model_module_version": "1.5.0",
       "_model_name": "FloatProgressModel",
       "_view_count": null,
       "_view_module": "@jupyter-widgets/controls",
       "_view_module_version": "1.5.0",
       "_view_name": "ProgressView",
       "bar_style": "success",
       "description": "",
       "description_tooltip": null,
       "layout": "IPY_MODEL_34053ea5fd354fb4803007f61f77ace6",
       "max": 52,
       "min": 0,
       "orientation": "horizontal",
       "style": "IPY_MODEL_a6ae46749e7a4697ba98496ef5503dcf",
       "value": 52
      }
     },
     "055e9e50b1864e038c3d033db6d85518": {
      "model_module": "@jupyter-widgets/controls",
      "model_module_version": "1.5.0",
      "model_name": "HTMLModel",
      "state": {
       "_dom_classes": [],
       "_model_module": "@jupyter-widgets/controls",
       "_model_module_version": "1.5.0",
       "_model_name": "HTMLModel",
       "_view_count": null,
       "_view_module": "@jupyter-widgets/controls",
       "_view_module_version": "1.5.0",
       "_view_name": "HTMLView",
       "description": "",
       "description_tooltip": null,
       "layout": "IPY_MODEL_d72c6bb1cbb54aefb3d51255d5370d4b",
       "placeholder": "​",
       "style": "IPY_MODEL_582dd5056a07493d8c28bea1c53f109c",
       "value": " 52.0/52.0 [00:00&lt;00:00, 1.95kB/s]"
      }
     },
     "1af11c64427c49938508b96e27aa9125": {
      "model_module": "@jupyter-widgets/base",
      "model_module_version": "1.2.0",
      "model_name": "LayoutModel",
      "state": {
       "_model_module": "@jupyter-widgets/base",
       "_model_module_version": "1.2.0",
       "_model_name": "LayoutModel",
       "_view_count": null,
       "_view_module": "@jupyter-widgets/base",
       "_view_module_version": "1.2.0",
       "_view_name": "LayoutView",
       "align_content": null,
       "align_items": null,
       "align_self": null,
       "border": null,
       "bottom": null,
       "display": null,
       "flex": null,
       "flex_flow": null,
       "grid_area": null,
       "grid_auto_columns": null,
       "grid_auto_flow": null,
       "grid_auto_rows": null,
       "grid_column": null,
       "grid_gap": null,
       "grid_row": null,
       "grid_template_areas": null,
       "grid_template_columns": null,
       "grid_template_rows": null,
       "height": null,
       "justify_content": null,
       "justify_items": null,
       "left": null,
       "margin": null,
       "max_height": null,
       "max_width": null,
       "min_height": null,
       "min_width": null,
       "object_fit": null,
       "object_position": null,
       "order": null,
       "overflow": null,
       "overflow_x": null,
       "overflow_y": null,
       "padding": null,
       "right": null,
       "top": null,
       "visibility": null,
       "width": null
      }
     },
     "1af44e69bdad4d449bafd3b81ee9aba0": {
      "model_module": "@jupyter-widgets/base",
      "model_module_version": "1.2.0",
      "model_name": "LayoutModel",
      "state": {
       "_model_module": "@jupyter-widgets/base",
       "_model_module_version": "1.2.0",
       "_model_name": "LayoutModel",
       "_view_count": null,
       "_view_module": "@jupyter-widgets/base",
       "_view_module_version": "1.2.0",
       "_view_name": "LayoutView",
       "align_content": null,
       "align_items": null,
       "align_self": null,
       "border": null,
       "bottom": null,
       "display": null,
       "flex": null,
       "flex_flow": null,
       "grid_area": null,
       "grid_auto_columns": null,
       "grid_auto_flow": null,
       "grid_auto_rows": null,
       "grid_column": null,
       "grid_gap": null,
       "grid_row": null,
       "grid_template_areas": null,
       "grid_template_columns": null,
       "grid_template_rows": null,
       "height": null,
       "justify_content": null,
       "justify_items": null,
       "left": null,
       "margin": null,
       "max_height": null,
       "max_width": null,
       "min_height": null,
       "min_width": null,
       "object_fit": null,
       "object_position": null,
       "order": null,
       "overflow": null,
       "overflow_x": null,
       "overflow_y": null,
       "padding": null,
       "right": null,
       "top": null,
       "visibility": null,
       "width": null
      }
     },
     "1b810f4c8314487fa28960b9b0fdb93d": {
      "model_module": "@jupyter-widgets/controls",
      "model_module_version": "1.5.0",
      "model_name": "DescriptionStyleModel",
      "state": {
       "_model_module": "@jupyter-widgets/controls",
       "_model_module_version": "1.5.0",
       "_model_name": "DescriptionStyleModel",
       "_view_count": null,
       "_view_module": "@jupyter-widgets/base",
       "_view_module_version": "1.2.0",
       "_view_name": "StyleView",
       "description_width": ""
      }
     },
     "2affe13628534466984c898cad2f74c3": {
      "model_module": "@jupyter-widgets/base",
      "model_module_version": "1.2.0",
      "model_name": "LayoutModel",
      "state": {
       "_model_module": "@jupyter-widgets/base",
       "_model_module_version": "1.2.0",
       "_model_name": "LayoutModel",
       "_view_count": null,
       "_view_module": "@jupyter-widgets/base",
       "_view_module_version": "1.2.0",
       "_view_name": "LayoutView",
       "align_content": null,
       "align_items": null,
       "align_self": null,
       "border": null,
       "bottom": null,
       "display": null,
       "flex": null,
       "flex_flow": null,
       "grid_area": null,
       "grid_auto_columns": null,
       "grid_auto_flow": null,
       "grid_auto_rows": null,
       "grid_column": null,
       "grid_gap": null,
       "grid_row": null,
       "grid_template_areas": null,
       "grid_template_columns": null,
       "grid_template_rows": null,
       "height": null,
       "justify_content": null,
       "justify_items": null,
       "left": null,
       "margin": null,
       "max_height": null,
       "max_width": null,
       "min_height": null,
       "min_width": null,
       "object_fit": null,
       "object_position": null,
       "order": null,
       "overflow": null,
       "overflow_x": null,
       "overflow_y": null,
       "padding": null,
       "right": null,
       "top": null,
       "visibility": null,
       "width": null
      }
     },
     "2c28f98e2161434690b4465a1d8bc3b3": {
      "model_module": "@jupyter-widgets/controls",
      "model_module_version": "1.5.0",
      "model_name": "HTMLModel",
      "state": {
       "_dom_classes": [],
       "_model_module": "@jupyter-widgets/controls",
       "_model_module_version": "1.5.0",
       "_model_name": "HTMLModel",
       "_view_count": null,
       "_view_module": "@jupyter-widgets/controls",
       "_view_module_version": "1.5.0",
       "_view_name": "HTMLView",
       "description": "",
       "description_tooltip": null,
       "layout": "IPY_MODEL_2ce86734824c4a55b351491edbd4af09",
       "placeholder": "​",
       "style": "IPY_MODEL_3a5aac56126e4dafb76162034a7e9b14",
       "value": " 2.35M/2.35M [00:01&lt;00:00, 2.80MB/s]"
      }
     },
     "2c953ffff0e744858d273c2c2fc4669e": {
      "model_module": "@jupyter-widgets/controls",
      "model_module_version": "1.5.0",
      "model_name": "FloatProgressModel",
      "state": {
       "_dom_classes": [],
       "_model_module": "@jupyter-widgets/controls",
       "_model_module_version": "1.5.0",
       "_model_name": "FloatProgressModel",
       "_view_count": null,
       "_view_module": "@jupyter-widgets/controls",
       "_view_module_version": "1.5.0",
       "_view_name": "ProgressView",
       "bar_style": "success",
       "description": "",
       "description_tooltip": null,
       "layout": "IPY_MODEL_f018da541e064a24b89d92d80f61b9f1",
       "max": 9,
       "min": 0,
       "orientation": "horizontal",
       "style": "IPY_MODEL_bdc5080d7bba47008ee9548f8a430a5b",
       "value": 9
      }
     },
     "2ce86734824c4a55b351491edbd4af09": {
      "model_module": "@jupyter-widgets/base",
      "model_module_version": "1.2.0",
      "model_name": "LayoutModel",
      "state": {
       "_model_module": "@jupyter-widgets/base",
       "_model_module_version": "1.2.0",
       "_model_name": "LayoutModel",
       "_view_count": null,
       "_view_module": "@jupyter-widgets/base",
       "_view_module_version": "1.2.0",
       "_view_name": "LayoutView",
       "align_content": null,
       "align_items": null,
       "align_self": null,
       "border": null,
       "bottom": null,
       "display": null,
       "flex": null,
       "flex_flow": null,
       "grid_area": null,
       "grid_auto_columns": null,
       "grid_auto_flow": null,
       "grid_auto_rows": null,
       "grid_column": null,
       "grid_gap": null,
       "grid_row": null,
       "grid_template_areas": null,
       "grid_template_columns": null,
       "grid_template_rows": null,
       "height": null,
       "justify_content": null,
       "justify_items": null,
       "left": null,
       "margin": null,
       "max_height": null,
       "max_width": null,
       "min_height": null,
       "min_width": null,
       "object_fit": null,
       "object_position": null,
       "order": null,
       "overflow": null,
       "overflow_x": null,
       "overflow_y": null,
       "padding": null,
       "right": null,
       "top": null,
       "visibility": null,
       "width": null
      }
     },
     "2da2f8c4c28e4cd49b079b140be3c11b": {
      "model_module": "@jupyter-widgets/base",
      "model_module_version": "1.2.0",
      "model_name": "LayoutModel",
      "state": {
       "_model_module": "@jupyter-widgets/base",
       "_model_module_version": "1.2.0",
       "_model_name": "LayoutModel",
       "_view_count": null,
       "_view_module": "@jupyter-widgets/base",
       "_view_module_version": "1.2.0",
       "_view_name": "LayoutView",
       "align_content": null,
       "align_items": null,
       "align_self": null,
       "border": null,
       "bottom": null,
       "display": null,
       "flex": null,
       "flex_flow": null,
       "grid_area": null,
       "grid_auto_columns": null,
       "grid_auto_flow": null,
       "grid_auto_rows": null,
       "grid_column": null,
       "grid_gap": null,
       "grid_row": null,
       "grid_template_areas": null,
       "grid_template_columns": null,
       "grid_template_rows": null,
       "height": null,
       "justify_content": null,
       "justify_items": null,
       "left": null,
       "margin": null,
       "max_height": null,
       "max_width": null,
       "min_height": null,
       "min_width": null,
       "object_fit": null,
       "object_position": null,
       "order": null,
       "overflow": null,
       "overflow_x": null,
       "overflow_y": null,
       "padding": null,
       "right": null,
       "top": null,
       "visibility": null,
       "width": null
      }
     },
     "2db676fe3e4c4a3f8fe2f1b64191df17": {
      "model_module": "@jupyter-widgets/base",
      "model_module_version": "1.2.0",
      "model_name": "LayoutModel",
      "state": {
       "_model_module": "@jupyter-widgets/base",
       "_model_module_version": "1.2.0",
       "_model_name": "LayoutModel",
       "_view_count": null,
       "_view_module": "@jupyter-widgets/base",
       "_view_module_version": "1.2.0",
       "_view_name": "LayoutView",
       "align_content": null,
       "align_items": null,
       "align_self": null,
       "border": null,
       "bottom": null,
       "display": null,
       "flex": null,
       "flex_flow": null,
       "grid_area": null,
       "grid_auto_columns": null,
       "grid_auto_flow": null,
       "grid_auto_rows": null,
       "grid_column": null,
       "grid_gap": null,
       "grid_row": null,
       "grid_template_areas": null,
       "grid_template_columns": null,
       "grid_template_rows": null,
       "height": null,
       "justify_content": null,
       "justify_items": null,
       "left": null,
       "margin": null,
       "max_height": null,
       "max_width": null,
       "min_height": null,
       "min_width": null,
       "object_fit": null,
       "object_position": null,
       "order": null,
       "overflow": null,
       "overflow_x": null,
       "overflow_y": null,
       "padding": null,
       "right": null,
       "top": null,
       "visibility": null,
       "width": null
      }
     },
     "34053ea5fd354fb4803007f61f77ace6": {
      "model_module": "@jupyter-widgets/base",
      "model_module_version": "1.2.0",
      "model_name": "LayoutModel",
      "state": {
       "_model_module": "@jupyter-widgets/base",
       "_model_module_version": "1.2.0",
       "_model_name": "LayoutModel",
       "_view_count": null,
       "_view_module": "@jupyter-widgets/base",
       "_view_module_version": "1.2.0",
       "_view_name": "LayoutView",
       "align_content": null,
       "align_items": null,
       "align_self": null,
       "border": null,
       "bottom": null,
       "display": null,
       "flex": null,
       "flex_flow": null,
       "grid_area": null,
       "grid_auto_columns": null,
       "grid_auto_flow": null,
       "grid_auto_rows": null,
       "grid_column": null,
       "grid_gap": null,
       "grid_row": null,
       "grid_template_areas": null,
       "grid_template_columns": null,
       "grid_template_rows": null,
       "height": null,
       "justify_content": null,
       "justify_items": null,
       "left": null,
       "margin": null,
       "max_height": null,
       "max_width": null,
       "min_height": null,
       "min_width": null,
       "object_fit": null,
       "object_position": null,
       "order": null,
       "overflow": null,
       "overflow_x": null,
       "overflow_y": null,
       "padding": null,
       "right": null,
       "top": null,
       "visibility": null,
       "width": null
      }
     },
     "35d2b7bcc6f044f2b09151e9693ce9e4": {
      "model_module": "@jupyter-widgets/base",
      "model_module_version": "1.2.0",
      "model_name": "LayoutModel",
      "state": {
       "_model_module": "@jupyter-widgets/base",
       "_model_module_version": "1.2.0",
       "_model_name": "LayoutModel",
       "_view_count": null,
       "_view_module": "@jupyter-widgets/base",
       "_view_module_version": "1.2.0",
       "_view_name": "LayoutView",
       "align_content": null,
       "align_items": null,
       "align_self": null,
       "border": null,
       "bottom": null,
       "display": null,
       "flex": null,
       "flex_flow": null,
       "grid_area": null,
       "grid_auto_columns": null,
       "grid_auto_flow": null,
       "grid_auto_rows": null,
       "grid_column": null,
       "grid_gap": null,
       "grid_row": null,
       "grid_template_areas": null,
       "grid_template_columns": null,
       "grid_template_rows": null,
       "height": null,
       "justify_content": null,
       "justify_items": null,
       "left": null,
       "margin": null,
       "max_height": null,
       "max_width": null,
       "min_height": null,
       "min_width": null,
       "object_fit": null,
       "object_position": null,
       "order": null,
       "overflow": null,
       "overflow_x": null,
       "overflow_y": null,
       "padding": null,
       "right": null,
       "top": null,
       "visibility": null,
       "width": null
      }
     },
     "39ec7487454c4d288244a6f2cb2fd0c8": {
      "model_module": "@jupyter-widgets/controls",
      "model_module_version": "1.5.0",
      "model_name": "DescriptionStyleModel",
      "state": {
       "_model_module": "@jupyter-widgets/controls",
       "_model_module_version": "1.5.0",
       "_model_name": "DescriptionStyleModel",
       "_view_count": null,
       "_view_module": "@jupyter-widgets/base",
       "_view_module_version": "1.2.0",
       "_view_name": "StyleView",
       "description_width": ""
      }
     },
     "3a5aac56126e4dafb76162034a7e9b14": {
      "model_module": "@jupyter-widgets/controls",
      "model_module_version": "1.5.0",
      "model_name": "DescriptionStyleModel",
      "state": {
       "_model_module": "@jupyter-widgets/controls",
       "_model_module_version": "1.5.0",
       "_model_name": "DescriptionStyleModel",
       "_view_count": null,
       "_view_module": "@jupyter-widgets/base",
       "_view_module_version": "1.2.0",
       "_view_name": "StyleView",
       "description_width": ""
      }
     },
     "3f9a551175954eed999ab8f7e382959f": {
      "model_module": "@jupyter-widgets/controls",
      "model_module_version": "1.5.0",
      "model_name": "HTMLModel",
      "state": {
       "_dom_classes": [],
       "_model_module": "@jupyter-widgets/controls",
       "_model_module_version": "1.5.0",
       "_model_name": "HTMLModel",
       "_view_count": null,
       "_view_module": "@jupyter-widgets/controls",
       "_view_module_version": "1.5.0",
       "_view_name": "HTMLView",
       "description": "",
       "description_tooltip": null,
       "layout": "IPY_MODEL_4b24e04b93c74b2ca81b3660121bc63f",
       "placeholder": "​",
       "style": "IPY_MODEL_fa0d418ff3e6440facca754d2a97c33e",
       "value": "Downloading: 100%"
      }
     },
     "463f2833ff1b4f73b1d1f55654d3da24": {
      "model_module": "@jupyter-widgets/controls",
      "model_module_version": "1.5.0",
      "model_name": "DescriptionStyleModel",
      "state": {
       "_model_module": "@jupyter-widgets/controls",
       "_model_module_version": "1.5.0",
       "_model_name": "DescriptionStyleModel",
       "_view_count": null,
       "_view_module": "@jupyter-widgets/base",
       "_view_module_version": "1.2.0",
       "_view_name": "StyleView",
       "description_width": ""
      }
     },
     "483226005b6843a584b85f702b570a31": {
      "model_module": "@jupyter-widgets/base",
      "model_module_version": "1.2.0",
      "model_name": "LayoutModel",
      "state": {
       "_model_module": "@jupyter-widgets/base",
       "_model_module_version": "1.2.0",
       "_model_name": "LayoutModel",
       "_view_count": null,
       "_view_module": "@jupyter-widgets/base",
       "_view_module_version": "1.2.0",
       "_view_name": "LayoutView",
       "align_content": null,
       "align_items": null,
       "align_self": null,
       "border": null,
       "bottom": null,
       "display": null,
       "flex": null,
       "flex_flow": null,
       "grid_area": null,
       "grid_auto_columns": null,
       "grid_auto_flow": null,
       "grid_auto_rows": null,
       "grid_column": null,
       "grid_gap": null,
       "grid_row": null,
       "grid_template_areas": null,
       "grid_template_columns": null,
       "grid_template_rows": null,
       "height": null,
       "justify_content": null,
       "justify_items": null,
       "left": null,
       "margin": null,
       "max_height": null,
       "max_width": null,
       "min_height": null,
       "min_width": null,
       "object_fit": null,
       "object_position": null,
       "order": null,
       "overflow": null,
       "overflow_x": null,
       "overflow_y": null,
       "padding": null,
       "right": null,
       "top": null,
       "visibility": null,
       "width": null
      }
     },
     "48bfdad716404028b02f809a5800c238": {
      "model_module": "@jupyter-widgets/controls",
      "model_module_version": "1.5.0",
      "model_name": "DescriptionStyleModel",
      "state": {
       "_model_module": "@jupyter-widgets/controls",
       "_model_module_version": "1.5.0",
       "_model_name": "DescriptionStyleModel",
       "_view_count": null,
       "_view_module": "@jupyter-widgets/base",
       "_view_module_version": "1.2.0",
       "_view_name": "StyleView",
       "description_width": ""
      }
     },
     "4b24e04b93c74b2ca81b3660121bc63f": {
      "model_module": "@jupyter-widgets/base",
      "model_module_version": "1.2.0",
      "model_name": "LayoutModel",
      "state": {
       "_model_module": "@jupyter-widgets/base",
       "_model_module_version": "1.2.0",
       "_model_name": "LayoutModel",
       "_view_count": null,
       "_view_module": "@jupyter-widgets/base",
       "_view_module_version": "1.2.0",
       "_view_name": "LayoutView",
       "align_content": null,
       "align_items": null,
       "align_self": null,
       "border": null,
       "bottom": null,
       "display": null,
       "flex": null,
       "flex_flow": null,
       "grid_area": null,
       "grid_auto_columns": null,
       "grid_auto_flow": null,
       "grid_auto_rows": null,
       "grid_column": null,
       "grid_gap": null,
       "grid_row": null,
       "grid_template_areas": null,
       "grid_template_columns": null,
       "grid_template_rows": null,
       "height": null,
       "justify_content": null,
       "justify_items": null,
       "left": null,
       "margin": null,
       "max_height": null,
       "max_width": null,
       "min_height": null,
       "min_width": null,
       "object_fit": null,
       "object_position": null,
       "order": null,
       "overflow": null,
       "overflow_x": null,
       "overflow_y": null,
       "padding": null,
       "right": null,
       "top": null,
       "visibility": null,
       "width": null
      }
     },
     "4dfa89d38b5b4faea07fa56b7ce0ef40": {
      "model_module": "@jupyter-widgets/base",
      "model_module_version": "1.2.0",
      "model_name": "LayoutModel",
      "state": {
       "_model_module": "@jupyter-widgets/base",
       "_model_module_version": "1.2.0",
       "_model_name": "LayoutModel",
       "_view_count": null,
       "_view_module": "@jupyter-widgets/base",
       "_view_module_version": "1.2.0",
       "_view_name": "LayoutView",
       "align_content": null,
       "align_items": null,
       "align_self": null,
       "border": null,
       "bottom": null,
       "display": null,
       "flex": null,
       "flex_flow": null,
       "grid_area": null,
       "grid_auto_columns": null,
       "grid_auto_flow": null,
       "grid_auto_rows": null,
       "grid_column": null,
       "grid_gap": null,
       "grid_row": null,
       "grid_template_areas": null,
       "grid_template_columns": null,
       "grid_template_rows": null,
       "height": null,
       "justify_content": null,
       "justify_items": null,
       "left": null,
       "margin": null,
       "max_height": null,
       "max_width": null,
       "min_height": null,
       "min_width": null,
       "object_fit": null,
       "object_position": null,
       "order": null,
       "overflow": null,
       "overflow_x": null,
       "overflow_y": null,
       "padding": null,
       "right": null,
       "top": null,
       "visibility": null,
       "width": null
      }
     },
     "52209169dd6d4fc0a1df13e1d18bbde8": {
      "model_module": "@jupyter-widgets/controls",
      "model_module_version": "1.5.0",
      "model_name": "ProgressStyleModel",
      "state": {
       "_model_module": "@jupyter-widgets/controls",
       "_model_module_version": "1.5.0",
       "_model_name": "ProgressStyleModel",
       "_view_count": null,
       "_view_module": "@jupyter-widgets/base",
       "_view_module_version": "1.2.0",
       "_view_name": "StyleView",
       "bar_color": null,
       "description_width": ""
      }
     },
     "53b4b156bfb64da3b7dad3dde9af93e1": {
      "model_module": "@jupyter-widgets/base",
      "model_module_version": "1.2.0",
      "model_name": "LayoutModel",
      "state": {
       "_model_module": "@jupyter-widgets/base",
       "_model_module_version": "1.2.0",
       "_model_name": "LayoutModel",
       "_view_count": null,
       "_view_module": "@jupyter-widgets/base",
       "_view_module_version": "1.2.0",
       "_view_name": "LayoutView",
       "align_content": null,
       "align_items": null,
       "align_self": null,
       "border": null,
       "bottom": null,
       "display": null,
       "flex": null,
       "flex_flow": null,
       "grid_area": null,
       "grid_auto_columns": null,
       "grid_auto_flow": null,
       "grid_auto_rows": null,
       "grid_column": null,
       "grid_gap": null,
       "grid_row": null,
       "grid_template_areas": null,
       "grid_template_columns": null,
       "grid_template_rows": null,
       "height": null,
       "justify_content": null,
       "justify_items": null,
       "left": null,
       "margin": null,
       "max_height": null,
       "max_width": null,
       "min_height": null,
       "min_width": null,
       "object_fit": null,
       "object_position": null,
       "order": null,
       "overflow": null,
       "overflow_x": null,
       "overflow_y": null,
       "padding": null,
       "right": null,
       "top": null,
       "visibility": null,
       "width": null
      }
     },
     "582dd5056a07493d8c28bea1c53f109c": {
      "model_module": "@jupyter-widgets/controls",
      "model_module_version": "1.5.0",
      "model_name": "DescriptionStyleModel",
      "state": {
       "_model_module": "@jupyter-widgets/controls",
       "_model_module_version": "1.5.0",
       "_model_name": "DescriptionStyleModel",
       "_view_count": null,
       "_view_module": "@jupyter-widgets/base",
       "_view_module_version": "1.2.0",
       "_view_name": "StyleView",
       "description_width": ""
      }
     },
     "5aee25483f584c19b352c7532ff1bee4": {
      "model_module": "@jupyter-widgets/controls",
      "model_module_version": "1.5.0",
      "model_name": "ProgressStyleModel",
      "state": {
       "_model_module": "@jupyter-widgets/controls",
       "_model_module_version": "1.5.0",
       "_model_name": "ProgressStyleModel",
       "_view_count": null,
       "_view_module": "@jupyter-widgets/base",
       "_view_module_version": "1.2.0",
       "_view_name": "StyleView",
       "bar_color": null,
       "description_width": ""
      }
     },
     "66589aa6a0cd454e981f1b14bd835273": {
      "model_module": "@jupyter-widgets/controls",
      "model_module_version": "1.5.0",
      "model_name": "HBoxModel",
      "state": {
       "_dom_classes": [],
       "_model_module": "@jupyter-widgets/controls",
       "_model_module_version": "1.5.0",
       "_model_name": "HBoxModel",
       "_view_count": null,
       "_view_module": "@jupyter-widgets/controls",
       "_view_module_version": "1.5.0",
       "_view_name": "HBoxView",
       "box_style": "",
       "children": [
        "IPY_MODEL_bd58eff362154647a06934e6bac5015d",
        "IPY_MODEL_7a4a49fb5e8c47e1bf9e06d1c8b6e725",
        "IPY_MODEL_c68b851feea544aabf5ac9d1115b7e27"
       ],
       "layout": "IPY_MODEL_c68e49c4b9d64e15948e7a630155a066"
      }
     },
     "66bd29e36bc8491dbaee5d65817c838b": {
      "model_module": "@jupyter-widgets/controls",
      "model_module_version": "1.5.0",
      "model_name": "HBoxModel",
      "state": {
       "_dom_classes": [],
       "_model_module": "@jupyter-widgets/controls",
       "_model_module_version": "1.5.0",
       "_model_name": "HBoxModel",
       "_view_count": null,
       "_view_module": "@jupyter-widgets/controls",
       "_view_module_version": "1.5.0",
       "_view_name": "HBoxView",
       "box_style": "",
       "children": [
        "IPY_MODEL_c89f03552aec49229345def187102b11",
        "IPY_MODEL_84a97ea2ec1b4ef5a2928d00014ceca9",
        "IPY_MODEL_c8fc65fafb2e41398f209daa8afe4db3"
       ],
       "layout": "IPY_MODEL_d3329c317fbd40b38a9f1d24a8d09ec2"
      }
     },
     "6beb198276c9483ea042e9c592c6fc4f": {
      "model_module": "@jupyter-widgets/controls",
      "model_module_version": "1.5.0",
      "model_name": "FloatProgressModel",
      "state": {
       "_dom_classes": [],
       "_model_module": "@jupyter-widgets/controls",
       "_model_module_version": "1.5.0",
       "_model_name": "FloatProgressModel",
       "_view_count": null,
       "_view_module": "@jupyter-widgets/controls",
       "_view_module_version": "1.5.0",
       "_view_name": "ProgressView",
       "bar_style": "success",
       "description": "",
       "description_tooltip": null,
       "layout": "IPY_MODEL_2db676fe3e4c4a3f8fe2f1b64191df17",
       "max": 578,
       "min": 0,
       "orientation": "horizontal",
       "style": "IPY_MODEL_5aee25483f584c19b352c7532ff1bee4",
       "value": 578
      }
     },
     "729eba16dd674b1db590e5a9900a8533": {
      "model_module": "@jupyter-widgets/base",
      "model_module_version": "1.2.0",
      "model_name": "LayoutModel",
      "state": {
       "_model_module": "@jupyter-widgets/base",
       "_model_module_version": "1.2.0",
       "_model_name": "LayoutModel",
       "_view_count": null,
       "_view_module": "@jupyter-widgets/base",
       "_view_module_version": "1.2.0",
       "_view_name": "LayoutView",
       "align_content": null,
       "align_items": null,
       "align_self": null,
       "border": null,
       "bottom": null,
       "display": null,
       "flex": null,
       "flex_flow": null,
       "grid_area": null,
       "grid_auto_columns": null,
       "grid_auto_flow": null,
       "grid_auto_rows": null,
       "grid_column": null,
       "grid_gap": null,
       "grid_row": null,
       "grid_template_areas": null,
       "grid_template_columns": null,
       "grid_template_rows": null,
       "height": null,
       "justify_content": null,
       "justify_items": null,
       "left": null,
       "margin": null,
       "max_height": null,
       "max_width": null,
       "min_height": null,
       "min_width": null,
       "object_fit": null,
       "object_position": null,
       "order": null,
       "overflow": null,
       "overflow_x": null,
       "overflow_y": null,
       "padding": null,
       "right": null,
       "top": null,
       "visibility": null,
       "width": null
      }
     },
     "780d4eb760a040c09a30a9c23d7e5227": {
      "model_module": "@jupyter-widgets/controls",
      "model_module_version": "1.5.0",
      "model_name": "DescriptionStyleModel",
      "state": {
       "_model_module": "@jupyter-widgets/controls",
       "_model_module_version": "1.5.0",
       "_model_name": "DescriptionStyleModel",
       "_view_count": null,
       "_view_module": "@jupyter-widgets/base",
       "_view_module_version": "1.2.0",
       "_view_name": "StyleView",
       "description_width": ""
      }
     },
     "78390ad7257242c6b6ef462b46e9b2ff": {
      "model_module": "@jupyter-widgets/base",
      "model_module_version": "1.2.0",
      "model_name": "LayoutModel",
      "state": {
       "_model_module": "@jupyter-widgets/base",
       "_model_module_version": "1.2.0",
       "_model_name": "LayoutModel",
       "_view_count": null,
       "_view_module": "@jupyter-widgets/base",
       "_view_module_version": "1.2.0",
       "_view_name": "LayoutView",
       "align_content": null,
       "align_items": null,
       "align_self": null,
       "border": null,
       "bottom": null,
       "display": null,
       "flex": null,
       "flex_flow": null,
       "grid_area": null,
       "grid_auto_columns": null,
       "grid_auto_flow": null,
       "grid_auto_rows": null,
       "grid_column": null,
       "grid_gap": null,
       "grid_row": null,
       "grid_template_areas": null,
       "grid_template_columns": null,
       "grid_template_rows": null,
       "height": null,
       "justify_content": null,
       "justify_items": null,
       "left": null,
       "margin": null,
       "max_height": null,
       "max_width": null,
       "min_height": null,
       "min_width": null,
       "object_fit": null,
       "object_position": null,
       "order": null,
       "overflow": null,
       "overflow_x": null,
       "overflow_y": null,
       "padding": null,
       "right": null,
       "top": null,
       "visibility": null,
       "width": null
      }
     },
     "7a4a49fb5e8c47e1bf9e06d1c8b6e725": {
      "model_module": "@jupyter-widgets/controls",
      "model_module_version": "1.5.0",
      "model_name": "FloatProgressModel",
      "state": {
       "_dom_classes": [],
       "_model_module": "@jupyter-widgets/controls",
       "_model_module_version": "1.5.0",
       "_model_name": "FloatProgressModel",
       "_view_count": null,
       "_view_module": "@jupyter-widgets/controls",
       "_view_module_version": "1.5.0",
       "_view_name": "ProgressView",
       "bar_style": "success",
       "description": "",
       "description_tooltip": null,
       "layout": "IPY_MODEL_ded06620b44d49988f22fc25eded4fd8",
       "max": 3,
       "min": 0,
       "orientation": "horizontal",
       "style": "IPY_MODEL_e50df30ff88949c795cb2fb2700c81fc",
       "value": 3
      }
     },
     "7d27fd67534c42ada74835e625a93e48": {
      "model_module": "@jupyter-widgets/base",
      "model_module_version": "1.2.0",
      "model_name": "LayoutModel",
      "state": {
       "_model_module": "@jupyter-widgets/base",
       "_model_module_version": "1.2.0",
       "_model_name": "LayoutModel",
       "_view_count": null,
       "_view_module": "@jupyter-widgets/base",
       "_view_module_version": "1.2.0",
       "_view_name": "LayoutView",
       "align_content": null,
       "align_items": null,
       "align_self": null,
       "border": null,
       "bottom": null,
       "display": null,
       "flex": null,
       "flex_flow": null,
       "grid_area": null,
       "grid_auto_columns": null,
       "grid_auto_flow": null,
       "grid_auto_rows": null,
       "grid_column": null,
       "grid_gap": null,
       "grid_row": null,
       "grid_template_areas": null,
       "grid_template_columns": null,
       "grid_template_rows": null,
       "height": null,
       "justify_content": null,
       "justify_items": null,
       "left": null,
       "margin": null,
       "max_height": null,
       "max_width": null,
       "min_height": null,
       "min_width": null,
       "object_fit": null,
       "object_position": null,
       "order": null,
       "overflow": null,
       "overflow_x": null,
       "overflow_y": null,
       "padding": null,
       "right": null,
       "top": null,
       "visibility": null,
       "width": null
      }
     },
     "84a97ea2ec1b4ef5a2928d00014ceca9": {
      "model_module": "@jupyter-widgets/controls",
      "model_module_version": "1.5.0",
      "model_name": "FloatProgressModel",
      "state": {
       "_dom_classes": [],
       "_model_module": "@jupyter-widgets/controls",
       "_model_module_version": "1.5.0",
       "_model_name": "FloatProgressModel",
       "_view_count": null,
       "_view_module": "@jupyter-widgets/controls",
       "_view_module_version": "1.5.0",
       "_view_name": "ProgressView",
       "bar_style": "success",
       "description": "",
       "description_tooltip": null,
       "layout": "IPY_MODEL_35d2b7bcc6f044f2b09151e9693ce9e4",
       "max": 286059269,
       "min": 0,
       "orientation": "horizontal",
       "style": "IPY_MODEL_bf9ad26c8b0f4b15aa9db29bcdd952e8",
       "value": 286059269
      }
     },
     "87e774df1f514399bec7c0823279a8a8": {
      "model_module": "@jupyter-widgets/controls",
      "model_module_version": "1.5.0",
      "model_name": "HTMLModel",
      "state": {
       "_dom_classes": [],
       "_model_module": "@jupyter-widgets/controls",
       "_model_module_version": "1.5.0",
       "_model_name": "HTMLModel",
       "_view_count": null,
       "_view_module": "@jupyter-widgets/controls",
       "_view_module_version": "1.5.0",
       "_view_name": "HTMLView",
       "description": "",
       "description_tooltip": null,
       "layout": "IPY_MODEL_729eba16dd674b1db590e5a9900a8533",
       "placeholder": "​",
       "style": "IPY_MODEL_39ec7487454c4d288244a6f2cb2fd0c8",
       "value": "100%"
      }
     },
     "8e366770a187435aaf70767fa52cecff": {
      "model_module": "@jupyter-widgets/controls",
      "model_module_version": "1.5.0",
      "model_name": "HTMLModel",
      "state": {
       "_dom_classes": [],
       "_model_module": "@jupyter-widgets/controls",
       "_model_module_version": "1.5.0",
       "_model_name": "HTMLModel",
       "_view_count": null,
       "_view_module": "@jupyter-widgets/controls",
       "_view_module_version": "1.5.0",
       "_view_name": "HTMLView",
       "description": "",
       "description_tooltip": null,
       "layout": "IPY_MODEL_ab8cd0c5db294765a5b4d071e7599704",
       "placeholder": "​",
       "style": "IPY_MODEL_ecdc687e47e14e19866f1c25b84997a7",
       "value": " 9/9 [00:00&lt;00:00, 14.21ba/s]"
      }
     },
     "8e3d3683c26a4b3ba8583f761e990d40": {
      "model_module": "@jupyter-widgets/controls",
      "model_module_version": "1.5.0",
      "model_name": "DescriptionStyleModel",
      "state": {
       "_model_module": "@jupyter-widgets/controls",
       "_model_module_version": "1.5.0",
       "_model_name": "DescriptionStyleModel",
       "_view_count": null,
       "_view_module": "@jupyter-widgets/base",
       "_view_module_version": "1.2.0",
       "_view_name": "StyleView",
       "description_width": ""
      }
     },
     "8f7b1618512145d6969fb1f536b25106": {
      "model_module": "@jupyter-widgets/controls",
      "model_module_version": "1.5.0",
      "model_name": "HTMLModel",
      "state": {
       "_dom_classes": [],
       "_model_module": "@jupyter-widgets/controls",
       "_model_module_version": "1.5.0",
       "_model_name": "HTMLModel",
       "_view_count": null,
       "_view_module": "@jupyter-widgets/controls",
       "_view_module_version": "1.5.0",
       "_view_name": "HTMLView",
       "description": "",
       "description_tooltip": null,
       "layout": "IPY_MODEL_1af11c64427c49938508b96e27aa9125",
       "placeholder": "​",
       "style": "IPY_MODEL_aab175ae055045cea1aeaf8579b8921a",
       "value": "Downloading: 100%"
      }
     },
     "9272d5090f70411c81c7f62ceda16ed9": {
      "model_module": "@jupyter-widgets/controls",
      "model_module_version": "1.5.0",
      "model_name": "DescriptionStyleModel",
      "state": {
       "_model_module": "@jupyter-widgets/controls",
       "_model_module_version": "1.5.0",
       "_model_name": "DescriptionStyleModel",
       "_view_count": null,
       "_view_module": "@jupyter-widgets/base",
       "_view_module_version": "1.2.0",
       "_view_name": "StyleView",
       "description_width": ""
      }
     },
     "9412a657f47142068eed83002da0a474": {
      "model_module": "@jupyter-widgets/controls",
      "model_module_version": "1.5.0",
      "model_name": "HTMLModel",
      "state": {
       "_dom_classes": [],
       "_model_module": "@jupyter-widgets/controls",
       "_model_module_version": "1.5.0",
       "_model_name": "HTMLModel",
       "_view_count": null,
       "_view_module": "@jupyter-widgets/controls",
       "_view_module_version": "1.5.0",
       "_view_name": "HTMLView",
       "description": "",
       "description_tooltip": null,
       "layout": "IPY_MODEL_2da2f8c4c28e4cd49b079b140be3c11b",
       "placeholder": "​",
       "style": "IPY_MODEL_780d4eb760a040c09a30a9c23d7e5227",
       "value": "Downloading: 100%"
      }
     },
     "a105911cf93046e286192bfb6166eddf": {
      "model_module": "@jupyter-widgets/base",
      "model_module_version": "1.2.0",
      "model_name": "LayoutModel",
      "state": {
       "_model_module": "@jupyter-widgets/base",
       "_model_module_version": "1.2.0",
       "_model_name": "LayoutModel",
       "_view_count": null,
       "_view_module": "@jupyter-widgets/base",
       "_view_module_version": "1.2.0",
       "_view_name": "LayoutView",
       "align_content": null,
       "align_items": null,
       "align_self": null,
       "border": null,
       "bottom": null,
       "display": null,
       "flex": null,
       "flex_flow": null,
       "grid_area": null,
       "grid_auto_columns": null,
       "grid_auto_flow": null,
       "grid_auto_rows": null,
       "grid_column": null,
       "grid_gap": null,
       "grid_row": null,
       "grid_template_areas": null,
       "grid_template_columns": null,
       "grid_template_rows": null,
       "height": null,
       "justify_content": null,
       "justify_items": null,
       "left": null,
       "margin": null,
       "max_height": null,
       "max_width": null,
       "min_height": null,
       "min_width": null,
       "object_fit": null,
       "object_position": null,
       "order": null,
       "overflow": null,
       "overflow_x": null,
       "overflow_y": null,
       "padding": null,
       "right": null,
       "top": null,
       "visibility": null,
       "width": null
      }
     },
     "a63a47ba09d64c81ac38fc6742e9b9a9": {
      "model_module": "@jupyter-widgets/controls",
      "model_module_version": "1.5.0",
      "model_name": "HTMLModel",
      "state": {
       "_dom_classes": [],
       "_model_module": "@jupyter-widgets/controls",
       "_model_module_version": "1.5.0",
       "_model_name": "HTMLModel",
       "_view_count": null,
       "_view_module": "@jupyter-widgets/controls",
       "_view_module_version": "1.5.0",
       "_view_name": "HTMLView",
       "description": "",
       "description_tooltip": null,
       "layout": "IPY_MODEL_a105911cf93046e286192bfb6166eddf",
       "placeholder": "​",
       "style": "IPY_MODEL_463f2833ff1b4f73b1d1f55654d3da24",
       "value": " 578/578 [00:00&lt;00:00, 22.8kB/s]"
      }
     },
     "a6ae46749e7a4697ba98496ef5503dcf": {
      "model_module": "@jupyter-widgets/controls",
      "model_module_version": "1.5.0",
      "model_name": "ProgressStyleModel",
      "state": {
       "_model_module": "@jupyter-widgets/controls",
       "_model_module_version": "1.5.0",
       "_model_name": "ProgressStyleModel",
       "_view_count": null,
       "_view_module": "@jupyter-widgets/base",
       "_view_module_version": "1.2.0",
       "_view_name": "StyleView",
       "bar_color": null,
       "description_width": ""
      }
     },
     "aab175ae055045cea1aeaf8579b8921a": {
      "model_module": "@jupyter-widgets/controls",
      "model_module_version": "1.5.0",
      "model_name": "DescriptionStyleModel",
      "state": {
       "_model_module": "@jupyter-widgets/controls",
       "_model_module_version": "1.5.0",
       "_model_name": "DescriptionStyleModel",
       "_view_count": null,
       "_view_module": "@jupyter-widgets/base",
       "_view_module_version": "1.2.0",
       "_view_name": "StyleView",
       "description_width": ""
      }
     },
     "ab8cd0c5db294765a5b4d071e7599704": {
      "model_module": "@jupyter-widgets/base",
      "model_module_version": "1.2.0",
      "model_name": "LayoutModel",
      "state": {
       "_model_module": "@jupyter-widgets/base",
       "_model_module_version": "1.2.0",
       "_model_name": "LayoutModel",
       "_view_count": null,
       "_view_module": "@jupyter-widgets/base",
       "_view_module_version": "1.2.0",
       "_view_name": "LayoutView",
       "align_content": null,
       "align_items": null,
       "align_self": null,
       "border": null,
       "bottom": null,
       "display": null,
       "flex": null,
       "flex_flow": null,
       "grid_area": null,
       "grid_auto_columns": null,
       "grid_auto_flow": null,
       "grid_auto_rows": null,
       "grid_column": null,
       "grid_gap": null,
       "grid_row": null,
       "grid_template_areas": null,
       "grid_template_columns": null,
       "grid_template_rows": null,
       "height": null,
       "justify_content": null,
       "justify_items": null,
       "left": null,
       "margin": null,
       "max_height": null,
       "max_width": null,
       "min_height": null,
       "min_width": null,
       "object_fit": null,
       "object_position": null,
       "order": null,
       "overflow": null,
       "overflow_x": null,
       "overflow_y": null,
       "padding": null,
       "right": null,
       "top": null,
       "visibility": null,
       "width": null
      }
     },
     "acb94c1784d84f5883985012894378e9": {
      "model_module": "@jupyter-widgets/controls",
      "model_module_version": "1.5.0",
      "model_name": "FloatProgressModel",
      "state": {
       "_dom_classes": [],
       "_model_module": "@jupyter-widgets/controls",
       "_model_module_version": "1.5.0",
       "_model_name": "FloatProgressModel",
       "_view_count": null,
       "_view_module": "@jupyter-widgets/controls",
       "_view_module_version": "1.5.0",
       "_view_name": "ProgressView",
       "bar_style": "success",
       "description": "",
       "description_tooltip": null,
       "layout": "IPY_MODEL_4dfa89d38b5b4faea07fa56b7ce0ef40",
       "max": 2464616,
       "min": 0,
       "orientation": "horizontal",
       "style": "IPY_MODEL_52209169dd6d4fc0a1df13e1d18bbde8",
       "value": 2464616
      }
     },
     "b0f1479a6ef145a19b50e2b612d02d52": {
      "model_module": "@jupyter-widgets/base",
      "model_module_version": "1.2.0",
      "model_name": "LayoutModel",
      "state": {
       "_model_module": "@jupyter-widgets/base",
       "_model_module_version": "1.2.0",
       "_model_name": "LayoutModel",
       "_view_count": null,
       "_view_module": "@jupyter-widgets/base",
       "_view_module_version": "1.2.0",
       "_view_name": "LayoutView",
       "align_content": null,
       "align_items": null,
       "align_self": null,
       "border": null,
       "bottom": null,
       "display": null,
       "flex": null,
       "flex_flow": null,
       "grid_area": null,
       "grid_auto_columns": null,
       "grid_auto_flow": null,
       "grid_auto_rows": null,
       "grid_column": null,
       "grid_gap": null,
       "grid_row": null,
       "grid_template_areas": null,
       "grid_template_columns": null,
       "grid_template_rows": null,
       "height": null,
       "justify_content": null,
       "justify_items": null,
       "left": null,
       "margin": null,
       "max_height": null,
       "max_width": null,
       "min_height": null,
       "min_width": null,
       "object_fit": null,
       "object_position": null,
       "order": null,
       "overflow": null,
       "overflow_x": null,
       "overflow_y": null,
       "padding": null,
       "right": null,
       "top": null,
       "visibility": null,
       "width": null
      }
     },
     "b765719995b44262b949270ac561e694": {
      "model_module": "@jupyter-widgets/controls",
      "model_module_version": "1.5.0",
      "model_name": "HBoxModel",
      "state": {
       "_dom_classes": [],
       "_model_module": "@jupyter-widgets/controls",
       "_model_module_version": "1.5.0",
       "_model_name": "HBoxModel",
       "_view_count": null,
       "_view_module": "@jupyter-widgets/controls",
       "_view_module_version": "1.5.0",
       "_view_name": "HBoxView",
       "box_style": "",
       "children": [
        "IPY_MODEL_9412a657f47142068eed83002da0a474",
        "IPY_MODEL_007020d2ef15424f9deb67cee421a1d3",
        "IPY_MODEL_055e9e50b1864e038c3d033db6d85518"
       ],
       "layout": "IPY_MODEL_2affe13628534466984c898cad2f74c3"
      }
     },
     "bd58eff362154647a06934e6bac5015d": {
      "model_module": "@jupyter-widgets/controls",
      "model_module_version": "1.5.0",
      "model_name": "HTMLModel",
      "state": {
       "_dom_classes": [],
       "_model_module": "@jupyter-widgets/controls",
       "_model_module_version": "1.5.0",
       "_model_name": "HTMLModel",
       "_view_count": null,
       "_view_module": "@jupyter-widgets/controls",
       "_view_module_version": "1.5.0",
       "_view_name": "HTMLView",
       "description": "",
       "description_tooltip": null,
       "layout": "IPY_MODEL_7d27fd67534c42ada74835e625a93e48",
       "placeholder": "​",
       "style": "IPY_MODEL_1b810f4c8314487fa28960b9b0fdb93d",
       "value": "100%"
      }
     },
     "bdc1f86424b64170b632b1f9149f610f": {
      "model_module": "@jupyter-widgets/controls",
      "model_module_version": "1.5.0",
      "model_name": "HBoxModel",
      "state": {
       "_dom_classes": [],
       "_model_module": "@jupyter-widgets/controls",
       "_model_module_version": "1.5.0",
       "_model_name": "HBoxModel",
       "_view_count": null,
       "_view_module": "@jupyter-widgets/controls",
       "_view_module_version": "1.5.0",
       "_view_name": "HBoxView",
       "box_style": "",
       "children": [
        "IPY_MODEL_87e774df1f514399bec7c0823279a8a8",
        "IPY_MODEL_2c953ffff0e744858d273c2c2fc4669e",
        "IPY_MODEL_8e366770a187435aaf70767fa52cecff"
       ],
       "layout": "IPY_MODEL_78390ad7257242c6b6ef462b46e9b2ff"
      }
     },
     "bdc5080d7bba47008ee9548f8a430a5b": {
      "model_module": "@jupyter-widgets/controls",
      "model_module_version": "1.5.0",
      "model_name": "ProgressStyleModel",
      "state": {
       "_model_module": "@jupyter-widgets/controls",
       "_model_module_version": "1.5.0",
       "_model_name": "ProgressStyleModel",
       "_view_count": null,
       "_view_module": "@jupyter-widgets/base",
       "_view_module_version": "1.2.0",
       "_view_name": "StyleView",
       "bar_color": null,
       "description_width": ""
      }
     },
     "bf9ad26c8b0f4b15aa9db29bcdd952e8": {
      "model_module": "@jupyter-widgets/controls",
      "model_module_version": "1.5.0",
      "model_name": "ProgressStyleModel",
      "state": {
       "_model_module": "@jupyter-widgets/controls",
       "_model_module_version": "1.5.0",
       "_model_name": "ProgressStyleModel",
       "_view_count": null,
       "_view_module": "@jupyter-widgets/base",
       "_view_module_version": "1.2.0",
       "_view_name": "StyleView",
       "bar_color": null,
       "description_width": ""
      }
     },
     "c1e5ceb118f84228926f0694b5f69a13": {
      "model_module": "@jupyter-widgets/controls",
      "model_module_version": "1.5.0",
      "model_name": "HBoxModel",
      "state": {
       "_dom_classes": [],
       "_model_module": "@jupyter-widgets/controls",
       "_model_module_version": "1.5.0",
       "_model_name": "HBoxModel",
       "_view_count": null,
       "_view_module": "@jupyter-widgets/controls",
       "_view_module_version": "1.5.0",
       "_view_name": "HBoxView",
       "box_style": "",
       "children": [
        "IPY_MODEL_8f7b1618512145d6969fb1f536b25106",
        "IPY_MODEL_acb94c1784d84f5883985012894378e9",
        "IPY_MODEL_2c28f98e2161434690b4465a1d8bc3b3"
       ],
       "layout": "IPY_MODEL_53b4b156bfb64da3b7dad3dde9af93e1"
      }
     },
     "c68b851feea544aabf5ac9d1115b7e27": {
      "model_module": "@jupyter-widgets/controls",
      "model_module_version": "1.5.0",
      "model_name": "HTMLModel",
      "state": {
       "_dom_classes": [],
       "_model_module": "@jupyter-widgets/controls",
       "_model_module_version": "1.5.0",
       "_model_name": "HTMLModel",
       "_view_count": null,
       "_view_module": "@jupyter-widgets/controls",
       "_view_module_version": "1.5.0",
       "_view_name": "HTMLView",
       "description": "",
       "description_tooltip": null,
       "layout": "IPY_MODEL_b0f1479a6ef145a19b50e2b612d02d52",
       "placeholder": "​",
       "style": "IPY_MODEL_8e3d3683c26a4b3ba8583f761e990d40",
       "value": " 3/3 [00:00&lt;00:00,  9.38ba/s]"
      }
     },
     "c68e49c4b9d64e15948e7a630155a066": {
      "model_module": "@jupyter-widgets/base",
      "model_module_version": "1.2.0",
      "model_name": "LayoutModel",
      "state": {
       "_model_module": "@jupyter-widgets/base",
       "_model_module_version": "1.2.0",
       "_model_name": "LayoutModel",
       "_view_count": null,
       "_view_module": "@jupyter-widgets/base",
       "_view_module_version": "1.2.0",
       "_view_name": "LayoutView",
       "align_content": null,
       "align_items": null,
       "align_self": null,
       "border": null,
       "bottom": null,
       "display": null,
       "flex": null,
       "flex_flow": null,
       "grid_area": null,
       "grid_auto_columns": null,
       "grid_auto_flow": null,
       "grid_auto_rows": null,
       "grid_column": null,
       "grid_gap": null,
       "grid_row": null,
       "grid_template_areas": null,
       "grid_template_columns": null,
       "grid_template_rows": null,
       "height": null,
       "justify_content": null,
       "justify_items": null,
       "left": null,
       "margin": null,
       "max_height": null,
       "max_width": null,
       "min_height": null,
       "min_width": null,
       "object_fit": null,
       "object_position": null,
       "order": null,
       "overflow": null,
       "overflow_x": null,
       "overflow_y": null,
       "padding": null,
       "right": null,
       "top": null,
       "visibility": null,
       "width": null
      }
     },
     "c89f03552aec49229345def187102b11": {
      "model_module": "@jupyter-widgets/controls",
      "model_module_version": "1.5.0",
      "model_name": "HTMLModel",
      "state": {
       "_dom_classes": [],
       "_model_module": "@jupyter-widgets/controls",
       "_model_module_version": "1.5.0",
       "_model_name": "HTMLModel",
       "_view_count": null,
       "_view_module": "@jupyter-widgets/controls",
       "_view_module_version": "1.5.0",
       "_view_name": "HTMLView",
       "description": "",
       "description_tooltip": null,
       "layout": "IPY_MODEL_f999d1488ef9470fb62e7b659c5612db",
       "placeholder": "​",
       "style": "IPY_MODEL_48bfdad716404028b02f809a5800c238",
       "value": "Downloading: 100%"
      }
     },
     "c8fc65fafb2e41398f209daa8afe4db3": {
      "model_module": "@jupyter-widgets/controls",
      "model_module_version": "1.5.0",
      "model_name": "HTMLModel",
      "state": {
       "_dom_classes": [],
       "_model_module": "@jupyter-widgets/controls",
       "_model_module_version": "1.5.0",
       "_model_name": "HTMLModel",
       "_view_count": null,
       "_view_module": "@jupyter-widgets/controls",
       "_view_module_version": "1.5.0",
       "_view_name": "HTMLView",
       "description": "",
       "description_tooltip": null,
       "layout": "IPY_MODEL_1af44e69bdad4d449bafd3b81ee9aba0",
       "placeholder": "​",
       "style": "IPY_MODEL_9272d5090f70411c81c7f62ceda16ed9",
       "value": " 273M/273M [00:13&lt;00:00, 26.4MB/s]"
      }
     },
     "d3329c317fbd40b38a9f1d24a8d09ec2": {
      "model_module": "@jupyter-widgets/base",
      "model_module_version": "1.2.0",
      "model_name": "LayoutModel",
      "state": {
       "_model_module": "@jupyter-widgets/base",
       "_model_module_version": "1.2.0",
       "_model_name": "LayoutModel",
       "_view_count": null,
       "_view_module": "@jupyter-widgets/base",
       "_view_module_version": "1.2.0",
       "_view_name": "LayoutView",
       "align_content": null,
       "align_items": null,
       "align_self": null,
       "border": null,
       "bottom": null,
       "display": null,
       "flex": null,
       "flex_flow": null,
       "grid_area": null,
       "grid_auto_columns": null,
       "grid_auto_flow": null,
       "grid_auto_rows": null,
       "grid_column": null,
       "grid_gap": null,
       "grid_row": null,
       "grid_template_areas": null,
       "grid_template_columns": null,
       "grid_template_rows": null,
       "height": null,
       "justify_content": null,
       "justify_items": null,
       "left": null,
       "margin": null,
       "max_height": null,
       "max_width": null,
       "min_height": null,
       "min_width": null,
       "object_fit": null,
       "object_position": null,
       "order": null,
       "overflow": null,
       "overflow_x": null,
       "overflow_y": null,
       "padding": null,
       "right": null,
       "top": null,
       "visibility": null,
       "width": null
      }
     },
     "d4cbbf5dd65b4441841891da48923eaa": {
      "model_module": "@jupyter-widgets/controls",
      "model_module_version": "1.5.0",
      "model_name": "HBoxModel",
      "state": {
       "_dom_classes": [],
       "_model_module": "@jupyter-widgets/controls",
       "_model_module_version": "1.5.0",
       "_model_name": "HBoxModel",
       "_view_count": null,
       "_view_module": "@jupyter-widgets/controls",
       "_view_module_version": "1.5.0",
       "_view_name": "HBoxView",
       "box_style": "",
       "children": [
        "IPY_MODEL_3f9a551175954eed999ab8f7e382959f",
        "IPY_MODEL_6beb198276c9483ea042e9c592c6fc4f",
        "IPY_MODEL_a63a47ba09d64c81ac38fc6742e9b9a9"
       ],
       "layout": "IPY_MODEL_483226005b6843a584b85f702b570a31"
      }
     },
     "d72c6bb1cbb54aefb3d51255d5370d4b": {
      "model_module": "@jupyter-widgets/base",
      "model_module_version": "1.2.0",
      "model_name": "LayoutModel",
      "state": {
       "_model_module": "@jupyter-widgets/base",
       "_model_module_version": "1.2.0",
       "_model_name": "LayoutModel",
       "_view_count": null,
       "_view_module": "@jupyter-widgets/base",
       "_view_module_version": "1.2.0",
       "_view_name": "LayoutView",
       "align_content": null,
       "align_items": null,
       "align_self": null,
       "border": null,
       "bottom": null,
       "display": null,
       "flex": null,
       "flex_flow": null,
       "grid_area": null,
       "grid_auto_columns": null,
       "grid_auto_flow": null,
       "grid_auto_rows": null,
       "grid_column": null,
       "grid_gap": null,
       "grid_row": null,
       "grid_template_areas": null,
       "grid_template_columns": null,
       "grid_template_rows": null,
       "height": null,
       "justify_content": null,
       "justify_items": null,
       "left": null,
       "margin": null,
       "max_height": null,
       "max_width": null,
       "min_height": null,
       "min_width": null,
       "object_fit": null,
       "object_position": null,
       "order": null,
       "overflow": null,
       "overflow_x": null,
       "overflow_y": null,
       "padding": null,
       "right": null,
       "top": null,
       "visibility": null,
       "width": null
      }
     },
     "ded06620b44d49988f22fc25eded4fd8": {
      "model_module": "@jupyter-widgets/base",
      "model_module_version": "1.2.0",
      "model_name": "LayoutModel",
      "state": {
       "_model_module": "@jupyter-widgets/base",
       "_model_module_version": "1.2.0",
       "_model_name": "LayoutModel",
       "_view_count": null,
       "_view_module": "@jupyter-widgets/base",
       "_view_module_version": "1.2.0",
       "_view_name": "LayoutView",
       "align_content": null,
       "align_items": null,
       "align_self": null,
       "border": null,
       "bottom": null,
       "display": null,
       "flex": null,
       "flex_flow": null,
       "grid_area": null,
       "grid_auto_columns": null,
       "grid_auto_flow": null,
       "grid_auto_rows": null,
       "grid_column": null,
       "grid_gap": null,
       "grid_row": null,
       "grid_template_areas": null,
       "grid_template_columns": null,
       "grid_template_rows": null,
       "height": null,
       "justify_content": null,
       "justify_items": null,
       "left": null,
       "margin": null,
       "max_height": null,
       "max_width": null,
       "min_height": null,
       "min_width": null,
       "object_fit": null,
       "object_position": null,
       "order": null,
       "overflow": null,
       "overflow_x": null,
       "overflow_y": null,
       "padding": null,
       "right": null,
       "top": null,
       "visibility": null,
       "width": null
      }
     },
     "e50df30ff88949c795cb2fb2700c81fc": {
      "model_module": "@jupyter-widgets/controls",
      "model_module_version": "1.5.0",
      "model_name": "ProgressStyleModel",
      "state": {
       "_model_module": "@jupyter-widgets/controls",
       "_model_module_version": "1.5.0",
       "_model_name": "ProgressStyleModel",
       "_view_count": null,
       "_view_module": "@jupyter-widgets/base",
       "_view_module_version": "1.2.0",
       "_view_name": "StyleView",
       "bar_color": null,
       "description_width": ""
      }
     },
     "ecdc687e47e14e19866f1c25b84997a7": {
      "model_module": "@jupyter-widgets/controls",
      "model_module_version": "1.5.0",
      "model_name": "DescriptionStyleModel",
      "state": {
       "_model_module": "@jupyter-widgets/controls",
       "_model_module_version": "1.5.0",
       "_model_name": "DescriptionStyleModel",
       "_view_count": null,
       "_view_module": "@jupyter-widgets/base",
       "_view_module_version": "1.2.0",
       "_view_name": "StyleView",
       "description_width": ""
      }
     },
     "f018da541e064a24b89d92d80f61b9f1": {
      "model_module": "@jupyter-widgets/base",
      "model_module_version": "1.2.0",
      "model_name": "LayoutModel",
      "state": {
       "_model_module": "@jupyter-widgets/base",
       "_model_module_version": "1.2.0",
       "_model_name": "LayoutModel",
       "_view_count": null,
       "_view_module": "@jupyter-widgets/base",
       "_view_module_version": "1.2.0",
       "_view_name": "LayoutView",
       "align_content": null,
       "align_items": null,
       "align_self": null,
       "border": null,
       "bottom": null,
       "display": null,
       "flex": null,
       "flex_flow": null,
       "grid_area": null,
       "grid_auto_columns": null,
       "grid_auto_flow": null,
       "grid_auto_rows": null,
       "grid_column": null,
       "grid_gap": null,
       "grid_row": null,
       "grid_template_areas": null,
       "grid_template_columns": null,
       "grid_template_rows": null,
       "height": null,
       "justify_content": null,
       "justify_items": null,
       "left": null,
       "margin": null,
       "max_height": null,
       "max_width": null,
       "min_height": null,
       "min_width": null,
       "object_fit": null,
       "object_position": null,
       "order": null,
       "overflow": null,
       "overflow_x": null,
       "overflow_y": null,
       "padding": null,
       "right": null,
       "top": null,
       "visibility": null,
       "width": null
      }
     },
     "f999d1488ef9470fb62e7b659c5612db": {
      "model_module": "@jupyter-widgets/base",
      "model_module_version": "1.2.0",
      "model_name": "LayoutModel",
      "state": {
       "_model_module": "@jupyter-widgets/base",
       "_model_module_version": "1.2.0",
       "_model_name": "LayoutModel",
       "_view_count": null,
       "_view_module": "@jupyter-widgets/base",
       "_view_module_version": "1.2.0",
       "_view_name": "LayoutView",
       "align_content": null,
       "align_items": null,
       "align_self": null,
       "border": null,
       "bottom": null,
       "display": null,
       "flex": null,
       "flex_flow": null,
       "grid_area": null,
       "grid_auto_columns": null,
       "grid_auto_flow": null,
       "grid_auto_rows": null,
       "grid_column": null,
       "grid_gap": null,
       "grid_row": null,
       "grid_template_areas": null,
       "grid_template_columns": null,
       "grid_template_rows": null,
       "height": null,
       "justify_content": null,
       "justify_items": null,
       "left": null,
       "margin": null,
       "max_height": null,
       "max_width": null,
       "min_height": null,
       "min_width": null,
       "object_fit": null,
       "object_position": null,
       "order": null,
       "overflow": null,
       "overflow_x": null,
       "overflow_y": null,
       "padding": null,
       "right": null,
       "top": null,
       "visibility": null,
       "width": null
      }
     },
     "fa0d418ff3e6440facca754d2a97c33e": {
      "model_module": "@jupyter-widgets/controls",
      "model_module_version": "1.5.0",
      "model_name": "DescriptionStyleModel",
      "state": {
       "_model_module": "@jupyter-widgets/controls",
       "_model_module_version": "1.5.0",
       "_model_name": "DescriptionStyleModel",
       "_view_count": null,
       "_view_module": "@jupyter-widgets/base",
       "_view_module_version": "1.2.0",
       "_view_name": "StyleView",
       "description_width": ""
      }
     }
    },
    "version_major": 2,
    "version_minor": 0
   }
  }
 },
 "nbformat": 4,
 "nbformat_minor": 5
}
